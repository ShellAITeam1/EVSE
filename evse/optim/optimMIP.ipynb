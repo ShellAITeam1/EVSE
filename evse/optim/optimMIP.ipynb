{
 "cells": [
  {
   "cell_type": "code",
   "execution_count": 1,
   "metadata": {},
   "outputs": [],
   "source": [
    "import pandas as pd\n",
    "import numpy as np"
   ]
  },
  {
   "cell_type": "code",
   "execution_count": 2,
   "metadata": {},
   "outputs": [
    {
     "name": "stdout",
     "output_type": "stream",
     "text": [
      "Cardinal Optimizer v5.0.4. Build date Aug 19 2022\n",
      "Copyright Cardinal Operations 2022. All Rights Reserved\n",
      "\n"
     ]
    }
   ],
   "source": [
    "import pyomo.environ as pyo\n",
    "import pyomo.opt as pyopt\n",
    "\n",
    "from copt_pyomo import *"
   ]
  },
  {
   "cell_type": "code",
   "execution_count": null,
   "metadata": {},
   "outputs": [],
   "source": [
    "from evse.scoring import YearlyResult, get_scoring_dataframe"
   ]
  },
  {
   "cell_type": "code",
   "execution_count": 3,
   "metadata": {},
   "outputs": [],
   "source": [
    "class Data:\n",
    "    def __init__(self, path: str) -> None:    \n",
    "        demand_path = path + \"/forecast.csv\"\n",
    "        existingEV_path = path + \"/existing_EV_infrastructure_2018.csv\"\n",
    "        self.df_dem = pd.read_csv(demand_path)\n",
    "        self.df_dem = self.df_dem.set_index(\"demand_point_index\", drop=True)\n",
    "        self.df_ex = pd.read_csv(existingEV_path)\n",
    "        self.df_ex = self.df_ex.set_index(\"supply_point_index\", drop=True)\n",
    "        \n",
    "path = \"data\"\n",
    "data = Data(path)"
   ]
  },
  {
   "cell_type": "code",
   "execution_count": 104,
   "metadata": {},
   "outputs": [],
   "source": [
    "class OptModel(pyo.ConcreteModel):\n",
    "    def __init__(self, data):\n",
    "        super().__init__()\n",
    "        self.data = data\n",
    "    \n",
    "    def buildSets(self):\n",
    "        self.i = pyo.Set(initialize=self.data.df_dem.index)\n",
    "        self.j = pyo.Set(initialize=self.data.df_ex.index)\n",
    "        self.k = pyo.Set(initialize=[2019, 2020])\n",
    "        self.solver = pyopt.SolverFactory('copt_direct')\n",
    "        self.solver.options[\"relgap\"] = 1e-3\n",
    "    \n",
    "    def buildParams(self):\n",
    "        def d_init(self, i, k):\n",
    "            return self.data.df_dem.loc[i, f\"{k}\"]\n",
    "        self.d = pyo.Param(self.i, self.k, initialize=d_init)\n",
    "        \n",
    "        def exSCS_init(self, j):\n",
    "            return self.data.df_ex.loc[j, \"existing_num_SCS\"]\n",
    "        self.exSCS = pyo.Param(self.j, initialize=exSCS_init)\n",
    "        \n",
    "        def exFCS_init(self, j):\n",
    "            return self.data.df_ex.loc[j, \"existing_num_FCS\"]\n",
    "        self.exFCS = pyo.Param(self.j, initialize=exFCS_init)\n",
    "        \n",
    "        def numPS_init(self, j):\n",
    "            return self.data.df_ex.loc[j, \"total_parking_slots\"]\n",
    "        self.numPS = pyo.Param(self.j, initialize=numPS_init)\n",
    "        \n",
    "        def dist_init(self, i ,j):\n",
    "            return np.sqrt((self.data.df_ex.loc[j, \"x_coordinate\"] - self.data.df_dem.loc[i, \"x_coordinate\"]) ** 2.0 +\n",
    "                           (self.data.df_ex.loc[j, \"y_coordinate\"] - self.data.df_dem.loc[i, \"y_coordinate\"]) ** 2.0)\n",
    "        self.dist = pyo.Param(self.i, self.j, initialize=dist_init)\n",
    "        \n",
    "        self.capSCS = 200\n",
    "        self.capFCS = 400\n",
    "        \n",
    "    def buildVars(self):\n",
    "        self.ds = pyo.Var(self.i, self.j, self.k, domain=pyo.NonNegativeReals)\n",
    "        self.insSCS = pyo.Var(self.j, self.k, domain=pyo.NonNegativeIntegers)\n",
    "        self.insFCS = pyo.Var(self.j, self.k, domain=pyo.NonNegativeIntegers)\n",
    "\n",
    "    def buildConstraints(self):\n",
    "        def satDemCtr_rule(self, j, k):\n",
    "            if k == 2019:\n",
    "                existing_SCS = self.exSCS[j] + self.insSCS[j, 2019]\n",
    "                existing_FCS = self.exFCS[j] + self.insFCS[j, 2019]\n",
    "            else:\n",
    "                existing_SCS = self.exSCS[j] + pyo.quicksum(self.insSCS[j, k1] for k1 in self.k)\n",
    "                existing_FCS = self.exFCS[j] + pyo.quicksum(self.insFCS[j, k1] for k1 in self.k)\n",
    "            ret = pyo.quicksum(self.ds[i, j, k] for i in self.i) <= \\\n",
    "                self.capSCS * existing_SCS + self.capFCS * existing_FCS - 1e-4\n",
    "            return ret \n",
    "        self.satDemCtr = pyo.Constraint(self.j, self.k, rule=satDemCtr_rule)\n",
    "        \n",
    "        def forDemCtr_rule(self, i, k):\n",
    "            ret = pyo.quicksum(self.ds[i, j, k] for j in self.j) == \\\n",
    "                self.d[i, k]\n",
    "            return ret \n",
    "        self.forDemCtr = pyo.Constraint(self.i, self.k, rule=forDemCtr_rule) \n",
    "        \n",
    "        def maxStaCtr_rule(self, j, k):\n",
    "            if self.numPS[j] == 0:\n",
    "                pyo.Constraint.Skip \n",
    "            if k == 2019:\n",
    "                existing_SCS = self.exSCS[j] + self.insSCS[j, 2019]\n",
    "                existing_FCS = self.exFCS[j] + self.insFCS[j, 2019]\n",
    "            else:\n",
    "                existing_SCS = self.exSCS[j] + pyo.quicksum(self.insSCS[j, k1] for k1 in self.k)\n",
    "                existing_FCS = self.exFCS[j] + pyo.quicksum(self.insFCS[j, k1] for k1 in self.k)\n",
    "            ret = existing_FCS + existing_SCS <= self.numPS[j]\n",
    "            return ret \n",
    "        self.maxStaCtr = pyo.Constraint(self.j, self.k, rule=maxStaCtr_rule)\n",
    "        \n",
    "    def buildObjective(self):\n",
    "        def objRule(self):\n",
    "            return pyo.quicksum(self.dist[i, j] * self.ds[i, j, k] for k in self.k for j in self.j for i in self.i) \\\n",
    "                + 600 * pyo.quicksum(self.insSCS[j, k] + 1.5 * self.insFCS[j, k] for k in self.k for j in self.j)\n",
    "        self.cost = pyo.Objective(rule=objRule, sense=pyo.minimize)\n",
    "        \n",
    "    def solve(self):\n",
    "        self.results = self.solver.solve(self, tee=True) "
   ]
  },
  {
   "cell_type": "code",
   "execution_count": 105,
   "metadata": {},
   "outputs": [],
   "source": [
    "model = OptModel(data)\n",
    "model.buildSets()\n",
    "model.buildParams()\n",
    "model.buildVars()\n",
    "model.buildConstraints()\n",
    "model.buildObjective()"
   ]
  },
  {
   "cell_type": "code",
   "execution_count": 107,
   "metadata": {},
   "outputs": [
    {
     "name": "stdout",
     "output_type": "stream",
     "text": [
      "Setting parameter 'RelGap' to 0.001\n",
      "Model fingerprint: 9f463569\n",
      "\n",
      "Hardware has 10 cores and 10 threads. Using instruction set ARMV8 (30)\n",
      "Minimizing a MIP problem\n",
      "\n",
      "The original problem has:\n",
      "    8592 rows, 819600 columns and 1639600 non-zero elements\n",
      "    400 integers\n",
      "\n",
      "Presolving the problem\n",
      "\n",
      "The presolved problem has:\n",
      "    8591 rows, 819598 columns and 1639594 non-zero elements\n",
      "    2 binaries and 396 integers\n",
      "\n",
      "Starting the MIP solver with 10 threads and 32 tasks\n",
      "\n",
      "     Nodes    Active  LPit/n  IntInf     BestBound  BestSolution    Gap   Time\n",
      "         0         1      --       0  0.000000e+00            --    Inf  7.71s\n",
      "         0         1      --      25  3.372405e+06            --    Inf 15.03s\n",
      "H        0         1      --      25  3.372405e+06  3.382245e+06  0.29% 15.05s\n",
      "         0         1      --      25  3.372405e+06  3.382245e+06  0.29% 20.11s\n",
      "         0         1      --      18  3.372489e+06  3.382245e+06  0.29% 21.61s\n",
      "H        0         1      --      18  3.372489e+06  3.378981e+06  0.19% 21.64s\n",
      "         0         1      --      18  3.372489e+06  3.378981e+06  0.19% 21.70s\n",
      "         0         1      --      18  3.372511e+06  3.378981e+06  0.19% 22.17s\n",
      "         0         1      --      18  3.372511e+06  3.378981e+06  0.19% 22.19s\n",
      "         0         1      --      15  3.372535e+06  3.378981e+06  0.19% 22.68s\n",
      "H        0         1      --      15  3.372535e+06  3.378044e+06  0.16% 22.69s\n",
      "         0         1      --      15  3.372535e+06  3.378044e+06  0.16% 22.72s\n",
      "         0         1      --      13  3.372547e+06  3.378044e+06  0.16% 23.16s\n",
      "H        0         1      --      13  3.372547e+06  3.377066e+06  0.13% 23.17s\n",
      "         0         1      --      13  3.372547e+06  3.377066e+06  0.13% 23.21s\n",
      "\n",
      "     Nodes    Active  LPit/n  IntInf     BestBound  BestSolution    Gap   Time\n",
      "         0         1      --      14  3.372559e+06  3.377066e+06  0.13% 23.69s\n",
      "         0         1      --      14  3.372559e+06  3.377066e+06  0.13% 23.71s\n",
      "         0         1      --      14  3.372562e+06  3.377066e+06  0.13% 24.30s\n",
      "         0         1      --      12  3.372565e+06  3.377066e+06  0.13% 24.87s\n",
      "         0         1      --      13  3.372566e+06  3.377066e+06  0.13% 25.36s\n",
      "         0         1      --      13  3.372566e+06  3.377066e+06  0.13% 25.39s\n",
      "         0         1      --      13  3.372571e+06  3.377066e+06  0.13% 25.92s\n",
      "H        0         1      --      13  3.372571e+06  3.376008e+06  0.10% 25.96s\n",
      "         0         1      --      13  3.372571e+06  3.376008e+06  0.10% 26.01s\n",
      "         0         1      --      12  3.372573e+06  3.376008e+06  0.10% 26.53s\n",
      "         0         1      --       7  3.372575e+06  3.376008e+06  0.10% 27.01s\n",
      "H        0         1      --       7  3.372575e+06  3.374634e+06  0.06% 27.02s\n",
      "         1         1   348.0       7  3.372575e+06  3.374634e+06  0.06% 27.05s\n",
      "         1         1   348.0       7  3.372575e+06  3.374634e+06  0.06% 27.05s\n",
      "\n",
      "Best solution   : 3374634.041827640\n",
      "Best bound      : 3372574.948413915\n",
      "Best gap        : 0.0610%\n",
      "Solve time      : 27.17\n",
      "Solve node      : 1\n",
      "MIP status      : solved\n",
      "Solution status : integer optimal (relative gap limit 0.001)\n",
      "\n",
      "Violations      :     absolute     relative\n",
      "  bounds        :  2.51006e-11  2.51006e-11\n",
      "  rows          :  8.58336e-12  1.36315e-13\n",
      "  integrality   :            0\n"
     ]
    }
   ],
   "source": [
    "model.solve()"
   ]
  },
  {
   "cell_type": "code",
   "execution_count": null,
   "metadata": {},
   "outputs": [],
   "source": [
    "class OptResults:\n",
    "    def __init__(self, model):\n",
    "        self.model = model\n",
    "        \n",
    "    def resultsToDf(self):\n",
    "        years = [2019, 2020]\n",
    "        names_tuples = [(\"value\", s) for s in self.model.j]\n",
    "        x_index = [d for d in self.model.i]\n",
    "        cols_idx = pd.MultiIndex.from_tuples(names_tuples, names=[None, \"supply_point_index\"])\n",
    "        \n",
    "        for k in self.model.k:\n",
    "            df_insSCS = pd.DataFrame(columns=[\"supply_point_index\", \"value\"])\n",
    "            df_insSCS = df_insSCS.set_index(\"supply_point_index\")\n",
    "            df_insFCS = pd.DataFrame(columns=[\"supply_point_index\", \"value\"])\n",
    "            df_insFCS = df_insFCS.set_index(\"supply_point_index\")\n",
    "            df_ds = pd.DataFrame(index=pd.Index(x_index, name=\"demand_point_index\"), columns=cols_idx)\n",
    "            \n",
    "            for j in self.model.j:\n",
    "                existingSCS = model.exSCS[j] \n",
    "                existingFCS = model.exFCS[j] \n",
    "                if k == 2019:\n",
    "                    existingSCS += self.model.insSCS[j, k].value\n",
    "                    existingFCS += self.model.insFCS[j, k].value\n",
    "                else:\n",
    "                    existingSCS += sum(self.model.insSCS[j, k1].value for k1 in self.model.k)\n",
    "                    existingFCS += sum(self.model.insFCS[j, k1].value for k1 in self.model.k)\n",
    "                df_insSCS.loc[j, \"value\"] = round(existingSCS)\n",
    "                df_insFCS.loc[j, \"value\"] = round(existingFCS)    \n",
    "                for i in self.model.i:\n",
    "                    val = self.model.ds[i, j, k].value\n",
    "                    df_ds.loc[i, \"value\"][j] = val if val >= 1e-6 else 0.0\n",
    "            df_ds.to_csv(f\"demand_supply_matrix_{k}.csv\")   \n",
    "            df_insSCS = df_insSCS.loc[:, \"value\"].astype(int)\n",
    "            df_insSCS.to_csv(f\"slow_charging_stations_on_supply_point_matrix_{k}.csv\")\n",
    "            df_insFCS = df_insFCS.loc[:, \"value\"].astype(int)\n",
    "            df_insFCS.to_csv(f\"fast_charging_stations_on_supply_point_matrix_{k}.csv\")"
   ]
  },
  {
   "cell_type": "code",
   "execution_count": null,
   "metadata": {},
   "outputs": [],
   "source": [
    "res = OptResults(model)\n",
    "res.resultsToDf()"
   ]
  },
  {
   "cell_type": "code",
   "execution_count": null,
   "metadata": {},
   "outputs": [],
   "source": [
    "given_yearly_results = [\n",
    "            YearlyResult(\n",
    "                year=k,\n",
    "                slow_charging_stations_on_supply_point_matrix=pd.read_csv(\n",
    "                    f\"slow_charging_stations_on_supply_point_matrix_{k}.csv\"\n",
    "                ),\n",
    "                fast_charging_stations_on_supply_point_matrix=pd.read_csv(\n",
    "                    f\"fast_charging_stations_on_supply_point_matrix_{k}.csv\"\n",
    "                ),\n",
    "                demand_supply_matrix=pd.read_csv(\n",
    "                    f\"demand_supply_matrix_{k}.csv\", header=[0, 1], index_col=[0]\n",
    "                ),\n",
    "            )\n",
    "        for k in model.k]\n",
    "\n",
    "# When\n",
    "submission_dataframe = get_scoring_dataframe(given_yearly_results)"
   ]
  },
  {
   "cell_type": "code",
   "execution_count": null,
   "metadata": {},
   "outputs": [],
   "source": [
    "submission_dataframe.to_csv(\"submission_MRC.csv\")"
   ]
  },
  {
   "cell_type": "code",
   "execution_count": null,
   "metadata": {},
   "outputs": [],
   "source": [
    "#If infeasible model\n",
    "# from pyomo.util.infeasible import log_infeasible_constraints\n",
    "# import logging\n",
    "# model.write('model.lp', io_options={'symbolic_solver_labels':True})\n",
    "# log_infeasible_constraints(model, log_expression=True, log_variables=True)\n",
    "# logging.basicConfig(filename='infeas.log', encoding='utf-8', level=logging.INFO)\n",
    "# # print(value(m.z))"
   ]
  }
 ],
 "metadata": {
  "kernelspec": {
   "display_name": "Python 3.10.5 ('py310')",
   "language": "python",
   "name": "python3"
  },
  "language_info": {
   "codemirror_mode": {
    "name": "ipython",
    "version": 3
   },
   "file_extension": ".py",
   "mimetype": "text/x-python",
   "name": "python",
   "nbconvert_exporter": "python",
   "pygments_lexer": "ipython3",
   "version": "3.10.5"
  },
  "orig_nbformat": 4,
  "vscode": {
   "interpreter": {
    "hash": "2188dc54a6508a42c9fce3e6e9b2c9c9a4da77d925b31cfa7fabba8d7b1361e2"
   }
  }
 },
 "nbformat": 4,
 "nbformat_minor": 2
}
