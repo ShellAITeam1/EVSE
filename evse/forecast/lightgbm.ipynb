{
 "cells": [
  {
   "cell_type": "code",
   "execution_count": 29,
   "metadata": {},
   "outputs": [],
   "source": [
    "import pandas as pd\n",
    "import numpy as np"
   ]
  },
  {
   "cell_type": "code",
   "execution_count": 45,
   "metadata": {},
   "outputs": [],
   "source": [
    "import optuna.integration.lightgbm as gbm\n",
    "from sklearn.metrics import mean_squared_error, mean_absolute_error, r2_score\n",
    "import optuna as opt\n"
   ]
  },
  {
   "cell_type": "code",
   "execution_count": 166,
   "metadata": {},
   "outputs": [],
   "source": [
    "class Data:\n",
    "    def __init__(self, path: str) -> None:    \n",
    "        demand_path = path + \"/Demand_history.csv\"\n",
    "        existingEV_path = path + \"/existing_EV_infrastructure_2018.csv\"\n",
    "        self.df_orig = pd.read_csv(demand_path)\n",
    "        self.df_trans = self.df_orig\n",
    "        self.years_window = 2\n",
    "        self.y_cols = [f\"n-{y}\" for y in range(1, self.years_window + 1)]\n",
    "        \n",
    "    def clean(self):\n",
    "        self.df_orig.loc[(self.df_orig != 0).any(1)]\n",
    "        print(self.df_orig)\n",
    "        \n",
    "    def split(self):\n",
    "        \n",
    "        x_train = pd.DataFrame(columns=[\"x_coordinate\", \"y_coordinate\", *self.y_cols])\n",
    "        x_test = pd.DataFrame(columns=[\"x_coordinate\", \"y_coordinate\", *self.y_cols])\n",
    "        y_train = pd.Series(dtype=np.float64)\n",
    "        y_test = pd.Series(dtype=np.float64)\n",
    "        for y in self.df_trans.columns[self.df_trans.columns.str.startswith('20')]:\n",
    "            y = int(y)\n",
    "            if y < 2010 + self.years_window:\n",
    "                continue\n",
    "            y_cols = [f\"{y - i}\" for i in range(1, self.years_window + 1)]\n",
    "            stack_x = self.df_trans.loc[:, self.df_trans.columns.isin([\"x_coordinate\", \"y_coordinate\", *y_cols])]\n",
    "            y_dict = {f\"{y - i}\": f\"n-{i}\" for i in range(1, self.years_window + 1)}\n",
    "            stack_x = stack_x.rename(columns=y_dict)\n",
    "            stack_y = self.df_trans.loc[:, f\"{y}\"]\n",
    "            if y == 2018:\n",
    "                 x_test = pd.concat([x_test, stack_x], axis=0, ignore_index=True)\n",
    "                 y_test = pd.concat([y_test, stack_y], axis=0, ignore_index=True)\n",
    "            else:\n",
    "                x_train = pd.concat([x_train, stack_x], axis=0, ignore_index=True)\n",
    "                y_train = pd.concat([y_train, stack_y], axis=0, ignore_index=True)\n",
    "        \n",
    "        data.x_train = x_train\n",
    "        data.x_test = x_test\n",
    "        data.y_train = y_train\n",
    "        data.y_test = y_test\n",
    "        \n",
    "    def addYearDemandfromForecast(self, year: int, predicted: np.array) -> None:\n",
    "        predicted = predicted.reshape(-1, 1)\n",
    "        self.df_trans[f\"{year}\"] = predicted        \n",
    "                  \n",
    "path = \"data\"\n",
    "data = Data(path)\n",
    "data.split()"
   ]
  },
  {
   "cell_type": "code",
   "execution_count": 167,
   "metadata": {},
   "outputs": [],
   "source": [
    "class Model:\n",
    "    def __init__(self, data: Data) -> None:\n",
    "        self.data = data\n",
    "    \n",
    "    def fit(self) -> None:\n",
    "        params = {\n",
    "            \"n_estimators\": 10000,\n",
    "            \"objective\": \"regression\",\n",
    "            \"metric\": \"rmse\",\n",
    "            \"verbosity\": -1,\n",
    "            \"boosting_type\": \"gbdt\",\n",
    "            \"categorical_feature\": 0\n",
    "         }\n",
    "        dtrain = gbm.Dataset(data.x_train, data.y_train)\n",
    "        print(dtrain)\n",
    "        deval = gbm.Dataset(data.x_test, data.y_test, reference=dtrain)\n",
    "        self.model = gbm.train(params, train_set=dtrain, valid_sets=deval,\n",
    "            early_stopping_rounds=100)\n",
    "        \n",
    "        pred = self.model.predict(data.x_train)\n",
    "        train_rmse = np.sqrt(mean_squared_error(data.y_train, pred))\n",
    "        train_mae = mean_absolute_error(data.y_train, pred)   \n",
    "        train_r2 = r2_score(data.y_train, pred) \n",
    "        pred = self.model.predict(data.x_test)\n",
    "        test_rmse = np.sqrt(mean_squared_error(data.y_test, pred))\n",
    "        test_mae = mean_absolute_error(data.y_test, pred)   \n",
    "        test_r2 = r2_score(data.y_test, pred)    \n",
    "        \n",
    "        print(f\"training: rmse={train_rmse}, mae={train_mae}, r2={train_r2}\")   \n",
    "        print(f\"test: rmse={test_rmse}, mae={test_mae}, r2={test_r2}\")                        \n",
    "    \n",
    "    def predict(self, year: int) -> pd.Series:\n",
    "        y_cols = [f\"{year - i}\" for i in range(1, data.years_window + 1)]\n",
    "        x_forecast = \\\n",
    "            data.df_trans.loc[:,\n",
    "                              data.df_trans.columns.isin([\"x_coordinate\", \"y_coordinate\", *y_cols])]        \n",
    "        return self.model.predict(x_forecast)\n",
    "    \n",
    "    def set_params(self, params):\n",
    "        params['n_estimators'] = int(params['n_estimators'])\n",
    "        params['max_depth'] = int(params['max_depth'])\n",
    "        self.model.set_params(**params)\n",
    "        "
   ]
  },
  {
   "cell_type": "code",
   "execution_count": 168,
   "metadata": {},
   "outputs": [],
   "source": [
    "model = Model(data)"
   ]
  },
  {
   "cell_type": "code",
   "execution_count": 169,
   "metadata": {},
   "outputs": [
    {
     "name": "stderr",
     "output_type": "stream",
     "text": [
      "\u001b[32m[I 2022-09-14 16:37:25,884]\u001b[0m A new study created in memory with name: no-name-dc322646-72f4-4bfd-9812-2afd5769346e\u001b[0m\n"
     ]
    },
    {
     "name": "stdout",
     "output_type": "stream",
     "text": [
      "<lightgbm.basic.Dataset object at 0x37a78aa10>\n"
     ]
    },
    {
     "name": "stderr",
     "output_type": "stream",
     "text": [
      "feature_fraction, val_score: inf:   0%|          | 0/7 [00:00<?, ?it/s]"
     ]
    },
    {
     "name": "stdout",
     "output_type": "stream",
     "text": [
      "Training until validation scores don't improve for 100 rounds\n"
     ]
    },
    {
     "name": "stderr",
     "output_type": "stream",
     "text": [
      "/Users/manuel.ramos/miniforge3/envs/py310/lib/python3.10/site-packages/lightgbm/engine.py:148: UserWarning: Found `n_estimators` in params. Will use it instead of argument\n",
      "  _log_warning(\"Found `{}` in params. Will use it instead of argument\".format(alias))\n",
      "/Users/manuel.ramos/miniforge3/envs/py310/lib/python3.10/site-packages/lightgbm/basic.py:1222: UserWarning: categorical_feature keyword has been found in `params` and will be ignored.\n",
      "Please use categorical_feature argument of the Dataset constructor to pass this parameter.\n",
      "  _log_warning('{0} keyword has been found in `params` and will be ignored.\\n'\n",
      "feature_fraction, val_score: 16.408345:  14%|#4        | 1/7 [00:02<00:12,  2.06s/it]\u001b[32m[I 2022-09-14 16:37:27,955]\u001b[0m Trial 0 finished with value: 16.40834461303095 and parameters: {'feature_fraction': 1.0}. Best is trial 0 with value: 16.40834461303095.\u001b[0m\n",
      "feature_fraction, val_score: 16.408345:  14%|#4        | 1/7 [00:02<00:12,  2.06s/it]"
     ]
    },
    {
     "name": "stdout",
     "output_type": "stream",
     "text": [
      "Early stopping, best iteration is:\n",
      "[19]\tvalid_0's rmse: 16.4083\n",
      "Training until validation scores don't improve for 100 rounds\n"
     ]
    },
    {
     "name": "stderr",
     "output_type": "stream",
     "text": [
      "feature_fraction, val_score: 15.010743:  29%|##8       | 2/7 [00:04<00:10,  2.17s/it]\u001b[32m[I 2022-09-14 16:37:30,204]\u001b[0m Trial 1 finished with value: 15.010742984074376 and parameters: {'feature_fraction': 0.4}. Best is trial 1 with value: 15.010742984074376.\u001b[0m\n",
      "feature_fraction, val_score: 15.010743:  29%|##8       | 2/7 [00:04<00:10,  2.17s/it]"
     ]
    },
    {
     "name": "stdout",
     "output_type": "stream",
     "text": [
      "Early stopping, best iteration is:\n",
      "[25]\tvalid_0's rmse: 15.0107\n",
      "Training until validation scores don't improve for 100 rounds\n"
     ]
    },
    {
     "name": "stderr",
     "output_type": "stream",
     "text": [
      "feature_fraction, val_score: 15.010743:  43%|####2     | 3/7 [00:06<00:08,  2.13s/it]\u001b[32m[I 2022-09-14 16:37:32,286]\u001b[0m Trial 2 finished with value: 16.01780806571396 and parameters: {'feature_fraction': 0.8}. Best is trial 1 with value: 15.010742984074376.\u001b[0m\n",
      "feature_fraction, val_score: 15.010743:  43%|####2     | 3/7 [00:06<00:08,  2.13s/it]"
     ]
    },
    {
     "name": "stdout",
     "output_type": "stream",
     "text": [
      "Early stopping, best iteration is:\n",
      "[19]\tvalid_0's rmse: 16.0178\n",
      "Training until validation scores don't improve for 100 rounds\n"
     ]
    },
    {
     "name": "stderr",
     "output_type": "stream",
     "text": [
      "feature_fraction, val_score: 15.010743:  57%|#####7    | 4/7 [00:08<00:06,  2.11s/it]\u001b[32m[I 2022-09-14 16:37:34,351]\u001b[0m Trial 3 finished with value: 16.40834461303095 and parameters: {'feature_fraction': 0.8999999999999999}. Best is trial 1 with value: 15.010742984074376.\u001b[0m\n",
      "feature_fraction, val_score: 15.010743:  57%|#####7    | 4/7 [00:08<00:06,  2.11s/it]"
     ]
    },
    {
     "name": "stdout",
     "output_type": "stream",
     "text": [
      "Early stopping, best iteration is:\n",
      "[19]\tvalid_0's rmse: 16.4083\n",
      "Training until validation scores don't improve for 100 rounds\n"
     ]
    },
    {
     "name": "stderr",
     "output_type": "stream",
     "text": [
      "feature_fraction, val_score: 15.010743:  71%|#######1  | 5/7 [00:10<00:04,  2.14s/it]\u001b[32m[I 2022-09-14 16:37:36,545]\u001b[0m Trial 4 finished with value: 15.010742984074376 and parameters: {'feature_fraction': 0.5}. Best is trial 1 with value: 15.010742984074376.\u001b[0m\n",
      "feature_fraction, val_score: 15.010743:  71%|#######1  | 5/7 [00:10<00:04,  2.14s/it]"
     ]
    },
    {
     "name": "stdout",
     "output_type": "stream",
     "text": [
      "Early stopping, best iteration is:\n",
      "[25]\tvalid_0's rmse: 15.0107\n",
      "Training until validation scores don't improve for 100 rounds\n"
     ]
    },
    {
     "name": "stderr",
     "output_type": "stream",
     "text": [
      "feature_fraction, val_score: 15.010743:  86%|########5 | 6/7 [00:12<00:02,  2.19s/it]\u001b[32m[I 2022-09-14 16:37:38,827]\u001b[0m Trial 5 finished with value: 15.010742984074376 and parameters: {'feature_fraction': 0.6}. Best is trial 1 with value: 15.010742984074376.\u001b[0m\n",
      "feature_fraction, val_score: 15.010743:  86%|########5 | 6/7 [00:12<00:02,  2.19s/it]"
     ]
    },
    {
     "name": "stdout",
     "output_type": "stream",
     "text": [
      "Early stopping, best iteration is:\n",
      "[25]\tvalid_0's rmse: 15.0107\n",
      "Training until validation scores don't improve for 100 rounds\n"
     ]
    },
    {
     "name": "stderr",
     "output_type": "stream",
     "text": [
      "feature_fraction, val_score: 15.010743: 100%|##########| 7/7 [00:14<00:00,  2.13s/it]\u001b[32m[I 2022-09-14 16:37:40,852]\u001b[0m Trial 6 finished with value: 16.01780806571396 and parameters: {'feature_fraction': 0.7}. Best is trial 1 with value: 15.010742984074376.\u001b[0m\n",
      "feature_fraction, val_score: 15.010743: 100%|##########| 7/7 [00:14<00:00,  2.14s/it]\n"
     ]
    },
    {
     "name": "stdout",
     "output_type": "stream",
     "text": [
      "Early stopping, best iteration is:\n",
      "[19]\tvalid_0's rmse: 16.0178\n"
     ]
    },
    {
     "name": "stderr",
     "output_type": "stream",
     "text": [
      "num_leaves, val_score: 15.010743:   0%|          | 0/20 [00:00<?, ?it/s]"
     ]
    },
    {
     "name": "stdout",
     "output_type": "stream",
     "text": [
      "Training until validation scores don't improve for 100 rounds\n"
     ]
    },
    {
     "name": "stderr",
     "output_type": "stream",
     "text": [
      "num_leaves, val_score: 15.010743:   5%|5         | 1/20 [00:11<03:37, 11.43s/it]\u001b[32m[I 2022-09-14 16:37:52,283]\u001b[0m Trial 7 finished with value: 15.134080186416341 and parameters: {'num_leaves': 193}. Best is trial 7 with value: 15.134080186416341.\u001b[0m\n",
      "num_leaves, val_score: 15.010743:   5%|5         | 1/20 [00:11<03:37, 11.43s/it]"
     ]
    },
    {
     "name": "stdout",
     "output_type": "stream",
     "text": [
      "Early stopping, best iteration is:\n",
      "[25]\tvalid_0's rmse: 15.1341\n",
      "Training until validation scores don't improve for 100 rounds\n"
     ]
    },
    {
     "name": "stderr",
     "output_type": "stream",
     "text": [
      "num_leaves, val_score: 15.010743:  10%|#         | 2/20 [00:17<02:30,  8.36s/it]\u001b[32m[I 2022-09-14 16:37:58,498]\u001b[0m Trial 8 finished with value: 15.19637562280185 and parameters: {'num_leaves': 98}. Best is trial 7 with value: 15.134080186416341.\u001b[0m\n",
      "num_leaves, val_score: 15.010743:  10%|#         | 2/20 [00:17<02:30,  8.36s/it]"
     ]
    },
    {
     "name": "stdout",
     "output_type": "stream",
     "text": [
      "Early stopping, best iteration is:\n",
      "[25]\tvalid_0's rmse: 15.1964\n",
      "Training until validation scores don't improve for 100 rounds\n"
     ]
    },
    {
     "name": "stderr",
     "output_type": "stream",
     "text": [
      "num_leaves, val_score: 15.010743:  15%|#5        | 3/20 [00:23<02:01,  7.12s/it]\u001b[32m[I 2022-09-14 16:38:04,149]\u001b[0m Trial 9 finished with value: 15.182196527516005 and parameters: {'num_leaves': 95}. Best is trial 7 with value: 15.134080186416341.\u001b[0m\n",
      "num_leaves, val_score: 15.010743:  15%|#5        | 3/20 [00:23<02:01,  7.12s/it]"
     ]
    },
    {
     "name": "stdout",
     "output_type": "stream",
     "text": [
      "Early stopping, best iteration is:\n",
      "[25]\tvalid_0's rmse: 15.1822\n",
      "Training until validation scores don't improve for 100 rounds\n"
     ]
    },
    {
     "name": "stderr",
     "output_type": "stream",
     "text": [
      "num_leaves, val_score: 15.010743:  20%|##        | 4/20 [00:28<01:39,  6.24s/it]\u001b[32m[I 2022-09-14 16:38:09,034]\u001b[0m Trial 10 finished with value: 15.073884074870776 and parameters: {'num_leaves': 66}. Best is trial 10 with value: 15.073884074870776.\u001b[0m\n",
      "num_leaves, val_score: 15.010743:  20%|##        | 4/20 [00:28<01:39,  6.24s/it]"
     ]
    },
    {
     "name": "stdout",
     "output_type": "stream",
     "text": [
      "Early stopping, best iteration is:\n",
      "[25]\tvalid_0's rmse: 15.0739\n",
      "Training until validation scores don't improve for 100 rounds\n"
     ]
    },
    {
     "name": "stderr",
     "output_type": "stream",
     "text": [
      "num_leaves, val_score: 15.010743:  25%|##5       | 5/20 [00:29<01:06,  4.43s/it]\u001b[32m[I 2022-09-14 16:38:10,246]\u001b[0m Trial 11 finished with value: 15.315692862943239 and parameters: {'num_leaves': 16}. Best is trial 10 with value: 15.073884074870776.\u001b[0m\n",
      "num_leaves, val_score: 15.010743:  25%|##5       | 5/20 [00:29<01:06,  4.43s/it]"
     ]
    },
    {
     "name": "stdout",
     "output_type": "stream",
     "text": [
      "Early stopping, best iteration is:\n",
      "[27]\tvalid_0's rmse: 15.3157\n",
      "Training until validation scores don't improve for 100 rounds\n"
     ]
    },
    {
     "name": "stderr",
     "output_type": "stream",
     "text": [
      "num_leaves, val_score: 15.010743:  30%|###       | 6/20 [00:30<00:46,  3.33s/it]\u001b[32m[I 2022-09-14 16:38:11,447]\u001b[0m Trial 12 finished with value: 15.384496153299633 and parameters: {'num_leaves': 14}. Best is trial 10 with value: 15.073884074870776.\u001b[0m\n",
      "num_leaves, val_score: 15.010743:  30%|###       | 6/20 [00:30<00:46,  3.33s/it]"
     ]
    },
    {
     "name": "stdout",
     "output_type": "stream",
     "text": [
      "Early stopping, best iteration is:\n",
      "[28]\tvalid_0's rmse: 15.3845\n",
      "Training until validation scores don't improve for 100 rounds\n"
     ]
    },
    {
     "name": "stderr",
     "output_type": "stream",
     "text": [
      "num_leaves, val_score: 15.010743:  35%|###5      | 7/20 [00:36<00:52,  4.01s/it]\u001b[32m[I 2022-09-14 16:38:16,864]\u001b[0m Trial 13 finished with value: 15.182196527516005 and parameters: {'num_leaves': 95}. Best is trial 10 with value: 15.073884074870776.\u001b[0m\n",
      "num_leaves, val_score: 15.010743:  35%|###5      | 7/20 [00:36<00:52,  4.01s/it]"
     ]
    },
    {
     "name": "stdout",
     "output_type": "stream",
     "text": [
      "Early stopping, best iteration is:\n",
      "[25]\tvalid_0's rmse: 15.1822\n",
      "Training until validation scores don't improve for 100 rounds\n"
     ]
    },
    {
     "name": "stderr",
     "output_type": "stream",
     "text": [
      "num_leaves, val_score: 15.010743:  40%|####      | 8/20 [00:43<01:01,  5.14s/it]\u001b[32m[I 2022-09-14 16:38:24,414]\u001b[0m Trial 14 finished with value: 15.12781908670164 and parameters: {'num_leaves': 123}. Best is trial 10 with value: 15.073884074870776.\u001b[0m\n",
      "num_leaves, val_score: 15.010743:  40%|####      | 8/20 [00:43<01:01,  5.14s/it]"
     ]
    },
    {
     "name": "stdout",
     "output_type": "stream",
     "text": [
      "Early stopping, best iteration is:\n",
      "[25]\tvalid_0's rmse: 15.1278\n",
      "Training until validation scores don't improve for 100 rounds\n"
     ]
    },
    {
     "name": "stderr",
     "output_type": "stream",
     "text": [
      "num_leaves, val_score: 15.010743:  45%|####5     | 9/20 [00:51<01:05,  5.97s/it]\u001b[32m[I 2022-09-14 16:38:32,224]\u001b[0m Trial 15 finished with value: 15.19637562280185 and parameters: {'num_leaves': 98}. Best is trial 10 with value: 15.073884074870776.\u001b[0m\n",
      "num_leaves, val_score: 15.010743:  45%|####5     | 9/20 [00:51<01:05,  5.97s/it]"
     ]
    },
    {
     "name": "stdout",
     "output_type": "stream",
     "text": [
      "Early stopping, best iteration is:\n",
      "[25]\tvalid_0's rmse: 15.1964\n",
      "Training until validation scores don't improve for 100 rounds\n"
     ]
    },
    {
     "name": "stderr",
     "output_type": "stream",
     "text": [
      "num_leaves, val_score: 15.010743:  50%|#####     | 10/20 [00:57<01:01,  6.14s/it]\u001b[32m[I 2022-09-14 16:38:38,737]\u001b[0m Trial 16 finished with value: 15.188880358234762 and parameters: {'num_leaves': 117}. Best is trial 10 with value: 15.073884074870776.\u001b[0m\n",
      "num_leaves, val_score: 15.010743:  50%|#####     | 10/20 [00:57<01:01,  6.14s/it]"
     ]
    },
    {
     "name": "stdout",
     "output_type": "stream",
     "text": [
      "Early stopping, best iteration is:\n",
      "[25]\tvalid_0's rmse: 15.1889\n",
      "Training until validation scores don't improve for 100 rounds\n"
     ]
    },
    {
     "name": "stderr",
     "output_type": "stream",
     "text": [
      "num_leaves, val_score: 15.010743:  55%|#####5    | 11/20 [01:10<01:13,  8.20s/it]\u001b[32m[I 2022-09-14 16:38:51,597]\u001b[0m Trial 17 finished with value: 15.135934766345429 and parameters: {'num_leaves': 241}. Best is trial 10 with value: 15.073884074870776.\u001b[0m\n",
      "num_leaves, val_score: 15.010743:  55%|#####5    | 11/20 [01:10<01:13,  8.20s/it]"
     ]
    },
    {
     "name": "stdout",
     "output_type": "stream",
     "text": [
      "Early stopping, best iteration is:\n",
      "[25]\tvalid_0's rmse: 15.1359\n",
      "Training until validation scores don't improve for 100 rounds\n"
     ]
    },
    {
     "name": "stderr",
     "output_type": "stream",
     "text": [
      "num_leaves, val_score: 15.010743:  60%|######    | 12/20 [01:19<01:07,  8.39s/it]\u001b[32m[I 2022-09-14 16:39:00,430]\u001b[0m Trial 18 finished with value: 15.158186544285483 and parameters: {'num_leaves': 165}. Best is trial 10 with value: 15.073884074870776.\u001b[0m\n",
      "num_leaves, val_score: 15.010743:  60%|######    | 12/20 [01:19<01:07,  8.39s/it]"
     ]
    },
    {
     "name": "stdout",
     "output_type": "stream",
     "text": [
      "Early stopping, best iteration is:\n",
      "[25]\tvalid_0's rmse: 15.1582\n",
      "Training until validation scores don't improve for 100 rounds\n"
     ]
    },
    {
     "name": "stderr",
     "output_type": "stream",
     "text": [
      "num_leaves, val_score: 15.010743:  65%|######5   | 13/20 [01:22<00:47,  6.86s/it]\u001b[32m[I 2022-09-14 16:39:03,757]\u001b[0m Trial 19 finished with value: 15.060095743587508 and parameters: {'num_leaves': 53}. Best is trial 19 with value: 15.060095743587508.\u001b[0m\n",
      "num_leaves, val_score: 15.010743:  65%|######5   | 13/20 [01:22<00:47,  6.86s/it]"
     ]
    },
    {
     "name": "stdout",
     "output_type": "stream",
     "text": [
      "Early stopping, best iteration is:\n",
      "[25]\tvalid_0's rmse: 15.0601\n",
      "Training until validation scores don't improve for 100 rounds\n"
     ]
    },
    {
     "name": "stderr",
     "output_type": "stream",
     "text": [
      "num_leaves, val_score: 15.010743:  70%|#######   | 14/20 [01:26<00:35,  5.93s/it]\u001b[32m[I 2022-09-14 16:39:07,542]\u001b[0m Trial 20 finished with value: 15.090323018486595 and parameters: {'num_leaves': 57}. Best is trial 19 with value: 15.060095743587508.\u001b[0m\n",
      "num_leaves, val_score: 15.010743:  70%|#######   | 14/20 [01:26<00:35,  5.93s/it]"
     ]
    },
    {
     "name": "stdout",
     "output_type": "stream",
     "text": [
      "Early stopping, best iteration is:\n",
      "[25]\tvalid_0's rmse: 15.0903\n",
      "Training until validation scores don't improve for 100 rounds\n"
     ]
    },
    {
     "name": "stderr",
     "output_type": "stream",
     "text": [
      "num_leaves, val_score: 15.010743:  75%|#######5  | 15/20 [01:30<00:26,  5.36s/it]\u001b[32m[I 2022-09-14 16:39:11,577]\u001b[0m Trial 21 finished with value: 15.106691536436657 and parameters: {'num_leaves': 51}. Best is trial 19 with value: 15.060095743587508.\u001b[0m\n",
      "num_leaves, val_score: 15.010743:  75%|#######5  | 15/20 [01:30<00:26,  5.36s/it]"
     ]
    },
    {
     "name": "stdout",
     "output_type": "stream",
     "text": [
      "Early stopping, best iteration is:\n",
      "[25]\tvalid_0's rmse: 15.1067\n",
      "Training until validation scores don't improve for 100 rounds\n"
     ]
    },
    {
     "name": "stderr",
     "output_type": "stream",
     "text": [
      "num_leaves, val_score: 15.010743:  80%|########  | 16/20 [01:34<00:20,  5.02s/it]\u001b[32m[I 2022-09-14 16:39:15,806]\u001b[0m Trial 22 finished with value: 15.11809517298249 and parameters: {'num_leaves': 49}. Best is trial 19 with value: 15.060095743587508.\u001b[0m\n",
      "num_leaves, val_score: 15.010743:  80%|########  | 16/20 [01:34<00:20,  5.02s/it]"
     ]
    },
    {
     "name": "stdout",
     "output_type": "stream",
     "text": [
      "Early stopping, best iteration is:\n",
      "[25]\tvalid_0's rmse: 15.1181\n",
      "Training until validation scores don't improve for 100 rounds\n"
     ]
    },
    {
     "name": "stderr",
     "output_type": "stream",
     "text": [
      "num_leaves, val_score: 15.010743:  85%|########5 | 17/20 [01:39<00:14,  4.78s/it]\u001b[32m[I 2022-09-14 16:39:20,028]\u001b[0m Trial 23 finished with value: 15.049699809031749 and parameters: {'num_leaves': 60}. Best is trial 23 with value: 15.049699809031749.\u001b[0m\n",
      "num_leaves, val_score: 15.010743:  85%|########5 | 17/20 [01:39<00:14,  4.78s/it]"
     ]
    },
    {
     "name": "stdout",
     "output_type": "stream",
     "text": [
      "Early stopping, best iteration is:\n",
      "[25]\tvalid_0's rmse: 15.0497\n",
      "Training until validation scores don't improve for 100 rounds\n"
     ]
    },
    {
     "name": "stderr",
     "output_type": "stream",
     "text": [
      "num_leaves, val_score: 15.010743:  90%|######### | 18/20 [01:48<00:12,  6.10s/it]\u001b[32m[I 2022-09-14 16:39:29,203]\u001b[0m Trial 24 finished with value: 15.17546928653827 and parameters: {'num_leaves': 150}. Best is trial 23 with value: 15.049699809031749.\u001b[0m\n",
      "num_leaves, val_score: 15.010743:  90%|######### | 18/20 [01:48<00:12,  6.10s/it]"
     ]
    },
    {
     "name": "stdout",
     "output_type": "stream",
     "text": [
      "Early stopping, best iteration is:\n",
      "[25]\tvalid_0's rmse: 15.1755\n",
      "Training until validation scores don't improve for 100 rounds\n"
     ]
    },
    {
     "name": "stderr",
     "output_type": "stream",
     "text": [
      "num_leaves, val_score: 15.010743:  95%|#########5| 19/20 [01:50<00:04,  5.00s/it]\u001b[32m[I 2022-09-14 16:39:31,633]\u001b[0m Trial 25 finished with value: 15.010742984074376 and parameters: {'num_leaves': 31}. Best is trial 25 with value: 15.010742984074376.\u001b[0m\n",
      "num_leaves, val_score: 15.010743:  95%|#########5| 19/20 [01:50<00:04,  5.00s/it]"
     ]
    },
    {
     "name": "stdout",
     "output_type": "stream",
     "text": [
      "Early stopping, best iteration is:\n",
      "[25]\tvalid_0's rmse: 15.0107\n",
      "Training until validation scores don't improve for 100 rounds\n"
     ]
    },
    {
     "name": "stderr",
     "output_type": "stream",
     "text": [
      "num_leaves, val_score: 15.010743: 100%|##########| 20/20 [01:51<00:00,  3.72s/it]\u001b[32m[I 2022-09-14 16:39:32,366]\u001b[0m Trial 26 finished with value: 15.871714024839095 and parameters: {'num_leaves': 6}. Best is trial 25 with value: 15.010742984074376.\u001b[0m\n",
      "num_leaves, val_score: 15.010743: 100%|##########| 20/20 [01:51<00:00,  5.58s/it]\n"
     ]
    },
    {
     "name": "stdout",
     "output_type": "stream",
     "text": [
      "Early stopping, best iteration is:\n",
      "[29]\tvalid_0's rmse: 15.8717\n"
     ]
    },
    {
     "name": "stderr",
     "output_type": "stream",
     "text": [
      "bagging, val_score: 15.010743:   0%|          | 0/10 [00:00<?, ?it/s]"
     ]
    },
    {
     "name": "stdout",
     "output_type": "stream",
     "text": [
      "Training until validation scores don't improve for 100 rounds\n"
     ]
    },
    {
     "name": "stderr",
     "output_type": "stream",
     "text": [
      "bagging, val_score: 14.827229:  10%|#         | 1/10 [00:02<00:21,  2.42s/it]\u001b[32m[I 2022-09-14 16:39:34,785]\u001b[0m Trial 27 finished with value: 14.827228516609862 and parameters: {'bagging_fraction': 0.5269801809894871, 'bagging_freq': 1}. Best is trial 27 with value: 14.827228516609862.\u001b[0m\n",
      "bagging, val_score: 14.827229:  10%|#         | 1/10 [00:02<00:21,  2.42s/it]"
     ]
    },
    {
     "name": "stdout",
     "output_type": "stream",
     "text": [
      "Early stopping, best iteration is:\n",
      "[25]\tvalid_0's rmse: 14.8272\n",
      "Training until validation scores don't improve for 100 rounds\n"
     ]
    },
    {
     "name": "stderr",
     "output_type": "stream",
     "text": [
      "bagging, val_score: 14.827229:  20%|##        | 2/10 [00:04<00:19,  2.42s/it]\u001b[32m[I 2022-09-14 16:39:37,205]\u001b[0m Trial 28 finished with value: 14.929356970390408 and parameters: {'bagging_fraction': 0.6740106774668155, 'bagging_freq': 3}. Best is trial 27 with value: 14.827228516609862.\u001b[0m\n",
      "bagging, val_score: 14.827229:  20%|##        | 2/10 [00:04<00:19,  2.42s/it]"
     ]
    },
    {
     "name": "stdout",
     "output_type": "stream",
     "text": [
      "Early stopping, best iteration is:\n",
      "[27]\tvalid_0's rmse: 14.9294\n",
      "Training until validation scores don't improve for 100 rounds\n"
     ]
    },
    {
     "name": "stderr",
     "output_type": "stream",
     "text": [
      "bagging, val_score: 14.827229:  30%|###       | 3/10 [00:06<00:15,  2.22s/it]\u001b[32m[I 2022-09-14 16:39:39,189]\u001b[0m Trial 29 finished with value: 15.081849059446629 and parameters: {'bagging_fraction': 0.8074832457814922, 'bagging_freq': 2}. Best is trial 27 with value: 14.827228516609862.\u001b[0m\n",
      "bagging, val_score: 14.827229:  30%|###       | 3/10 [00:06<00:15,  2.22s/it]"
     ]
    },
    {
     "name": "stdout",
     "output_type": "stream",
     "text": [
      "Early stopping, best iteration is:\n",
      "[25]\tvalid_0's rmse: 15.0818\n",
      "Training until validation scores don't improve for 100 rounds\n"
     ]
    },
    {
     "name": "stderr",
     "output_type": "stream",
     "text": [
      "bagging, val_score: 14.827229:  40%|####      | 4/10 [00:09<00:13,  2.25s/it]\u001b[32m[I 2022-09-14 16:39:41,483]\u001b[0m Trial 30 finished with value: 15.0810706097762 and parameters: {'bagging_fraction': 0.8787131756845254, 'bagging_freq': 5}. Best is trial 27 with value: 14.827228516609862.\u001b[0m\n",
      "bagging, val_score: 14.827229:  40%|####      | 4/10 [00:09<00:13,  2.25s/it]"
     ]
    },
    {
     "name": "stdout",
     "output_type": "stream",
     "text": [
      "Early stopping, best iteration is:\n",
      "[25]\tvalid_0's rmse: 15.0811\n",
      "Training until validation scores don't improve for 100 rounds\n"
     ]
    },
    {
     "name": "stderr",
     "output_type": "stream",
     "text": [
      "bagging, val_score: 14.827229:  50%|#####     | 5/10 [00:11<00:11,  2.31s/it]\u001b[32m[I 2022-09-14 16:39:43,895]\u001b[0m Trial 31 finished with value: 15.038841329558252 and parameters: {'bagging_fraction': 0.8706065292753176, 'bagging_freq': 6}. Best is trial 27 with value: 14.827228516609862.\u001b[0m\n",
      "bagging, val_score: 14.827229:  50%|#####     | 5/10 [00:11<00:11,  2.31s/it]"
     ]
    },
    {
     "name": "stdout",
     "output_type": "stream",
     "text": [
      "Early stopping, best iteration is:\n",
      "[25]\tvalid_0's rmse: 15.0388\n",
      "Training until validation scores don't improve for 100 rounds\n"
     ]
    },
    {
     "name": "stderr",
     "output_type": "stream",
     "text": [
      "bagging, val_score: 14.827229:  60%|######    | 6/10 [00:14<00:10,  2.57s/it]\u001b[32m[I 2022-09-14 16:39:46,986]\u001b[0m Trial 32 finished with value: 15.22060617784251 and parameters: {'bagging_fraction': 0.79935978862049, 'bagging_freq': 5}. Best is trial 27 with value: 14.827228516609862.\u001b[0m\n",
      "bagging, val_score: 14.827229:  60%|######    | 6/10 [00:14<00:10,  2.57s/it]"
     ]
    },
    {
     "name": "stdout",
     "output_type": "stream",
     "text": [
      "Early stopping, best iteration is:\n",
      "[25]\tvalid_0's rmse: 15.2206\n",
      "Training until validation scores don't improve for 100 rounds\n"
     ]
    },
    {
     "name": "stderr",
     "output_type": "stream",
     "text": [
      "bagging, val_score: 14.827229:  70%|#######   | 7/10 [00:16<00:07,  2.51s/it]\u001b[32m[I 2022-09-14 16:39:49,354]\u001b[0m Trial 33 finished with value: 15.108288609138393 and parameters: {'bagging_fraction': 0.48782851500384566, 'bagging_freq': 3}. Best is trial 27 with value: 14.827228516609862.\u001b[0m\n",
      "bagging, val_score: 14.827229:  70%|#######   | 7/10 [00:16<00:07,  2.51s/it]"
     ]
    },
    {
     "name": "stdout",
     "output_type": "stream",
     "text": [
      "Early stopping, best iteration is:\n",
      "[27]\tvalid_0's rmse: 15.1083\n",
      "Training until validation scores don't improve for 100 rounds\n"
     ]
    },
    {
     "name": "stderr",
     "output_type": "stream",
     "text": [
      "bagging, val_score: 14.827229:  80%|########  | 8/10 [00:19<00:05,  2.51s/it]\u001b[32m[I 2022-09-14 16:39:51,866]\u001b[0m Trial 34 finished with value: 15.152857806106901 and parameters: {'bagging_fraction': 0.6336314813242785, 'bagging_freq': 6}. Best is trial 27 with value: 14.827228516609862.\u001b[0m\n",
      "bagging, val_score: 14.827229:  80%|########  | 8/10 [00:19<00:05,  2.51s/it]"
     ]
    },
    {
     "name": "stdout",
     "output_type": "stream",
     "text": [
      "Early stopping, best iteration is:\n",
      "[27]\tvalid_0's rmse: 15.1529\n",
      "Training until validation scores don't improve for 100 rounds\n"
     ]
    },
    {
     "name": "stderr",
     "output_type": "stream",
     "text": [
      "bagging, val_score: 14.827229:  90%|######### | 9/10 [00:22<00:02,  2.69s/it]\u001b[32m[I 2022-09-14 16:39:54,944]\u001b[0m Trial 35 finished with value: 15.04914784228775 and parameters: {'bagging_fraction': 0.5325128039370064, 'bagging_freq': 6}. Best is trial 27 with value: 14.827228516609862.\u001b[0m\n",
      "bagging, val_score: 14.827229:  90%|######### | 9/10 [00:22<00:02,  2.69s/it]"
     ]
    },
    {
     "name": "stdout",
     "output_type": "stream",
     "text": [
      "Early stopping, best iteration is:\n",
      "[27]\tvalid_0's rmse: 15.0491\n",
      "Training until validation scores don't improve for 100 rounds\n"
     ]
    },
    {
     "name": "stderr",
     "output_type": "stream",
     "text": [
      "bagging, val_score: 14.827229: 100%|##########| 10/10 [00:25<00:00,  2.61s/it]\u001b[32m[I 2022-09-14 16:39:57,382]\u001b[0m Trial 36 finished with value: 14.915847287213815 and parameters: {'bagging_fraction': 0.5356510896814295, 'bagging_freq': 6}. Best is trial 27 with value: 14.827228516609862.\u001b[0m\n",
      "bagging, val_score: 14.827229: 100%|##########| 10/10 [00:25<00:00,  2.50s/it]\n"
     ]
    },
    {
     "name": "stdout",
     "output_type": "stream",
     "text": [
      "Early stopping, best iteration is:\n",
      "[27]\tvalid_0's rmse: 14.9158\n"
     ]
    },
    {
     "name": "stderr",
     "output_type": "stream",
     "text": [
      "feature_fraction_stage2, val_score: 14.827229:   0%|          | 0/3 [00:00<?, ?it/s]"
     ]
    },
    {
     "name": "stdout",
     "output_type": "stream",
     "text": [
      "Training until validation scores don't improve for 100 rounds\n"
     ]
    },
    {
     "name": "stderr",
     "output_type": "stream",
     "text": [
      "feature_fraction_stage2, val_score: 14.827229:  33%|###3      | 1/3 [00:02<00:04,  2.11s/it]\u001b[32m[I 2022-09-14 16:39:59,496]\u001b[0m Trial 37 finished with value: 14.827228516609862 and parameters: {'feature_fraction': 0.44800000000000006}. Best is trial 37 with value: 14.827228516609862.\u001b[0m\n",
      "feature_fraction_stage2, val_score: 14.827229:  33%|###3      | 1/3 [00:02<00:04,  2.11s/it]"
     ]
    },
    {
     "name": "stdout",
     "output_type": "stream",
     "text": [
      "Early stopping, best iteration is:\n",
      "[25]\tvalid_0's rmse: 14.8272\n",
      "Training until validation scores don't improve for 100 rounds\n"
     ]
    },
    {
     "name": "stderr",
     "output_type": "stream",
     "text": [
      "feature_fraction_stage2, val_score: 14.827229:  67%|######6   | 2/3 [00:04<00:02,  2.24s/it]\u001b[32m[I 2022-09-14 16:40:01,826]\u001b[0m Trial 38 finished with value: 14.827228516609862 and parameters: {'feature_fraction': 0.48000000000000004}. Best is trial 37 with value: 14.827228516609862.\u001b[0m\n",
      "feature_fraction_stage2, val_score: 14.827229:  67%|######6   | 2/3 [00:04<00:02,  2.24s/it]"
     ]
    },
    {
     "name": "stdout",
     "output_type": "stream",
     "text": [
      "Early stopping, best iteration is:\n",
      "[25]\tvalid_0's rmse: 14.8272\n",
      "Training until validation scores don't improve for 100 rounds\n"
     ]
    },
    {
     "name": "stderr",
     "output_type": "stream",
     "text": [
      "feature_fraction_stage2, val_score: 14.827229: 100%|##########| 3/3 [00:08<00:00,  3.30s/it]\u001b[32m[I 2022-09-14 16:40:06,381]\u001b[0m Trial 39 finished with value: 14.827228516609862 and parameters: {'feature_fraction': 0.41600000000000004}. Best is trial 37 with value: 14.827228516609862.\u001b[0m\n",
      "feature_fraction_stage2, val_score: 14.827229: 100%|##########| 3/3 [00:08<00:00,  3.00s/it]\n"
     ]
    },
    {
     "name": "stdout",
     "output_type": "stream",
     "text": [
      "Early stopping, best iteration is:\n",
      "[25]\tvalid_0's rmse: 14.8272\n"
     ]
    },
    {
     "name": "stderr",
     "output_type": "stream",
     "text": [
      "regularization_factors, val_score: 14.827229:   0%|          | 0/20 [00:00<?, ?it/s]"
     ]
    },
    {
     "name": "stdout",
     "output_type": "stream",
     "text": [
      "Training until validation scores don't improve for 100 rounds\n"
     ]
    },
    {
     "name": "stderr",
     "output_type": "stream",
     "text": [
      "regularization_factors, val_score: 14.827229:   5%|5         | 1/20 [00:03<01:09,  3.67s/it]\u001b[32m[I 2022-09-14 16:40:10,055]\u001b[0m Trial 40 finished with value: 14.827230463391786 and parameters: {'lambda_l1': 0.00020371093680476602, 'lambda_l2': 0.00022855331068735303}. Best is trial 40 with value: 14.827230463391786.\u001b[0m\n",
      "regularization_factors, val_score: 14.827229:   5%|5         | 1/20 [00:03<01:09,  3.67s/it]"
     ]
    },
    {
     "name": "stdout",
     "output_type": "stream",
     "text": [
      "Early stopping, best iteration is:\n",
      "[25]\tvalid_0's rmse: 14.8272\n",
      "Training until validation scores don't improve for 100 rounds\n"
     ]
    },
    {
     "name": "stderr",
     "output_type": "stream",
     "text": [
      "regularization_factors, val_score: 14.827229:  10%|#         | 2/20 [00:10<01:38,  5.45s/it]\u001b[32m[I 2022-09-14 16:40:16,742]\u001b[0m Trial 41 finished with value: 14.959479501637816 and parameters: {'lambda_l1': 8.950491897152935, 'lambda_l2': 3.960051522326087e-07}. Best is trial 40 with value: 14.827230463391786.\u001b[0m\n",
      "regularization_factors, val_score: 14.827229:  10%|#         | 2/20 [00:10<01:38,  5.45s/it]"
     ]
    },
    {
     "name": "stdout",
     "output_type": "stream",
     "text": [
      "Early stopping, best iteration is:\n",
      "[25]\tvalid_0's rmse: 14.9595\n",
      "Training until validation scores don't improve for 100 rounds\n"
     ]
    },
    {
     "name": "stderr",
     "output_type": "stream",
     "text": [
      "regularization_factors, val_score: 14.827229:  15%|#5        | 3/20 [00:14<01:23,  4.92s/it]\u001b[32m[I 2022-09-14 16:40:21,027]\u001b[0m Trial 42 finished with value: 14.847961132060576 and parameters: {'lambda_l1': 4.801604654563549e-06, 'lambda_l2': 0.010031365937883455}. Best is trial 40 with value: 14.827230463391786.\u001b[0m\n",
      "regularization_factors, val_score: 14.827229:  15%|#5        | 3/20 [00:14<01:23,  4.92s/it]"
     ]
    },
    {
     "name": "stdout",
     "output_type": "stream",
     "text": [
      "Early stopping, best iteration is:\n",
      "[25]\tvalid_0's rmse: 14.848\n",
      "Training until validation scores don't improve for 100 rounds\n"
     ]
    },
    {
     "name": "stderr",
     "output_type": "stream",
     "text": [
      "regularization_factors, val_score: 14.827229:  20%|##        | 4/20 [00:17<01:08,  4.27s/it]\u001b[32m[I 2022-09-14 16:40:24,307]\u001b[0m Trial 43 finished with value: 14.827228522856197 and parameters: {'lambda_l1': 1.33461713512636e-06, 'lambda_l2': 4.31444964199813e-07}. Best is trial 43 with value: 14.827228522856197.\u001b[0m\n",
      "regularization_factors, val_score: 14.827229:  20%|##        | 4/20 [00:17<01:08,  4.27s/it]"
     ]
    },
    {
     "name": "stdout",
     "output_type": "stream",
     "text": [
      "Early stopping, best iteration is:\n",
      "[25]\tvalid_0's rmse: 14.8272\n",
      "Training until validation scores don't improve for 100 rounds\n"
     ]
    },
    {
     "name": "stderr",
     "output_type": "stream",
     "text": [
      "regularization_factors, val_score: 14.827229:  25%|##5       | 5/20 [00:20<00:57,  3.80s/it]\u001b[32m[I 2022-09-14 16:40:27,278]\u001b[0m Trial 44 finished with value: 14.861959241933326 and parameters: {'lambda_l1': 1.2831654373934178, 'lambda_l2': 2.432211090343034e-07}. Best is trial 43 with value: 14.827228522856197.\u001b[0m\n",
      "regularization_factors, val_score: 14.827229:  25%|##5       | 5/20 [00:20<00:57,  3.80s/it]"
     ]
    },
    {
     "name": "stdout",
     "output_type": "stream",
     "text": [
      "Early stopping, best iteration is:\n",
      "[25]\tvalid_0's rmse: 14.862\n",
      "Training until validation scores don't improve for 100 rounds\n"
     ]
    },
    {
     "name": "stderr",
     "output_type": "stream",
     "text": [
      "regularization_factors, val_score: 14.827229:  30%|###       | 6/20 [00:23<00:47,  3.42s/it]\u001b[32m[I 2022-09-14 16:40:29,944]\u001b[0m Trial 45 finished with value: 14.88445936501824 and parameters: {'lambda_l1': 3.4829377948299953, 'lambda_l2': 7.601979659720522e-05}. Best is trial 43 with value: 14.827228522856197.\u001b[0m\n",
      "regularization_factors, val_score: 14.827229:  30%|###       | 6/20 [00:23<00:47,  3.42s/it]"
     ]
    },
    {
     "name": "stdout",
     "output_type": "stream",
     "text": [
      "Early stopping, best iteration is:\n",
      "[25]\tvalid_0's rmse: 14.8845\n",
      "Training until validation scores don't improve for 100 rounds\n"
     ]
    },
    {
     "name": "stderr",
     "output_type": "stream",
     "text": [
      "regularization_factors, val_score: 14.827229:  35%|###5      | 7/20 [00:25<00:40,  3.10s/it]\u001b[32m[I 2022-09-14 16:40:32,381]\u001b[0m Trial 46 finished with value: 14.883582880909438 and parameters: {'lambda_l1': 8.744451249420409e-08, 'lambda_l2': 0.04855124252822208}. Best is trial 43 with value: 14.827228522856197.\u001b[0m\n",
      "regularization_factors, val_score: 14.827229:  35%|###5      | 7/20 [00:25<00:40,  3.10s/it]"
     ]
    },
    {
     "name": "stdout",
     "output_type": "stream",
     "text": [
      "Early stopping, best iteration is:\n",
      "[25]\tvalid_0's rmse: 14.8836\n",
      "Training until validation scores don't improve for 100 rounds\n"
     ]
    },
    {
     "name": "stderr",
     "output_type": "stream",
     "text": [
      "regularization_factors, val_score: 14.827229:  40%|####      | 8/20 [00:28<00:34,  2.89s/it]\u001b[32m[I 2022-09-14 16:40:34,834]\u001b[0m Trial 47 finished with value: 15.360751888671304 and parameters: {'lambda_l1': 4.676130197863228, 'lambda_l2': 6.194077232528561}. Best is trial 43 with value: 14.827228522856197.\u001b[0m\n",
      "regularization_factors, val_score: 14.827229:  40%|####      | 8/20 [00:28<00:34,  2.89s/it]"
     ]
    },
    {
     "name": "stdout",
     "output_type": "stream",
     "text": [
      "Early stopping, best iteration is:\n",
      "[29]\tvalid_0's rmse: 15.3608\n",
      "Training until validation scores don't improve for 100 rounds\n"
     ]
    },
    {
     "name": "stderr",
     "output_type": "stream",
     "text": [
      "regularization_factors, val_score: 14.827229:  45%|####5     | 9/20 [00:30<00:29,  2.70s/it]\u001b[32m[I 2022-09-14 16:40:37,113]\u001b[0m Trial 48 finished with value: 14.893847004197719 and parameters: {'lambda_l1': 0.0002748545059222546, 'lambda_l2': 0.0385900959931831}. Best is trial 43 with value: 14.827228522856197.\u001b[0m\n",
      "regularization_factors, val_score: 14.827229:  45%|####5     | 9/20 [00:30<00:29,  2.70s/it]"
     ]
    },
    {
     "name": "stdout",
     "output_type": "stream",
     "text": [
      "Early stopping, best iteration is:\n",
      "[25]\tvalid_0's rmse: 14.8938\n",
      "Training until validation scores don't improve for 100 rounds\n"
     ]
    },
    {
     "name": "stderr",
     "output_type": "stream",
     "text": [
      "regularization_factors, val_score: 14.827229:  50%|#####     | 10/20 [00:32<00:25,  2.56s/it]\u001b[32m[I 2022-09-14 16:40:39,357]\u001b[0m Trial 49 finished with value: 14.847954434165889 and parameters: {'lambda_l1': 4.93855550241683e-07, 'lambda_l2': 0.008855605598523943}. Best is trial 43 with value: 14.827228522856197.\u001b[0m\n",
      "regularization_factors, val_score: 14.827229:  50%|#####     | 10/20 [00:32<00:25,  2.56s/it]"
     ]
    },
    {
     "name": "stdout",
     "output_type": "stream",
     "text": [
      "Early stopping, best iteration is:\n",
      "[25]\tvalid_0's rmse: 14.848\n",
      "Training until validation scores don't improve for 100 rounds\n"
     ]
    },
    {
     "name": "stderr",
     "output_type": "stream",
     "text": [
      "regularization_factors, val_score: 14.827229:  55%|#####5    | 11/20 [00:35<00:21,  2.43s/it]\u001b[32m[I 2022-09-14 16:40:41,493]\u001b[0m Trial 50 finished with value: 14.82722851716233 and parameters: {'lambda_l1': 1.2623703291028789e-08, 'lambda_l2': 1.0038635156819914e-08}. Best is trial 50 with value: 14.82722851716233.\u001b[0m\n",
      "regularization_factors, val_score: 14.827229:  55%|#####5    | 11/20 [00:35<00:21,  2.43s/it]"
     ]
    },
    {
     "name": "stdout",
     "output_type": "stream",
     "text": [
      "Early stopping, best iteration is:\n",
      "[25]\tvalid_0's rmse: 14.8272\n",
      "Training until validation scores don't improve for 100 rounds\n"
     ]
    },
    {
     "name": "stderr",
     "output_type": "stream",
     "text": [
      "regularization_factors, val_score: 14.827229:  60%|######    | 12/20 [00:37<00:18,  2.35s/it]\u001b[32m[I 2022-09-14 16:40:43,667]\u001b[0m Trial 51 finished with value: 14.827228517162863 and parameters: {'lambda_l1': 1.0965673738861967e-08, 'lambda_l2': 1.0152650352852721e-08}. Best is trial 50 with value: 14.82722851716233.\u001b[0m\n",
      "regularization_factors, val_score: 14.827229:  60%|######    | 12/20 [00:37<00:18,  2.35s/it]"
     ]
    },
    {
     "name": "stdout",
     "output_type": "stream",
     "text": [
      "Early stopping, best iteration is:\n",
      "[25]\tvalid_0's rmse: 14.8272\n",
      "Training until validation scores don't improve for 100 rounds\n"
     ]
    },
    {
     "name": "stderr",
     "output_type": "stream",
     "text": [
      "regularization_factors, val_score: 14.827229:  65%|######5   | 13/20 [00:39<00:15,  2.27s/it]\u001b[32m[I 2022-09-14 16:40:45,752]\u001b[0m Trial 52 finished with value: 14.82722851682553 and parameters: {'lambda_l1': 1.015168774066269e-08, 'lambda_l2': 1.5689356083438043e-08}. Best is trial 52 with value: 14.82722851682553.\u001b[0m\n",
      "regularization_factors, val_score: 14.827229:  65%|######5   | 13/20 [00:39<00:15,  2.27s/it]"
     ]
    },
    {
     "name": "stdout",
     "output_type": "stream",
     "text": [
      "Early stopping, best iteration is:\n",
      "[25]\tvalid_0's rmse: 14.8272\n",
      "Training until validation scores don't improve for 100 rounds\n"
     ]
    },
    {
     "name": "stderr",
     "output_type": "stream",
     "text": [
      "regularization_factors, val_score: 14.827229:  70%|#######   | 14/20 [00:41<00:13,  2.25s/it]\u001b[32m[I 2022-09-14 16:40:47,949]\u001b[0m Trial 53 finished with value: 14.82722851685729 and parameters: {'lambda_l1': 1.7388421643580363e-08, 'lambda_l2': 1.6446493388953197e-08}. Best is trial 52 with value: 14.82722851682553.\u001b[0m\n",
      "regularization_factors, val_score: 14.827229:  70%|#######   | 14/20 [00:41<00:13,  2.25s/it]"
     ]
    },
    {
     "name": "stdout",
     "output_type": "stream",
     "text": [
      "Early stopping, best iteration is:\n",
      "[25]\tvalid_0's rmse: 14.8272\n",
      "Training until validation scores don't improve for 100 rounds\n"
     ]
    },
    {
     "name": "stderr",
     "output_type": "stream",
     "text": [
      "regularization_factors, val_score: 14.827229:  75%|#######5  | 15/20 [00:43<00:11,  2.21s/it]\u001b[32m[I 2022-09-14 16:40:50,062]\u001b[0m Trial 54 finished with value: 14.827228592434018 and parameters: {'lambda_l1': 2.182491054228404e-05, 'lambda_l2': 7.895187722115892e-06}. Best is trial 52 with value: 14.82722851682553.\u001b[0m\n",
      "regularization_factors, val_score: 14.827229:  75%|#######5  | 15/20 [00:43<00:11,  2.21s/it]"
     ]
    },
    {
     "name": "stdout",
     "output_type": "stream",
     "text": [
      "Early stopping, best iteration is:\n",
      "[25]\tvalid_0's rmse: 14.8272\n",
      "Training until validation scores don't improve for 100 rounds\n"
     ]
    },
    {
     "name": "stderr",
     "output_type": "stream",
     "text": [
      "regularization_factors, val_score: 14.827229:  80%|########  | 16/20 [00:45<00:08,  2.15s/it]\u001b[32m[I 2022-09-14 16:40:52,064]\u001b[0m Trial 55 finished with value: 14.827233565090244 and parameters: {'lambda_l1': 0.016634396003977616, 'lambda_l2': 6.352852458835785e-06}. Best is trial 52 with value: 14.82722851682553.\u001b[0m\n",
      "regularization_factors, val_score: 14.827229:  80%|########  | 16/20 [00:45<00:08,  2.15s/it]"
     ]
    },
    {
     "name": "stdout",
     "output_type": "stream",
     "text": [
      "Early stopping, best iteration is:\n",
      "[25]\tvalid_0's rmse: 14.8272\n",
      "Training until validation scores don't improve for 100 rounds\n"
     ]
    },
    {
     "name": "stderr",
     "output_type": "stream",
     "text": [
      "regularization_factors, val_score: 14.827229:  85%|########5 | 17/20 [00:48<00:07,  2.43s/it]\u001b[32m[I 2022-09-14 16:40:55,154]\u001b[0m Trial 56 finished with value: 14.827228519072856 and parameters: {'lambda_l1': 1.1270610346183604e-07, 'lambda_l2': 7.173546951825693e-08}. Best is trial 52 with value: 14.82722851682553.\u001b[0m\n",
      "regularization_factors, val_score: 14.827229:  85%|########5 | 17/20 [00:48<00:07,  2.43s/it]"
     ]
    },
    {
     "name": "stdout",
     "output_type": "stream",
     "text": [
      "Early stopping, best iteration is:\n",
      "[25]\tvalid_0's rmse: 14.8272\n",
      "Training until validation scores don't improve for 100 rounds\n"
     ]
    },
    {
     "name": "stderr",
     "output_type": "stream",
     "text": [
      "regularization_factors, val_score: 14.827229:  90%|######### | 18/20 [00:51<00:04,  2.38s/it]\u001b[32m[I 2022-09-14 16:40:57,416]\u001b[0m Trial 57 finished with value: 14.827231829515352 and parameters: {'lambda_l1': 0.010897201065409357, 'lambda_l2': 4.562688904518016e-06}. Best is trial 52 with value: 14.82722851682553.\u001b[0m\n",
      "regularization_factors, val_score: 14.827229:  90%|######### | 18/20 [00:51<00:04,  2.38s/it]"
     ]
    },
    {
     "name": "stdout",
     "output_type": "stream",
     "text": [
      "Early stopping, best iteration is:\n",
      "[25]\tvalid_0's rmse: 14.8272\n",
      "Training until validation scores don't improve for 100 rounds\n"
     ]
    },
    {
     "name": "stderr",
     "output_type": "stream",
     "text": [
      "regularization_factors, val_score: 14.827229:  95%|#########5| 19/20 [00:53<00:02,  2.38s/it]\u001b[32m[I 2022-09-14 16:40:59,793]\u001b[0m Trial 58 finished with value: 14.82722851769475 and parameters: {'lambda_l1': 9.91067605339776e-08, 'lambda_l2': 5.1144534053431675e-08}. Best is trial 52 with value: 14.82722851682553.\u001b[0m\n",
      "regularization_factors, val_score: 14.827229:  95%|#########5| 19/20 [00:53<00:02,  2.38s/it]"
     ]
    },
    {
     "name": "stdout",
     "output_type": "stream",
     "text": [
      "Early stopping, best iteration is:\n",
      "[25]\tvalid_0's rmse: 14.8272\n",
      "Training until validation scores don't improve for 100 rounds\n"
     ]
    },
    {
     "name": "stderr",
     "output_type": "stream",
     "text": [
      "regularization_factors, val_score: 14.827229: 100%|##########| 20/20 [00:55<00:00,  2.30s/it]\u001b[32m[I 2022-09-14 16:41:01,925]\u001b[0m Trial 59 finished with value: 14.827228554321096 and parameters: {'lambda_l1': 2.1798495482139676e-05, 'lambda_l2': 1.8827519084663626e-06}. Best is trial 52 with value: 14.82722851682553.\u001b[0m\n",
      "regularization_factors, val_score: 14.827229: 100%|##########| 20/20 [00:55<00:00,  2.78s/it]\n"
     ]
    },
    {
     "name": "stdout",
     "output_type": "stream",
     "text": [
      "Early stopping, best iteration is:\n",
      "[25]\tvalid_0's rmse: 14.8272\n"
     ]
    },
    {
     "name": "stderr",
     "output_type": "stream",
     "text": [
      "min_data_in_leaf, val_score: 14.827229:   0%|          | 0/5 [00:00<?, ?it/s]"
     ]
    },
    {
     "name": "stdout",
     "output_type": "stream",
     "text": [
      "Training until validation scores don't improve for 100 rounds\n"
     ]
    },
    {
     "name": "stderr",
     "output_type": "stream",
     "text": [
      "min_data_in_leaf, val_score: 14.827229:  20%|##        | 1/5 [00:02<00:11,  2.93s/it]\u001b[32m[I 2022-09-14 16:41:04,855]\u001b[0m Trial 60 finished with value: 14.936518739509394 and parameters: {'min_child_samples': 25}. Best is trial 60 with value: 14.936518739509394.\u001b[0m\n",
      "min_data_in_leaf, val_score: 14.827229:  20%|##        | 1/5 [00:02<00:11,  2.93s/it]"
     ]
    },
    {
     "name": "stdout",
     "output_type": "stream",
     "text": [
      "Early stopping, best iteration is:\n",
      "[25]\tvalid_0's rmse: 14.9365\n",
      "Training until validation scores don't improve for 100 rounds\n"
     ]
    },
    {
     "name": "stderr",
     "output_type": "stream",
     "text": [
      "min_data_in_leaf, val_score: 14.827229:  40%|####      | 2/5 [00:05<00:07,  2.59s/it]\u001b[32m[I 2022-09-14 16:41:07,213]\u001b[0m Trial 61 finished with value: 14.933895545555098 and parameters: {'min_child_samples': 5}. Best is trial 61 with value: 14.933895545555098.\u001b[0m\n",
      "min_data_in_leaf, val_score: 14.827229:  40%|####      | 2/5 [00:05<00:07,  2.59s/it]"
     ]
    },
    {
     "name": "stdout",
     "output_type": "stream",
     "text": [
      "Early stopping, best iteration is:\n",
      "[25]\tvalid_0's rmse: 14.9339\n",
      "Training until validation scores don't improve for 100 rounds\n"
     ]
    },
    {
     "name": "stderr",
     "output_type": "stream",
     "text": [
      "min_data_in_leaf, val_score: 14.827229:  60%|######    | 3/5 [00:07<00:05,  2.57s/it]\u001b[32m[I 2022-09-14 16:41:09,754]\u001b[0m Trial 62 finished with value: 15.034606469534936 and parameters: {'min_child_samples': 50}. Best is trial 61 with value: 14.933895545555098.\u001b[0m\n",
      "min_data_in_leaf, val_score: 14.827229:  60%|######    | 3/5 [00:07<00:05,  2.57s/it]"
     ]
    },
    {
     "name": "stdout",
     "output_type": "stream",
     "text": [
      "Early stopping, best iteration is:\n",
      "[28]\tvalid_0's rmse: 15.0346\n",
      "Training until validation scores don't improve for 100 rounds\n"
     ]
    },
    {
     "name": "stderr",
     "output_type": "stream",
     "text": [
      "min_data_in_leaf, val_score: 14.827229:  80%|########  | 4/5 [00:10<00:02,  2.67s/it]\u001b[32m[I 2022-09-14 16:41:12,576]\u001b[0m Trial 63 finished with value: 14.916367967292127 and parameters: {'min_child_samples': 10}. Best is trial 63 with value: 14.916367967292127.\u001b[0m\n",
      "min_data_in_leaf, val_score: 14.827229:  80%|########  | 4/5 [00:10<00:02,  2.67s/it]"
     ]
    },
    {
     "name": "stdout",
     "output_type": "stream",
     "text": [
      "Early stopping, best iteration is:\n",
      "[25]\tvalid_0's rmse: 14.9164\n",
      "Training until validation scores don't improve for 100 rounds\n"
     ]
    },
    {
     "name": "stderr",
     "output_type": "stream",
     "text": [
      "min_data_in_leaf, val_score: 14.827229: 100%|##########| 5/5 [00:13<00:00,  2.65s/it]\u001b[32m[I 2022-09-14 16:41:15,198]\u001b[0m Trial 64 finished with value: 15.565546344413237 and parameters: {'min_child_samples': 100}. Best is trial 63 with value: 14.916367967292127.\u001b[0m\n",
      "min_data_in_leaf, val_score: 14.827229: 100%|##########| 5/5 [00:13<00:00,  2.65s/it]"
     ]
    },
    {
     "name": "stdout",
     "output_type": "stream",
     "text": [
      "Early stopping, best iteration is:\n",
      "[28]\tvalid_0's rmse: 15.5655\n",
      "training: rmse=11.097780654985154, mae=7.192521313225311, r2=0.951142098263694\n",
      "test: rmse=14.827228496098122, mae=10.081967018887479, r2=0.9652191598537031\n"
     ]
    },
    {
     "name": "stderr",
     "output_type": "stream",
     "text": [
      "\n"
     ]
    }
   ],
   "source": [
    "model.fit()"
   ]
  },
  {
   "cell_type": "code",
   "execution_count": 170,
   "metadata": {},
   "outputs": [
    {
     "name": "stdout",
     "output_type": "stream",
     "text": [
      "Best params: {'objective': 'regression', 'metric': 'rmse', 'verbosity': -1, 'boosting_type': 'gbdt', 'categorical_feature': 0, 'feature_pre_filter': False, 'lambda_l1': 0.0, 'lambda_l2': 0.0, 'num_leaves': 31, 'feature_fraction': 0.4, 'bagging_fraction': 0.5269801809894871, 'bagging_freq': 1, 'min_child_samples': 20, 'num_iterations': 10000, 'early_stopping_round': 100}\n",
      "  Params: \n",
      "    objective: regression\n",
      "    metric: rmse\n",
      "    verbosity: -1\n",
      "    boosting_type: gbdt\n",
      "    categorical_feature: 0\n",
      "    feature_pre_filter: False\n",
      "    lambda_l1: 0.0\n",
      "    lambda_l2: 0.0\n",
      "    num_leaves: 31\n",
      "    feature_fraction: 0.4\n",
      "    bagging_fraction: 0.5269801809894871\n",
      "    bagging_freq: 1\n",
      "    min_child_samples: 20\n",
      "    num_iterations: 10000\n",
      "    early_stopping_round: 100\n"
     ]
    }
   ],
   "source": [
    "best_params = model.model.params\n",
    "print(\"Best params:\", best_params)\n",
    "print(\"  Params: \")\n",
    "for key, value in best_params.items():\n",
    "    print(\"    {}: {}\".format(key, value))"
   ]
  },
  {
   "cell_type": "code",
   "execution_count": 171,
   "metadata": {},
   "outputs": [],
   "source": [
    "predicted_2019 = model.predict(2019)"
   ]
  },
  {
   "cell_type": "code",
   "execution_count": 172,
   "metadata": {},
   "outputs": [],
   "source": [
    "data.addYearDemandfromForecast(2019, predicted_2019)"
   ]
  },
  {
   "cell_type": "code",
   "execution_count": 173,
   "metadata": {},
   "outputs": [
    {
     "data": {
      "text/html": [
       "<div>\n",
       "<style scoped>\n",
       "    .dataframe tbody tr th:only-of-type {\n",
       "        vertical-align: middle;\n",
       "    }\n",
       "\n",
       "    .dataframe tbody tr th {\n",
       "        vertical-align: top;\n",
       "    }\n",
       "\n",
       "    .dataframe thead th {\n",
       "        text-align: right;\n",
       "    }\n",
       "</style>\n",
       "<table border=\"1\" class=\"dataframe\">\n",
       "  <thead>\n",
       "    <tr style=\"text-align: right;\">\n",
       "      <th></th>\n",
       "      <th>demand_point_index</th>\n",
       "      <th>x_coordinate</th>\n",
       "      <th>y_coordinate</th>\n",
       "      <th>2010</th>\n",
       "      <th>2011</th>\n",
       "      <th>2012</th>\n",
       "      <th>2013</th>\n",
       "      <th>2014</th>\n",
       "      <th>2015</th>\n",
       "      <th>2016</th>\n",
       "      <th>2017</th>\n",
       "      <th>2018</th>\n",
       "      <th>2019</th>\n",
       "    </tr>\n",
       "  </thead>\n",
       "  <tbody>\n",
       "    <tr>\n",
       "      <th>0</th>\n",
       "      <td>0</td>\n",
       "      <td>0.5</td>\n",
       "      <td>0.5</td>\n",
       "      <td>0.352242</td>\n",
       "      <td>0.667932</td>\n",
       "      <td>0.958593</td>\n",
       "      <td>2.911901</td>\n",
       "      <td>4.338274</td>\n",
       "      <td>6.561995</td>\n",
       "      <td>8.454417</td>\n",
       "      <td>10.595324</td>\n",
       "      <td>13.119572</td>\n",
       "      <td>22.199108</td>\n",
       "    </tr>\n",
       "    <tr>\n",
       "      <th>1</th>\n",
       "      <td>1</td>\n",
       "      <td>1.5</td>\n",
       "      <td>0.5</td>\n",
       "      <td>0.325940</td>\n",
       "      <td>0.591964</td>\n",
       "      <td>0.862652</td>\n",
       "      <td>2.589068</td>\n",
       "      <td>4.196034</td>\n",
       "      <td>5.745551</td>\n",
       "      <td>8.753195</td>\n",
       "      <td>11.126995</td>\n",
       "      <td>12.020091</td>\n",
       "      <td>21.265157</td>\n",
       "    </tr>\n",
       "    <tr>\n",
       "      <th>2</th>\n",
       "      <td>2</td>\n",
       "      <td>2.5</td>\n",
       "      <td>0.5</td>\n",
       "      <td>0.373752</td>\n",
       "      <td>0.591890</td>\n",
       "      <td>0.969733</td>\n",
       "      <td>2.641432</td>\n",
       "      <td>3.541772</td>\n",
       "      <td>5.469161</td>\n",
       "      <td>8.414627</td>\n",
       "      <td>10.115336</td>\n",
       "      <td>14.018254</td>\n",
       "      <td>21.896602</td>\n",
       "    </tr>\n",
       "    <tr>\n",
       "      <th>3</th>\n",
       "      <td>3</td>\n",
       "      <td>3.5</td>\n",
       "      <td>0.5</td>\n",
       "      <td>0.420686</td>\n",
       "      <td>0.584055</td>\n",
       "      <td>0.906547</td>\n",
       "      <td>2.378577</td>\n",
       "      <td>3.888121</td>\n",
       "      <td>5.846089</td>\n",
       "      <td>9.083868</td>\n",
       "      <td>12.424885</td>\n",
       "      <td>15.012302</td>\n",
       "      <td>24.230437</td>\n",
       "    </tr>\n",
       "    <tr>\n",
       "      <th>4</th>\n",
       "      <td>4</td>\n",
       "      <td>4.5</td>\n",
       "      <td>0.5</td>\n",
       "      <td>0.475621</td>\n",
       "      <td>0.647940</td>\n",
       "      <td>0.981544</td>\n",
       "      <td>2.665400</td>\n",
       "      <td>4.218711</td>\n",
       "      <td>6.776609</td>\n",
       "      <td>8.851107</td>\n",
       "      <td>11.731131</td>\n",
       "      <td>16.355563</td>\n",
       "      <td>24.515097</td>\n",
       "    </tr>\n",
       "    <tr>\n",
       "      <th>...</th>\n",
       "      <td>...</td>\n",
       "      <td>...</td>\n",
       "      <td>...</td>\n",
       "      <td>...</td>\n",
       "      <td>...</td>\n",
       "      <td>...</td>\n",
       "      <td>...</td>\n",
       "      <td>...</td>\n",
       "      <td>...</td>\n",
       "      <td>...</td>\n",
       "      <td>...</td>\n",
       "      <td>...</td>\n",
       "      <td>...</td>\n",
       "    </tr>\n",
       "    <tr>\n",
       "      <th>4091</th>\n",
       "      <td>4091</td>\n",
       "      <td>59.5</td>\n",
       "      <td>63.5</td>\n",
       "      <td>0.171015</td>\n",
       "      <td>0.334565</td>\n",
       "      <td>0.556055</td>\n",
       "      <td>1.373291</td>\n",
       "      <td>1.837586</td>\n",
       "      <td>2.517146</td>\n",
       "      <td>3.352280</td>\n",
       "      <td>4.149888</td>\n",
       "      <td>5.426193</td>\n",
       "      <td>7.395835</td>\n",
       "    </tr>\n",
       "    <tr>\n",
       "      <th>4092</th>\n",
       "      <td>4092</td>\n",
       "      <td>60.5</td>\n",
       "      <td>63.5</td>\n",
       "      <td>0.041716</td>\n",
       "      <td>0.061741</td>\n",
       "      <td>0.131291</td>\n",
       "      <td>0.386540</td>\n",
       "      <td>0.755846</td>\n",
       "      <td>0.941116</td>\n",
       "      <td>1.107797</td>\n",
       "      <td>1.309479</td>\n",
       "      <td>2.057450</td>\n",
       "      <td>6.994499</td>\n",
       "    </tr>\n",
       "    <tr>\n",
       "      <th>4093</th>\n",
       "      <td>4093</td>\n",
       "      <td>61.5</td>\n",
       "      <td>63.5</td>\n",
       "      <td>0.100895</td>\n",
       "      <td>0.180352</td>\n",
       "      <td>0.296299</td>\n",
       "      <td>0.705373</td>\n",
       "      <td>1.300220</td>\n",
       "      <td>1.608609</td>\n",
       "      <td>1.822806</td>\n",
       "      <td>2.333681</td>\n",
       "      <td>3.218519</td>\n",
       "      <td>7.474411</td>\n",
       "    </tr>\n",
       "    <tr>\n",
       "      <th>4094</th>\n",
       "      <td>4094</td>\n",
       "      <td>62.5</td>\n",
       "      <td>63.5</td>\n",
       "      <td>0.155353</td>\n",
       "      <td>0.290825</td>\n",
       "      <td>0.557803</td>\n",
       "      <td>1.516066</td>\n",
       "      <td>2.399426</td>\n",
       "      <td>2.719197</td>\n",
       "      <td>4.494515</td>\n",
       "      <td>6.096858</td>\n",
       "      <td>6.262574</td>\n",
       "      <td>12.834038</td>\n",
       "    </tr>\n",
       "    <tr>\n",
       "      <th>4095</th>\n",
       "      <td>4095</td>\n",
       "      <td>63.5</td>\n",
       "      <td>63.5</td>\n",
       "      <td>0.209372</td>\n",
       "      <td>0.340185</td>\n",
       "      <td>0.749491</td>\n",
       "      <td>1.904285</td>\n",
       "      <td>2.775772</td>\n",
       "      <td>3.404641</td>\n",
       "      <td>4.574922</td>\n",
       "      <td>6.301078</td>\n",
       "      <td>6.860939</td>\n",
       "      <td>14.658974</td>\n",
       "    </tr>\n",
       "  </tbody>\n",
       "</table>\n",
       "<p>4096 rows × 13 columns</p>\n",
       "</div>"
      ],
      "text/plain": [
       "      demand_point_index  x_coordinate  y_coordinate      2010      2011  \\\n",
       "0                      0           0.5           0.5  0.352242  0.667932   \n",
       "1                      1           1.5           0.5  0.325940  0.591964   \n",
       "2                      2           2.5           0.5  0.373752  0.591890   \n",
       "3                      3           3.5           0.5  0.420686  0.584055   \n",
       "4                      4           4.5           0.5  0.475621  0.647940   \n",
       "...                  ...           ...           ...       ...       ...   \n",
       "4091                4091          59.5          63.5  0.171015  0.334565   \n",
       "4092                4092          60.5          63.5  0.041716  0.061741   \n",
       "4093                4093          61.5          63.5  0.100895  0.180352   \n",
       "4094                4094          62.5          63.5  0.155353  0.290825   \n",
       "4095                4095          63.5          63.5  0.209372  0.340185   \n",
       "\n",
       "          2012      2013      2014      2015      2016       2017       2018  \\\n",
       "0     0.958593  2.911901  4.338274  6.561995  8.454417  10.595324  13.119572   \n",
       "1     0.862652  2.589068  4.196034  5.745551  8.753195  11.126995  12.020091   \n",
       "2     0.969733  2.641432  3.541772  5.469161  8.414627  10.115336  14.018254   \n",
       "3     0.906547  2.378577  3.888121  5.846089  9.083868  12.424885  15.012302   \n",
       "4     0.981544  2.665400  4.218711  6.776609  8.851107  11.731131  16.355563   \n",
       "...        ...       ...       ...       ...       ...        ...        ...   \n",
       "4091  0.556055  1.373291  1.837586  2.517146  3.352280   4.149888   5.426193   \n",
       "4092  0.131291  0.386540  0.755846  0.941116  1.107797   1.309479   2.057450   \n",
       "4093  0.296299  0.705373  1.300220  1.608609  1.822806   2.333681   3.218519   \n",
       "4094  0.557803  1.516066  2.399426  2.719197  4.494515   6.096858   6.262574   \n",
       "4095  0.749491  1.904285  2.775772  3.404641  4.574922   6.301078   6.860939   \n",
       "\n",
       "           2019  \n",
       "0     22.199108  \n",
       "1     21.265157  \n",
       "2     21.896602  \n",
       "3     24.230437  \n",
       "4     24.515097  \n",
       "...         ...  \n",
       "4091   7.395835  \n",
       "4092   6.994499  \n",
       "4093   7.474411  \n",
       "4094  12.834038  \n",
       "4095  14.658974  \n",
       "\n",
       "[4096 rows x 13 columns]"
      ]
     },
     "execution_count": 173,
     "metadata": {},
     "output_type": "execute_result"
    }
   ],
   "source": [
    "data.df_trans"
   ]
  },
  {
   "cell_type": "code",
   "execution_count": 174,
   "metadata": {},
   "outputs": [],
   "source": [
    "predicted_2020 = model.predict(2020)"
   ]
  },
  {
   "cell_type": "code",
   "execution_count": 175,
   "metadata": {},
   "outputs": [],
   "source": [
    "data.addYearDemandfromForecast(2020, predicted_2020)"
   ]
  },
  {
   "cell_type": "code",
   "execution_count": 176,
   "metadata": {},
   "outputs": [
    {
     "data": {
      "text/html": [
       "<div>\n",
       "<style scoped>\n",
       "    .dataframe tbody tr th:only-of-type {\n",
       "        vertical-align: middle;\n",
       "    }\n",
       "\n",
       "    .dataframe tbody tr th {\n",
       "        vertical-align: top;\n",
       "    }\n",
       "\n",
       "    .dataframe thead th {\n",
       "        text-align: right;\n",
       "    }\n",
       "</style>\n",
       "<table border=\"1\" class=\"dataframe\">\n",
       "  <thead>\n",
       "    <tr style=\"text-align: right;\">\n",
       "      <th></th>\n",
       "      <th>demand_point_index</th>\n",
       "      <th>x_coordinate</th>\n",
       "      <th>y_coordinate</th>\n",
       "      <th>2010</th>\n",
       "      <th>2011</th>\n",
       "      <th>2012</th>\n",
       "      <th>2013</th>\n",
       "      <th>2014</th>\n",
       "      <th>2015</th>\n",
       "      <th>2016</th>\n",
       "      <th>2017</th>\n",
       "      <th>2018</th>\n",
       "      <th>2019</th>\n",
       "      <th>2020</th>\n",
       "    </tr>\n",
       "  </thead>\n",
       "  <tbody>\n",
       "    <tr>\n",
       "      <th>0</th>\n",
       "      <td>0</td>\n",
       "      <td>0.5</td>\n",
       "      <td>0.5</td>\n",
       "      <td>0.352242</td>\n",
       "      <td>0.667932</td>\n",
       "      <td>0.958593</td>\n",
       "      <td>2.911901</td>\n",
       "      <td>4.338274</td>\n",
       "      <td>6.561995</td>\n",
       "      <td>8.454417</td>\n",
       "      <td>10.595324</td>\n",
       "      <td>13.119572</td>\n",
       "      <td>22.199108</td>\n",
       "      <td>26.918361</td>\n",
       "    </tr>\n",
       "    <tr>\n",
       "      <th>1</th>\n",
       "      <td>1</td>\n",
       "      <td>1.5</td>\n",
       "      <td>0.5</td>\n",
       "      <td>0.325940</td>\n",
       "      <td>0.591964</td>\n",
       "      <td>0.862652</td>\n",
       "      <td>2.589068</td>\n",
       "      <td>4.196034</td>\n",
       "      <td>5.745551</td>\n",
       "      <td>8.753195</td>\n",
       "      <td>11.126995</td>\n",
       "      <td>12.020091</td>\n",
       "      <td>21.265157</td>\n",
       "      <td>26.385195</td>\n",
       "    </tr>\n",
       "    <tr>\n",
       "      <th>2</th>\n",
       "      <td>2</td>\n",
       "      <td>2.5</td>\n",
       "      <td>0.5</td>\n",
       "      <td>0.373752</td>\n",
       "      <td>0.591890</td>\n",
       "      <td>0.969733</td>\n",
       "      <td>2.641432</td>\n",
       "      <td>3.541772</td>\n",
       "      <td>5.469161</td>\n",
       "      <td>8.414627</td>\n",
       "      <td>10.115336</td>\n",
       "      <td>14.018254</td>\n",
       "      <td>21.896602</td>\n",
       "      <td>26.878407</td>\n",
       "    </tr>\n",
       "    <tr>\n",
       "      <th>3</th>\n",
       "      <td>3</td>\n",
       "      <td>3.5</td>\n",
       "      <td>0.5</td>\n",
       "      <td>0.420686</td>\n",
       "      <td>0.584055</td>\n",
       "      <td>0.906547</td>\n",
       "      <td>2.378577</td>\n",
       "      <td>3.888121</td>\n",
       "      <td>5.846089</td>\n",
       "      <td>9.083868</td>\n",
       "      <td>12.424885</td>\n",
       "      <td>15.012302</td>\n",
       "      <td>24.230437</td>\n",
       "      <td>28.356497</td>\n",
       "    </tr>\n",
       "    <tr>\n",
       "      <th>4</th>\n",
       "      <td>4</td>\n",
       "      <td>4.5</td>\n",
       "      <td>0.5</td>\n",
       "      <td>0.475621</td>\n",
       "      <td>0.647940</td>\n",
       "      <td>0.981544</td>\n",
       "      <td>2.665400</td>\n",
       "      <td>4.218711</td>\n",
       "      <td>6.776609</td>\n",
       "      <td>8.851107</td>\n",
       "      <td>11.731131</td>\n",
       "      <td>16.355563</td>\n",
       "      <td>24.515097</td>\n",
       "      <td>28.982798</td>\n",
       "    </tr>\n",
       "    <tr>\n",
       "      <th>...</th>\n",
       "      <td>...</td>\n",
       "      <td>...</td>\n",
       "      <td>...</td>\n",
       "      <td>...</td>\n",
       "      <td>...</td>\n",
       "      <td>...</td>\n",
       "      <td>...</td>\n",
       "      <td>...</td>\n",
       "      <td>...</td>\n",
       "      <td>...</td>\n",
       "      <td>...</td>\n",
       "      <td>...</td>\n",
       "      <td>...</td>\n",
       "      <td>...</td>\n",
       "    </tr>\n",
       "    <tr>\n",
       "      <th>4091</th>\n",
       "      <td>4091</td>\n",
       "      <td>59.5</td>\n",
       "      <td>63.5</td>\n",
       "      <td>0.171015</td>\n",
       "      <td>0.334565</td>\n",
       "      <td>0.556055</td>\n",
       "      <td>1.373291</td>\n",
       "      <td>1.837586</td>\n",
       "      <td>2.517146</td>\n",
       "      <td>3.352280</td>\n",
       "      <td>4.149888</td>\n",
       "      <td>5.426193</td>\n",
       "      <td>7.395835</td>\n",
       "      <td>12.621361</td>\n",
       "    </tr>\n",
       "    <tr>\n",
       "      <th>4092</th>\n",
       "      <td>4092</td>\n",
       "      <td>60.5</td>\n",
       "      <td>63.5</td>\n",
       "      <td>0.041716</td>\n",
       "      <td>0.061741</td>\n",
       "      <td>0.131291</td>\n",
       "      <td>0.386540</td>\n",
       "      <td>0.755846</td>\n",
       "      <td>0.941116</td>\n",
       "      <td>1.107797</td>\n",
       "      <td>1.309479</td>\n",
       "      <td>2.057450</td>\n",
       "      <td>6.994499</td>\n",
       "      <td>11.626224</td>\n",
       "    </tr>\n",
       "    <tr>\n",
       "      <th>4093</th>\n",
       "      <td>4093</td>\n",
       "      <td>61.5</td>\n",
       "      <td>63.5</td>\n",
       "      <td>0.100895</td>\n",
       "      <td>0.180352</td>\n",
       "      <td>0.296299</td>\n",
       "      <td>0.705373</td>\n",
       "      <td>1.300220</td>\n",
       "      <td>1.608609</td>\n",
       "      <td>1.822806</td>\n",
       "      <td>2.333681</td>\n",
       "      <td>3.218519</td>\n",
       "      <td>7.474411</td>\n",
       "      <td>11.849275</td>\n",
       "    </tr>\n",
       "    <tr>\n",
       "      <th>4094</th>\n",
       "      <td>4094</td>\n",
       "      <td>62.5</td>\n",
       "      <td>63.5</td>\n",
       "      <td>0.155353</td>\n",
       "      <td>0.290825</td>\n",
       "      <td>0.557803</td>\n",
       "      <td>1.516066</td>\n",
       "      <td>2.399426</td>\n",
       "      <td>2.719197</td>\n",
       "      <td>4.494515</td>\n",
       "      <td>6.096858</td>\n",
       "      <td>6.262574</td>\n",
       "      <td>12.834038</td>\n",
       "      <td>18.689469</td>\n",
       "    </tr>\n",
       "    <tr>\n",
       "      <th>4095</th>\n",
       "      <td>4095</td>\n",
       "      <td>63.5</td>\n",
       "      <td>63.5</td>\n",
       "      <td>0.209372</td>\n",
       "      <td>0.340185</td>\n",
       "      <td>0.749491</td>\n",
       "      <td>1.904285</td>\n",
       "      <td>2.775772</td>\n",
       "      <td>3.404641</td>\n",
       "      <td>4.574922</td>\n",
       "      <td>6.301078</td>\n",
       "      <td>6.860939</td>\n",
       "      <td>14.658974</td>\n",
       "      <td>20.609424</td>\n",
       "    </tr>\n",
       "  </tbody>\n",
       "</table>\n",
       "<p>4096 rows × 14 columns</p>\n",
       "</div>"
      ],
      "text/plain": [
       "      demand_point_index  x_coordinate  y_coordinate      2010      2011  \\\n",
       "0                      0           0.5           0.5  0.352242  0.667932   \n",
       "1                      1           1.5           0.5  0.325940  0.591964   \n",
       "2                      2           2.5           0.5  0.373752  0.591890   \n",
       "3                      3           3.5           0.5  0.420686  0.584055   \n",
       "4                      4           4.5           0.5  0.475621  0.647940   \n",
       "...                  ...           ...           ...       ...       ...   \n",
       "4091                4091          59.5          63.5  0.171015  0.334565   \n",
       "4092                4092          60.5          63.5  0.041716  0.061741   \n",
       "4093                4093          61.5          63.5  0.100895  0.180352   \n",
       "4094                4094          62.5          63.5  0.155353  0.290825   \n",
       "4095                4095          63.5          63.5  0.209372  0.340185   \n",
       "\n",
       "          2012      2013      2014      2015      2016       2017       2018  \\\n",
       "0     0.958593  2.911901  4.338274  6.561995  8.454417  10.595324  13.119572   \n",
       "1     0.862652  2.589068  4.196034  5.745551  8.753195  11.126995  12.020091   \n",
       "2     0.969733  2.641432  3.541772  5.469161  8.414627  10.115336  14.018254   \n",
       "3     0.906547  2.378577  3.888121  5.846089  9.083868  12.424885  15.012302   \n",
       "4     0.981544  2.665400  4.218711  6.776609  8.851107  11.731131  16.355563   \n",
       "...        ...       ...       ...       ...       ...        ...        ...   \n",
       "4091  0.556055  1.373291  1.837586  2.517146  3.352280   4.149888   5.426193   \n",
       "4092  0.131291  0.386540  0.755846  0.941116  1.107797   1.309479   2.057450   \n",
       "4093  0.296299  0.705373  1.300220  1.608609  1.822806   2.333681   3.218519   \n",
       "4094  0.557803  1.516066  2.399426  2.719197  4.494515   6.096858   6.262574   \n",
       "4095  0.749491  1.904285  2.775772  3.404641  4.574922   6.301078   6.860939   \n",
       "\n",
       "           2019       2020  \n",
       "0     22.199108  26.918361  \n",
       "1     21.265157  26.385195  \n",
       "2     21.896602  26.878407  \n",
       "3     24.230437  28.356497  \n",
       "4     24.515097  28.982798  \n",
       "...         ...        ...  \n",
       "4091   7.395835  12.621361  \n",
       "4092   6.994499  11.626224  \n",
       "4093   7.474411  11.849275  \n",
       "4094  12.834038  18.689469  \n",
       "4095  14.658974  20.609424  \n",
       "\n",
       "[4096 rows x 14 columns]"
      ]
     },
     "execution_count": 176,
     "metadata": {},
     "output_type": "execute_result"
    }
   ],
   "source": [
    "data.df_trans"
   ]
  },
  {
   "cell_type": "code",
   "execution_count": 157,
   "metadata": {},
   "outputs": [],
   "source": [
    "data.df_trans.to_csv(\"data/forecast.csv\")"
   ]
  },
  {
   "cell_type": "code",
   "execution_count": null,
   "metadata": {},
   "outputs": [],
   "source": []
  }
 ],
 "metadata": {
  "kernelspec": {
   "display_name": "Python 3.10.5 ('py310')",
   "language": "python",
   "name": "python3"
  },
  "language_info": {
   "codemirror_mode": {
    "name": "ipython",
    "version": 3
   },
   "file_extension": ".py",
   "mimetype": "text/x-python",
   "name": "python",
   "nbconvert_exporter": "python",
   "pygments_lexer": "ipython3",
   "version": "3.10.5"
  },
  "orig_nbformat": 4,
  "vscode": {
   "interpreter": {
    "hash": "2188dc54a6508a42c9fce3e6e9b2c9c9a4da77d925b31cfa7fabba8d7b1361e2"
   }
  }
 },
 "nbformat": 4,
 "nbformat_minor": 2
}
