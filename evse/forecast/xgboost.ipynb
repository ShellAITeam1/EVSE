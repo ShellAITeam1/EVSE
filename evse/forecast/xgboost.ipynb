{
 "cells": [
  {
   "cell_type": "code",
   "execution_count": 148,
   "metadata": {},
   "outputs": [],
   "source": [
    "import pandas as pd\n",
    "import numpy as np"
   ]
  },
  {
   "cell_type": "code",
   "execution_count": 149,
   "metadata": {},
   "outputs": [],
   "source": [
    "import xgboost as xgb\n",
    "from sklearn.metrics import mean_squared_error, mean_absolute_error\n",
    "from hyperopt import STATUS_OK, Trials, fmin, hp, tpe\n"
   ]
  },
  {
   "cell_type": "code",
   "execution_count": 150,
   "metadata": {},
   "outputs": [],
   "source": [
    "class Data:\n",
    "    def __init__(self, path: str) -> None:    \n",
    "        demand_path = path + \"/Demand_history.csv\"\n",
    "        existingEV_path = path + \"/existing_EV_infrastructure_2018.csv\"\n",
    "        self.df_orig = pd.read_csv(demand_path)\n",
    "        self.df_trans = self.df_orig\n",
    "        \n",
    "    def clean(self):\n",
    "        self.df_orig.loc[(self.df_orig!=0).any(1)]\n",
    "        print(self.df_orig)\n",
    "        \n",
    "    def split(self):\n",
    "        x_train = pd.DataFrame(columns=[\"x_coordinate\", \"y_coordinate\", \"n-2\", \"n-1\"])\n",
    "        x_test = pd.DataFrame(columns=[\"x_coordinate\", \"y_coordinate\", \"n-2\", \"n-1\"])\n",
    "        y_train = pd.Series(dtype=np.float64)\n",
    "        y_test = pd.Series(dtype=np.float64)\n",
    "        for y in self.df_trans.columns[self.df_trans.columns.str.startswith('20')]:\n",
    "            y = int(y)\n",
    "            if y < 2012:\n",
    "                continue\n",
    "            stack_x = self.df_trans.loc[:, self.df_trans.columns.isin([\"x_coordinate\", \"y_coordinate\", f\"{y - 2}\", f\"{y - 1}\"])]\n",
    "            stack_x = stack_x.rename(columns={f\"{y - 2}\": \"n-2\", f\"{y - 1}\": \"n-1\"})\n",
    "            # stack_x['year'] = y\n",
    "            # stack_x['year'] = pd.to_numeric(stack_x['year'])\n",
    "            stack_y = self.df_trans.loc[:, f\"{y}\"]\n",
    "            if y == 2018:\n",
    "                 x_test = pd.concat([x_test, stack_x], axis=0, ignore_index=True)\n",
    "                 y_test = pd.concat([y_test, stack_y], axis=0, ignore_index=True)\n",
    "            else:\n",
    "                x_train = pd.concat([x_train, stack_x], axis=0, ignore_index=True)\n",
    "                y_train = pd.concat([y_train, stack_y], axis=0, ignore_index=True)\n",
    "        \n",
    "        data.x_train = x_train\n",
    "        data.x_test = x_test\n",
    "        data.y_train = y_train\n",
    "        data.y_test = y_test\n",
    "        \n",
    "    def addYearDemandfromForecast(self, year: int, predicted: np.array) -> None:\n",
    "        predicted = predicted.reshape(-1, 1)\n",
    "        self.df_trans[f\"{year}\"] = predicted        \n",
    "                  \n",
    "path = \"data\"\n",
    "data = Data(path)\n",
    "data.split()"
   ]
  },
  {
   "cell_type": "code",
   "execution_count": 151,
   "metadata": {},
   "outputs": [],
   "source": [
    "class Model:\n",
    "    def __init__(self, data: Data) -> None:\n",
    "        self.data = data\n",
    "        self.model = xgb.XGBRegressor()\n",
    "    \n",
    "    def feature_importance(self) -> None:\n",
    "        _ = xgb.plot_importance(self.model, height=0.9)\n",
    "    \n",
    "    def fit(self) -> None:\n",
    "        self.model.fit(data.x_train, data.y_train,\n",
    "            eval_set=[(data.x_train, data.y_train), (data.x_test, data.y_test)],\n",
    "            early_stopping_rounds=10)\n",
    "    \n",
    "    def predict(self, year: int) -> pd.Series:\n",
    "        x_forecast = \\\n",
    "            data.df_trans.loc[:,\n",
    "                              data.df_trans.columns.isin([\"x_coordinate\", \"y_coordinate\", f\"{year - 2}\", f\"{year - 1}\"])]\n",
    "        # x_forecast['year'] = year          \n",
    "        return self.model.predict(x_forecast)\n",
    "    \n",
    "    def set_params(self, params):\n",
    "        params['n_estimators'] = int(params['n_estimators'])\n",
    "        params['max_depth'] = int(params['max_depth'])\n",
    "        self.model.set_params(**params)\n",
    "        "
   ]
  },
  {
   "cell_type": "code",
   "execution_count": 152,
   "metadata": {},
   "outputs": [],
   "source": [
    "model = Model(data)"
   ]
  },
  {
   "cell_type": "code",
   "execution_count": 153,
   "metadata": {},
   "outputs": [],
   "source": [
    "space = {'max_depth': hp.quniform(\"max_depth\", 3, 18, 1),\n",
    "        'gamma': hp.uniform ('gamma', 1,9),\n",
    "        'reg_alpha' : hp.quniform('reg_alpha', 40,180,1),\n",
    "        'reg_lambda' : hp.uniform('reg_lambda', 0,1),\n",
    "        'colsample_bytree' : hp.uniform('colsample_bytree', 0.5,1),\n",
    "        'min_child_weight' : hp.quniform('min_child_weight', 0, 10, 1),\n",
    "        'n_estimators': hp.quniform(\"n_estimators\", 100, 1000, 10),\n",
    "        'seed': 0,\n",
    "        'objective': 'reg:squarederror'\n",
    "    }\n",
    "\n",
    "def objective(space):\n",
    "    model.set_params(space)\n",
    "    \n",
    "    evaluation = [(data.x_train, data.y_train), (data.x_test, data.y_test)]\n",
    "    \n",
    "    model.model.fit(data.x_train, data.y_train,\n",
    "            eval_set=evaluation, eval_metric=\"rmse\",\n",
    "            early_stopping_rounds=10, verbose=False)\n",
    "    \n",
    "\n",
    "    pred = model.predict(2018)\n",
    "    rmse = mean_squared_error(data.y_test, pred)\n",
    "    print (\"mse:\", rmse)\n",
    "    return {'loss': rmse, 'status': STATUS_OK }"
   ]
  },
  {
   "cell_type": "code",
   "execution_count": 154,
   "metadata": {},
   "outputs": [
    {
     "name": "stdout",
     "output_type": "stream",
     "text": [
      "  0%|          | 0/100 [00:00<?, ?trial/s, best loss=?]"
     ]
    },
    {
     "name": "stderr",
     "output_type": "stream",
     "text": [
      "/Users/manuel.ramos/miniforge3/envs/py310/lib/python3.10/site-packages/xgboost/data.py:250: FutureWarning: pandas.Int64Index is deprecated and will be removed from pandas in a future version. Use pandas.Index with the appropriate dtype instead.\n",
      "  elif isinstance(data.columns, (pd.Int64Index, pd.RangeIndex)):\n",
      "\n"
     ]
    },
    {
     "name": "stdout",
     "output_type": "stream",
     "text": [
      "mse:                                                   \n",
      "249.2610274244484                                      \n",
      "  1%|          | 1/100 [00:00<00:43,  2.30trial/s, best loss: 249.2610274244484]"
     ]
    },
    {
     "name": "stderr",
     "output_type": "stream",
     "text": [
      "/Users/manuel.ramos/miniforge3/envs/py310/lib/python3.10/site-packages/xgboost/data.py:250: FutureWarning: pandas.Int64Index is deprecated and will be removed from pandas in a future version. Use pandas.Index with the appropriate dtype instead.\n",
      "  elif isinstance(data.columns, (pd.Int64Index, pd.RangeIndex)):\n",
      "\n"
     ]
    },
    {
     "name": "stdout",
     "output_type": "stream",
     "text": [
      "mse:                                                                            \n",
      "240.90202987669983                                                              \n",
      "  2%|▏         | 2/100 [00:00<00:46,  2.13trial/s, best loss: 240.90202987669983]"
     ]
    },
    {
     "name": "stderr",
     "output_type": "stream",
     "text": [
      "/Users/manuel.ramos/miniforge3/envs/py310/lib/python3.10/site-packages/xgboost/data.py:250: FutureWarning: pandas.Int64Index is deprecated and will be removed from pandas in a future version. Use pandas.Index with the appropriate dtype instead.\n",
      "  elif isinstance(data.columns, (pd.Int64Index, pd.RangeIndex)):\n",
      "\n"
     ]
    },
    {
     "name": "stdout",
     "output_type": "stream",
     "text": [
      "mse:                                                                             \n",
      "257.4394280582759                                                                \n",
      "  3%|▎         | 3/100 [00:01<00:50,  1.93trial/s, best loss: 240.90202987669983]"
     ]
    },
    {
     "name": "stderr",
     "output_type": "stream",
     "text": [
      "/Users/manuel.ramos/miniforge3/envs/py310/lib/python3.10/site-packages/xgboost/data.py:250: FutureWarning: pandas.Int64Index is deprecated and will be removed from pandas in a future version. Use pandas.Index with the appropriate dtype instead.\n",
      "  elif isinstance(data.columns, (pd.Int64Index, pd.RangeIndex)):\n",
      "\n"
     ]
    },
    {
     "name": "stdout",
     "output_type": "stream",
     "text": [
      "mse:                                                                             \n",
      "272.11202063382865                                                               \n",
      "  4%|▍         | 4/100 [00:01<00:44,  2.17trial/s, best loss: 240.90202987669983]"
     ]
    },
    {
     "name": "stderr",
     "output_type": "stream",
     "text": [
      "/Users/manuel.ramos/miniforge3/envs/py310/lib/python3.10/site-packages/xgboost/data.py:250: FutureWarning: pandas.Int64Index is deprecated and will be removed from pandas in a future version. Use pandas.Index with the appropriate dtype instead.\n",
      "  elif isinstance(data.columns, (pd.Int64Index, pd.RangeIndex)):\n",
      "\n"
     ]
    },
    {
     "name": "stdout",
     "output_type": "stream",
     "text": [
      "mse:                                                                             \n",
      "244.14017425108045                                                               \n",
      "  5%|▌         | 5/100 [00:02<00:41,  2.31trial/s, best loss: 240.90202987669983]"
     ]
    },
    {
     "name": "stderr",
     "output_type": "stream",
     "text": [
      "/Users/manuel.ramos/miniforge3/envs/py310/lib/python3.10/site-packages/xgboost/data.py:250: FutureWarning: pandas.Int64Index is deprecated and will be removed from pandas in a future version. Use pandas.Index with the appropriate dtype instead.\n",
      "  elif isinstance(data.columns, (pd.Int64Index, pd.RangeIndex)):\n",
      "\n"
     ]
    },
    {
     "name": "stdout",
     "output_type": "stream",
     "text": [
      "mse:                                                                             \n",
      "256.4069289094956                                                                \n",
      "  6%|▌         | 6/100 [00:02<00:47,  1.97trial/s, best loss: 240.90202987669983]"
     ]
    },
    {
     "name": "stderr",
     "output_type": "stream",
     "text": [
      "/Users/manuel.ramos/miniforge3/envs/py310/lib/python3.10/site-packages/xgboost/data.py:250: FutureWarning: pandas.Int64Index is deprecated and will be removed from pandas in a future version. Use pandas.Index with the appropriate dtype instead.\n",
      "  elif isinstance(data.columns, (pd.Int64Index, pd.RangeIndex)):\n",
      "\n"
     ]
    },
    {
     "name": "stdout",
     "output_type": "stream",
     "text": [
      "mse:                                                                             \n",
      "264.9476298845866                                                                \n",
      "  7%|▋         | 7/100 [00:03<00:41,  2.23trial/s, best loss: 240.90202987669983]"
     ]
    },
    {
     "name": "stderr",
     "output_type": "stream",
     "text": [
      "/Users/manuel.ramos/miniforge3/envs/py310/lib/python3.10/site-packages/xgboost/data.py:250: FutureWarning: pandas.Int64Index is deprecated and will be removed from pandas in a future version. Use pandas.Index with the appropriate dtype instead.\n",
      "  elif isinstance(data.columns, (pd.Int64Index, pd.RangeIndex)):\n",
      "\n"
     ]
    },
    {
     "name": "stdout",
     "output_type": "stream",
     "text": [
      "mse:                                                                             \n",
      "254.82848293249594                                                               \n",
      "  8%|▊         | 8/100 [00:03<00:38,  2.37trial/s, best loss: 240.90202987669983]"
     ]
    },
    {
     "name": "stderr",
     "output_type": "stream",
     "text": [
      "/Users/manuel.ramos/miniforge3/envs/py310/lib/python3.10/site-packages/xgboost/data.py:250: FutureWarning: pandas.Int64Index is deprecated and will be removed from pandas in a future version. Use pandas.Index with the appropriate dtype instead.\n",
      "  elif isinstance(data.columns, (pd.Int64Index, pd.RangeIndex)):\n",
      "\n"
     ]
    },
    {
     "name": "stdout",
     "output_type": "stream",
     "text": [
      "mse:                                                                             \n",
      "250.5887303275382                                                                \n",
      "  9%|▉         | 9/100 [00:04<00:43,  2.09trial/s, best loss: 240.90202987669983]"
     ]
    },
    {
     "name": "stderr",
     "output_type": "stream",
     "text": [
      "/Users/manuel.ramos/miniforge3/envs/py310/lib/python3.10/site-packages/xgboost/data.py:250: FutureWarning: pandas.Int64Index is deprecated and will be removed from pandas in a future version. Use pandas.Index with the appropriate dtype instead.\n",
      "  elif isinstance(data.columns, (pd.Int64Index, pd.RangeIndex)):\n",
      "\n"
     ]
    },
    {
     "name": "stdout",
     "output_type": "stream",
     "text": [
      "mse:                                                                             \n",
      "242.91765328819073                                                               \n",
      " 10%|█         | 10/100 [00:04<00:41,  2.17trial/s, best loss: 240.90202987669983]"
     ]
    },
    {
     "name": "stderr",
     "output_type": "stream",
     "text": [
      "/Users/manuel.ramos/miniforge3/envs/py310/lib/python3.10/site-packages/xgboost/data.py:250: FutureWarning: pandas.Int64Index is deprecated and will be removed from pandas in a future version. Use pandas.Index with the appropriate dtype instead.\n",
      "  elif isinstance(data.columns, (pd.Int64Index, pd.RangeIndex)):\n",
      "\n"
     ]
    },
    {
     "name": "stdout",
     "output_type": "stream",
     "text": [
      "mse:                                                                              \n",
      "269.1637814052601                                                                 \n",
      " 11%|█         | 11/100 [00:04<00:37,  2.40trial/s, best loss: 240.90202987669983]"
     ]
    },
    {
     "name": "stderr",
     "output_type": "stream",
     "text": [
      "/Users/manuel.ramos/miniforge3/envs/py310/lib/python3.10/site-packages/xgboost/data.py:250: FutureWarning: pandas.Int64Index is deprecated and will be removed from pandas in a future version. Use pandas.Index with the appropriate dtype instead.\n",
      "  elif isinstance(data.columns, (pd.Int64Index, pd.RangeIndex)):\n",
      "\n"
     ]
    },
    {
     "name": "stdout",
     "output_type": "stream",
     "text": [
      "mse:                                                                              \n",
      "265.9959308775314                                                                 \n",
      " 12%|█▏        | 12/100 [00:05<00:40,  2.18trial/s, best loss: 240.90202987669983]"
     ]
    },
    {
     "name": "stderr",
     "output_type": "stream",
     "text": [
      "/Users/manuel.ramos/miniforge3/envs/py310/lib/python3.10/site-packages/xgboost/data.py:250: FutureWarning: pandas.Int64Index is deprecated and will be removed from pandas in a future version. Use pandas.Index with the appropriate dtype instead.\n",
      "  elif isinstance(data.columns, (pd.Int64Index, pd.RangeIndex)):\n",
      "\n"
     ]
    },
    {
     "name": "stdout",
     "output_type": "stream",
     "text": [
      "mse:                                                                              \n",
      "247.0199504279583                                                                 \n",
      " 13%|█▎        | 13/100 [00:05<00:38,  2.27trial/s, best loss: 240.90202987669983]"
     ]
    },
    {
     "name": "stderr",
     "output_type": "stream",
     "text": [
      "/Users/manuel.ramos/miniforge3/envs/py310/lib/python3.10/site-packages/xgboost/data.py:250: FutureWarning: pandas.Int64Index is deprecated and will be removed from pandas in a future version. Use pandas.Index with the appropriate dtype instead.\n",
      "  elif isinstance(data.columns, (pd.Int64Index, pd.RangeIndex)):\n",
      "\n"
     ]
    },
    {
     "name": "stdout",
     "output_type": "stream",
     "text": [
      "mse:                                                                              \n",
      "267.91344452860415                                                                \n",
      " 14%|█▍        | 14/100 [00:06<00:40,  2.10trial/s, best loss: 240.90202987669983]"
     ]
    },
    {
     "name": "stderr",
     "output_type": "stream",
     "text": [
      "/Users/manuel.ramos/miniforge3/envs/py310/lib/python3.10/site-packages/xgboost/data.py:250: FutureWarning: pandas.Int64Index is deprecated and will be removed from pandas in a future version. Use pandas.Index with the appropriate dtype instead.\n",
      "  elif isinstance(data.columns, (pd.Int64Index, pd.RangeIndex)):\n",
      "\n"
     ]
    },
    {
     "name": "stdout",
     "output_type": "stream",
     "text": [
      "mse:                                                                              \n",
      "265.5989653108653                                                                 \n",
      " 15%|█▌        | 15/100 [00:06<00:34,  2.48trial/s, best loss: 240.90202987669983]"
     ]
    },
    {
     "name": "stderr",
     "output_type": "stream",
     "text": [
      "/Users/manuel.ramos/miniforge3/envs/py310/lib/python3.10/site-packages/xgboost/data.py:250: FutureWarning: pandas.Int64Index is deprecated and will be removed from pandas in a future version. Use pandas.Index with the appropriate dtype instead.\n",
      "  elif isinstance(data.columns, (pd.Int64Index, pd.RangeIndex)):\n",
      "\n"
     ]
    },
    {
     "name": "stdout",
     "output_type": "stream",
     "text": [
      "mse:                                                                              \n",
      "248.97331093615207                                                                \n",
      " 16%|█▌        | 16/100 [00:07<00:41,  2.03trial/s, best loss: 240.90202987669983]"
     ]
    },
    {
     "name": "stderr",
     "output_type": "stream",
     "text": [
      "/Users/manuel.ramos/miniforge3/envs/py310/lib/python3.10/site-packages/xgboost/data.py:250: FutureWarning: pandas.Int64Index is deprecated and will be removed from pandas in a future version. Use pandas.Index with the appropriate dtype instead.\n",
      "  elif isinstance(data.columns, (pd.Int64Index, pd.RangeIndex)):\n",
      "\n"
     ]
    },
    {
     "name": "stdout",
     "output_type": "stream",
     "text": [
      "mse:                                                                              \n",
      "241.2323255556521                                                                 \n",
      " 17%|█▋        | 17/100 [00:08<00:44,  1.87trial/s, best loss: 240.90202987669983]"
     ]
    },
    {
     "name": "stderr",
     "output_type": "stream",
     "text": [
      "/Users/manuel.ramos/miniforge3/envs/py310/lib/python3.10/site-packages/xgboost/data.py:250: FutureWarning: pandas.Int64Index is deprecated and will be removed from pandas in a future version. Use pandas.Index with the appropriate dtype instead.\n",
      "  elif isinstance(data.columns, (pd.Int64Index, pd.RangeIndex)):\n",
      "\n"
     ]
    },
    {
     "name": "stdout",
     "output_type": "stream",
     "text": [
      "mse:                                                                              \n",
      "266.62981619259665                                                                \n",
      " 18%|█▊        | 18/100 [00:08<00:47,  1.73trial/s, best loss: 240.90202987669983]"
     ]
    },
    {
     "name": "stderr",
     "output_type": "stream",
     "text": [
      "/Users/manuel.ramos/miniforge3/envs/py310/lib/python3.10/site-packages/xgboost/data.py:250: FutureWarning: pandas.Int64Index is deprecated and will be removed from pandas in a future version. Use pandas.Index with the appropriate dtype instead.\n",
      "  elif isinstance(data.columns, (pd.Int64Index, pd.RangeIndex)):\n",
      "\n"
     ]
    },
    {
     "name": "stdout",
     "output_type": "stream",
     "text": [
      "mse:                                                                              \n",
      "255.7121453586634                                                                 \n",
      " 19%|█▉        | 19/100 [00:09<00:43,  1.86trial/s, best loss: 240.90202987669983]"
     ]
    },
    {
     "name": "stderr",
     "output_type": "stream",
     "text": [
      "/Users/manuel.ramos/miniforge3/envs/py310/lib/python3.10/site-packages/xgboost/data.py:250: FutureWarning: pandas.Int64Index is deprecated and will be removed from pandas in a future version. Use pandas.Index with the appropriate dtype instead.\n",
      "  elif isinstance(data.columns, (pd.Int64Index, pd.RangeIndex)):\n",
      "\n"
     ]
    },
    {
     "name": "stdout",
     "output_type": "stream",
     "text": [
      "mse:                                                                              \n",
      "273.5692178089752                                                                 \n",
      " 20%|██        | 20/100 [00:09<00:45,  1.77trial/s, best loss: 240.90202987669983]"
     ]
    },
    {
     "name": "stderr",
     "output_type": "stream",
     "text": [
      "/Users/manuel.ramos/miniforge3/envs/py310/lib/python3.10/site-packages/xgboost/data.py:250: FutureWarning: pandas.Int64Index is deprecated and will be removed from pandas in a future version. Use pandas.Index with the appropriate dtype instead.\n",
      "  elif isinstance(data.columns, (pd.Int64Index, pd.RangeIndex)):\n",
      "\n"
     ]
    },
    {
     "name": "stdout",
     "output_type": "stream",
     "text": [
      "mse:                                                                              \n",
      "235.69715748148073                                                                \n",
      " 21%|██        | 21/100 [00:10<00:45,  1.75trial/s, best loss: 235.69715748148073]"
     ]
    },
    {
     "name": "stderr",
     "output_type": "stream",
     "text": [
      "/Users/manuel.ramos/miniforge3/envs/py310/lib/python3.10/site-packages/xgboost/data.py:250: FutureWarning: pandas.Int64Index is deprecated and will be removed from pandas in a future version. Use pandas.Index with the appropriate dtype instead.\n",
      "  elif isinstance(data.columns, (pd.Int64Index, pd.RangeIndex)):\n",
      "\n"
     ]
    },
    {
     "name": "stdout",
     "output_type": "stream",
     "text": [
      "mse:                                                                              \n",
      "243.0291794737649                                                                 \n",
      " 22%|██▏       | 22/100 [00:11<00:46,  1.68trial/s, best loss: 235.69715748148073]"
     ]
    },
    {
     "name": "stderr",
     "output_type": "stream",
     "text": [
      "/Users/manuel.ramos/miniforge3/envs/py310/lib/python3.10/site-packages/xgboost/data.py:250: FutureWarning: pandas.Int64Index is deprecated and will be removed from pandas in a future version. Use pandas.Index with the appropriate dtype instead.\n",
      "  elif isinstance(data.columns, (pd.Int64Index, pd.RangeIndex)):\n",
      "\n"
     ]
    },
    {
     "name": "stdout",
     "output_type": "stream",
     "text": [
      "mse:                                                                              \n",
      "282.2909163244228                                                                 \n",
      " 23%|██▎       | 23/100 [00:11<00:49,  1.57trial/s, best loss: 235.69715748148073]"
     ]
    },
    {
     "name": "stderr",
     "output_type": "stream",
     "text": [
      "/Users/manuel.ramos/miniforge3/envs/py310/lib/python3.10/site-packages/xgboost/data.py:250: FutureWarning: pandas.Int64Index is deprecated and will be removed from pandas in a future version. Use pandas.Index with the appropriate dtype instead.\n",
      "  elif isinstance(data.columns, (pd.Int64Index, pd.RangeIndex)):\n",
      "\n"
     ]
    },
    {
     "name": "stdout",
     "output_type": "stream",
     "text": [
      "mse:                                                                              \n",
      "238.3264973172673                                                                 \n",
      " 24%|██▍       | 24/100 [00:12<00:46,  1.65trial/s, best loss: 235.69715748148073]"
     ]
    },
    {
     "name": "stderr",
     "output_type": "stream",
     "text": [
      "/Users/manuel.ramos/miniforge3/envs/py310/lib/python3.10/site-packages/xgboost/data.py:250: FutureWarning: pandas.Int64Index is deprecated and will be removed from pandas in a future version. Use pandas.Index with the appropriate dtype instead.\n",
      "  elif isinstance(data.columns, (pd.Int64Index, pd.RangeIndex)):\n",
      "\n"
     ]
    },
    {
     "name": "stdout",
     "output_type": "stream",
     "text": [
      "mse:                                                                              \n",
      "238.26182171457953                                                                \n",
      " 25%|██▌       | 25/100 [00:12<00:46,  1.61trial/s, best loss: 235.69715748148073]"
     ]
    },
    {
     "name": "stderr",
     "output_type": "stream",
     "text": [
      "/Users/manuel.ramos/miniforge3/envs/py310/lib/python3.10/site-packages/xgboost/data.py:250: FutureWarning: pandas.Int64Index is deprecated and will be removed from pandas in a future version. Use pandas.Index with the appropriate dtype instead.\n",
      "  elif isinstance(data.columns, (pd.Int64Index, pd.RangeIndex)):\n",
      "\n"
     ]
    },
    {
     "name": "stdout",
     "output_type": "stream",
     "text": [
      "mse:                                                                              \n",
      "279.5304774027987                                                                 \n",
      " 26%|██▌       | 26/100 [00:13<00:46,  1.60trial/s, best loss: 235.69715748148073]"
     ]
    },
    {
     "name": "stderr",
     "output_type": "stream",
     "text": [
      "/Users/manuel.ramos/miniforge3/envs/py310/lib/python3.10/site-packages/xgboost/data.py:250: FutureWarning: pandas.Int64Index is deprecated and will be removed from pandas in a future version. Use pandas.Index with the appropriate dtype instead.\n",
      "  elif isinstance(data.columns, (pd.Int64Index, pd.RangeIndex)):\n",
      "\n"
     ]
    },
    {
     "name": "stdout",
     "output_type": "stream",
     "text": [
      "mse:                                                                              \n",
      "278.22181842870765                                                                \n",
      " 27%|██▋       | 27/100 [00:14<00:46,  1.56trial/s, best loss: 235.69715748148073]"
     ]
    },
    {
     "name": "stderr",
     "output_type": "stream",
     "text": [
      "/Users/manuel.ramos/miniforge3/envs/py310/lib/python3.10/site-packages/xgboost/data.py:250: FutureWarning: pandas.Int64Index is deprecated and will be removed from pandas in a future version. Use pandas.Index with the appropriate dtype instead.\n",
      "  elif isinstance(data.columns, (pd.Int64Index, pd.RangeIndex)):\n",
      "\n"
     ]
    },
    {
     "name": "stdout",
     "output_type": "stream",
     "text": [
      "mse:                                                                              \n",
      "250.9868680609117                                                                 \n",
      " 28%|██▊       | 28/100 [00:14<00:47,  1.53trial/s, best loss: 235.69715748148073]"
     ]
    },
    {
     "name": "stderr",
     "output_type": "stream",
     "text": [
      "/Users/manuel.ramos/miniforge3/envs/py310/lib/python3.10/site-packages/xgboost/data.py:250: FutureWarning: pandas.Int64Index is deprecated and will be removed from pandas in a future version. Use pandas.Index with the appropriate dtype instead.\n",
      "  elif isinstance(data.columns, (pd.Int64Index, pd.RangeIndex)):\n",
      "\n"
     ]
    },
    {
     "name": "stdout",
     "output_type": "stream",
     "text": [
      "mse:                                                                              \n",
      "243.78420774975118                                                                \n",
      " 29%|██▉       | 29/100 [00:15<00:43,  1.62trial/s, best loss: 235.69715748148073]"
     ]
    },
    {
     "name": "stderr",
     "output_type": "stream",
     "text": [
      "/Users/manuel.ramos/miniforge3/envs/py310/lib/python3.10/site-packages/xgboost/data.py:250: FutureWarning: pandas.Int64Index is deprecated and will be removed from pandas in a future version. Use pandas.Index with the appropriate dtype instead.\n",
      "  elif isinstance(data.columns, (pd.Int64Index, pd.RangeIndex)):\n",
      "\n"
     ]
    },
    {
     "name": "stdout",
     "output_type": "stream",
     "text": [
      "mse:                                                                              \n",
      "249.82010034309212                                                                \n",
      " 30%|███       | 30/100 [00:16<00:41,  1.67trial/s, best loss: 235.69715748148073]"
     ]
    },
    {
     "name": "stderr",
     "output_type": "stream",
     "text": [
      "/Users/manuel.ramos/miniforge3/envs/py310/lib/python3.10/site-packages/xgboost/data.py:250: FutureWarning: pandas.Int64Index is deprecated and will be removed from pandas in a future version. Use pandas.Index with the appropriate dtype instead.\n",
      "  elif isinstance(data.columns, (pd.Int64Index, pd.RangeIndex)):\n",
      "\n"
     ]
    },
    {
     "name": "stdout",
     "output_type": "stream",
     "text": [
      "mse:                                                                              \n",
      "274.2586142582226                                                                 \n",
      " 31%|███       | 31/100 [00:16<00:43,  1.58trial/s, best loss: 235.69715748148073]"
     ]
    },
    {
     "name": "stderr",
     "output_type": "stream",
     "text": [
      "/Users/manuel.ramos/miniforge3/envs/py310/lib/python3.10/site-packages/xgboost/data.py:250: FutureWarning: pandas.Int64Index is deprecated and will be removed from pandas in a future version. Use pandas.Index with the appropriate dtype instead.\n",
      "  elif isinstance(data.columns, (pd.Int64Index, pd.RangeIndex)):\n",
      "\n"
     ]
    },
    {
     "name": "stdout",
     "output_type": "stream",
     "text": [
      "mse:                                                                              \n",
      "253.38757161383967                                                                \n",
      " 32%|███▏      | 32/100 [00:17<00:42,  1.60trial/s, best loss: 235.69715748148073]"
     ]
    },
    {
     "name": "stderr",
     "output_type": "stream",
     "text": [
      "/Users/manuel.ramos/miniforge3/envs/py310/lib/python3.10/site-packages/xgboost/data.py:250: FutureWarning: pandas.Int64Index is deprecated and will be removed from pandas in a future version. Use pandas.Index with the appropriate dtype instead.\n",
      "  elif isinstance(data.columns, (pd.Int64Index, pd.RangeIndex)):\n",
      "\n"
     ]
    },
    {
     "name": "stdout",
     "output_type": "stream",
     "text": [
      "mse:                                                                              \n",
      "274.71373774902145                                                                \n",
      " 33%|███▎      | 33/100 [00:17<00:42,  1.59trial/s, best loss: 235.69715748148073]"
     ]
    },
    {
     "name": "stderr",
     "output_type": "stream",
     "text": [
      "/Users/manuel.ramos/miniforge3/envs/py310/lib/python3.10/site-packages/xgboost/data.py:250: FutureWarning: pandas.Int64Index is deprecated and will be removed from pandas in a future version. Use pandas.Index with the appropriate dtype instead.\n",
      "  elif isinstance(data.columns, (pd.Int64Index, pd.RangeIndex)):\n",
      "\n"
     ]
    },
    {
     "name": "stdout",
     "output_type": "stream",
     "text": [
      "mse:                                                                              \n",
      "245.2469577376724                                                                 \n",
      " 34%|███▍      | 34/100 [00:18<00:41,  1.59trial/s, best loss: 235.69715748148073]"
     ]
    },
    {
     "name": "stderr",
     "output_type": "stream",
     "text": [
      "/Users/manuel.ramos/miniforge3/envs/py310/lib/python3.10/site-packages/xgboost/data.py:250: FutureWarning: pandas.Int64Index is deprecated and will be removed from pandas in a future version. Use pandas.Index with the appropriate dtype instead.\n",
      "  elif isinstance(data.columns, (pd.Int64Index, pd.RangeIndex)):\n",
      "\n"
     ]
    },
    {
     "name": "stdout",
     "output_type": "stream",
     "text": [
      "mse:                                                                              \n",
      "247.8979195948099                                                                 \n",
      " 35%|███▌      | 35/100 [00:19<00:40,  1.61trial/s, best loss: 235.69715748148073]"
     ]
    },
    {
     "name": "stderr",
     "output_type": "stream",
     "text": [
      "/Users/manuel.ramos/miniforge3/envs/py310/lib/python3.10/site-packages/xgboost/data.py:250: FutureWarning: pandas.Int64Index is deprecated and will be removed from pandas in a future version. Use pandas.Index with the appropriate dtype instead.\n",
      "  elif isinstance(data.columns, (pd.Int64Index, pd.RangeIndex)):\n",
      "\n"
     ]
    },
    {
     "name": "stdout",
     "output_type": "stream",
     "text": [
      "mse:                                                                              \n",
      "275.06004813089936                                                                \n",
      " 36%|███▌      | 36/100 [00:19<00:38,  1.66trial/s, best loss: 235.69715748148073]"
     ]
    },
    {
     "name": "stderr",
     "output_type": "stream",
     "text": [
      "/Users/manuel.ramos/miniforge3/envs/py310/lib/python3.10/site-packages/xgboost/data.py:250: FutureWarning: pandas.Int64Index is deprecated and will be removed from pandas in a future version. Use pandas.Index with the appropriate dtype instead.\n",
      "  elif isinstance(data.columns, (pd.Int64Index, pd.RangeIndex)):\n",
      "\n"
     ]
    },
    {
     "name": "stdout",
     "output_type": "stream",
     "text": [
      "mse:                                                                              \n",
      "245.28935946367875                                                                \n",
      " 37%|███▋      | 37/100 [00:20<00:36,  1.70trial/s, best loss: 235.69715748148073]"
     ]
    },
    {
     "name": "stderr",
     "output_type": "stream",
     "text": [
      "/Users/manuel.ramos/miniforge3/envs/py310/lib/python3.10/site-packages/xgboost/data.py:250: FutureWarning: pandas.Int64Index is deprecated and will be removed from pandas in a future version. Use pandas.Index with the appropriate dtype instead.\n",
      "  elif isinstance(data.columns, (pd.Int64Index, pd.RangeIndex)):\n",
      "\n"
     ]
    },
    {
     "name": "stdout",
     "output_type": "stream",
     "text": [
      "mse:                                                                              \n",
      "251.97092646553241                                                                \n",
      " 38%|███▊      | 38/100 [00:20<00:37,  1.65trial/s, best loss: 235.69715748148073]"
     ]
    },
    {
     "name": "stderr",
     "output_type": "stream",
     "text": [
      "/Users/manuel.ramos/miniforge3/envs/py310/lib/python3.10/site-packages/xgboost/data.py:250: FutureWarning: pandas.Int64Index is deprecated and will be removed from pandas in a future version. Use pandas.Index with the appropriate dtype instead.\n",
      "  elif isinstance(data.columns, (pd.Int64Index, pd.RangeIndex)):\n",
      "\n"
     ]
    },
    {
     "name": "stdout",
     "output_type": "stream",
     "text": [
      "mse:                                                                              \n",
      "269.154712492001                                                                  \n",
      " 39%|███▉      | 39/100 [00:21<00:37,  1.62trial/s, best loss: 235.69715748148073]"
     ]
    },
    {
     "name": "stderr",
     "output_type": "stream",
     "text": [
      "/Users/manuel.ramos/miniforge3/envs/py310/lib/python3.10/site-packages/xgboost/data.py:250: FutureWarning: pandas.Int64Index is deprecated and will be removed from pandas in a future version. Use pandas.Index with the appropriate dtype instead.\n",
      "  elif isinstance(data.columns, (pd.Int64Index, pd.RangeIndex)):\n",
      "\n"
     ]
    },
    {
     "name": "stdout",
     "output_type": "stream",
     "text": [
      "mse:                                                                              \n",
      "251.15040164653126                                                                \n",
      " 40%|████      | 40/100 [00:22<00:37,  1.59trial/s, best loss: 235.69715748148073]"
     ]
    },
    {
     "name": "stderr",
     "output_type": "stream",
     "text": [
      "/Users/manuel.ramos/miniforge3/envs/py310/lib/python3.10/site-packages/xgboost/data.py:250: FutureWarning: pandas.Int64Index is deprecated and will be removed from pandas in a future version. Use pandas.Index with the appropriate dtype instead.\n",
      "  elif isinstance(data.columns, (pd.Int64Index, pd.RangeIndex)):\n",
      "\n"
     ]
    },
    {
     "name": "stdout",
     "output_type": "stream",
     "text": [
      "mse:                                                                              \n",
      "272.6590734886102                                                                 \n",
      " 41%|████      | 41/100 [00:22<00:36,  1.60trial/s, best loss: 235.69715748148073]"
     ]
    },
    {
     "name": "stderr",
     "output_type": "stream",
     "text": [
      "/Users/manuel.ramos/miniforge3/envs/py310/lib/python3.10/site-packages/xgboost/data.py:250: FutureWarning: pandas.Int64Index is deprecated and will be removed from pandas in a future version. Use pandas.Index with the appropriate dtype instead.\n",
      "  elif isinstance(data.columns, (pd.Int64Index, pd.RangeIndex)):\n",
      "\n"
     ]
    },
    {
     "name": "stdout",
     "output_type": "stream",
     "text": [
      "mse:                                                                              \n",
      "259.65210528089233                                                                \n",
      " 42%|████▏     | 42/100 [00:23<00:33,  1.73trial/s, best loss: 235.69715748148073]"
     ]
    },
    {
     "name": "stderr",
     "output_type": "stream",
     "text": [
      "/Users/manuel.ramos/miniforge3/envs/py310/lib/python3.10/site-packages/xgboost/data.py:250: FutureWarning: pandas.Int64Index is deprecated and will be removed from pandas in a future version. Use pandas.Index with the appropriate dtype instead.\n",
      "  elif isinstance(data.columns, (pd.Int64Index, pd.RangeIndex)):\n",
      "\n"
     ]
    },
    {
     "name": "stdout",
     "output_type": "stream",
     "text": [
      "mse:                                                                              \n",
      "250.2154610629092                                                                 \n",
      " 43%|████▎     | 43/100 [00:24<00:35,  1.59trial/s, best loss: 235.69715748148073]"
     ]
    },
    {
     "name": "stderr",
     "output_type": "stream",
     "text": [
      "/Users/manuel.ramos/miniforge3/envs/py310/lib/python3.10/site-packages/xgboost/data.py:250: FutureWarning: pandas.Int64Index is deprecated and will be removed from pandas in a future version. Use pandas.Index with the appropriate dtype instead.\n",
      "  elif isinstance(data.columns, (pd.Int64Index, pd.RangeIndex)):\n",
      "\n"
     ]
    },
    {
     "name": "stdout",
     "output_type": "stream",
     "text": [
      "mse:                                                                              \n",
      "253.0145854455315                                                                 \n",
      " 44%|████▍     | 44/100 [00:24<00:32,  1.70trial/s, best loss: 235.69715748148073]"
     ]
    },
    {
     "name": "stderr",
     "output_type": "stream",
     "text": [
      "/Users/manuel.ramos/miniforge3/envs/py310/lib/python3.10/site-packages/xgboost/data.py:250: FutureWarning: pandas.Int64Index is deprecated and will be removed from pandas in a future version. Use pandas.Index with the appropriate dtype instead.\n",
      "  elif isinstance(data.columns, (pd.Int64Index, pd.RangeIndex)):\n",
      "\n"
     ]
    },
    {
     "name": "stdout",
     "output_type": "stream",
     "text": [
      "mse:                                                                              \n",
      "262.8272427884434                                                                 \n",
      " 45%|████▌     | 45/100 [00:25<00:34,  1.59trial/s, best loss: 235.69715748148073]"
     ]
    },
    {
     "name": "stderr",
     "output_type": "stream",
     "text": [
      "/Users/manuel.ramos/miniforge3/envs/py310/lib/python3.10/site-packages/xgboost/data.py:250: FutureWarning: pandas.Int64Index is deprecated and will be removed from pandas in a future version. Use pandas.Index with the appropriate dtype instead.\n",
      "  elif isinstance(data.columns, (pd.Int64Index, pd.RangeIndex)):\n",
      "\n"
     ]
    },
    {
     "name": "stdout",
     "output_type": "stream",
     "text": [
      "mse:                                                                              \n",
      "237.56738044988464                                                                \n",
      " 46%|████▌     | 46/100 [00:25<00:32,  1.66trial/s, best loss: 235.69715748148073]"
     ]
    },
    {
     "name": "stderr",
     "output_type": "stream",
     "text": [
      "/Users/manuel.ramos/miniforge3/envs/py310/lib/python3.10/site-packages/xgboost/data.py:250: FutureWarning: pandas.Int64Index is deprecated and will be removed from pandas in a future version. Use pandas.Index with the appropriate dtype instead.\n",
      "  elif isinstance(data.columns, (pd.Int64Index, pd.RangeIndex)):\n",
      "\n"
     ]
    },
    {
     "name": "stdout",
     "output_type": "stream",
     "text": [
      "mse:                                                                              \n",
      "284.03741541173554                                                                \n",
      " 47%|████▋     | 47/100 [00:26<00:26,  2.03trial/s, best loss: 235.69715748148073]"
     ]
    },
    {
     "name": "stderr",
     "output_type": "stream",
     "text": [
      "/Users/manuel.ramos/miniforge3/envs/py310/lib/python3.10/site-packages/xgboost/data.py:250: FutureWarning: pandas.Int64Index is deprecated and will be removed from pandas in a future version. Use pandas.Index with the appropriate dtype instead.\n",
      "  elif isinstance(data.columns, (pd.Int64Index, pd.RangeIndex)):\n",
      "\n"
     ]
    },
    {
     "name": "stdout",
     "output_type": "stream",
     "text": [
      "mse:                                                                              \n",
      "240.7899274157228                                                                 \n",
      " 48%|████▊     | 48/100 [00:26<00:22,  2.28trial/s, best loss: 235.69715748148073]"
     ]
    },
    {
     "name": "stderr",
     "output_type": "stream",
     "text": [
      "/Users/manuel.ramos/miniforge3/envs/py310/lib/python3.10/site-packages/xgboost/data.py:250: FutureWarning: pandas.Int64Index is deprecated and will be removed from pandas in a future version. Use pandas.Index with the appropriate dtype instead.\n",
      "  elif isinstance(data.columns, (pd.Int64Index, pd.RangeIndex)):\n",
      "\n"
     ]
    },
    {
     "name": "stdout",
     "output_type": "stream",
     "text": [
      "mse:                                                                              \n",
      "242.15366385368293                                                                \n",
      " 49%|████▉     | 49/100 [00:26<00:22,  2.28trial/s, best loss: 235.69715748148073]"
     ]
    },
    {
     "name": "stderr",
     "output_type": "stream",
     "text": [
      "/Users/manuel.ramos/miniforge3/envs/py310/lib/python3.10/site-packages/xgboost/data.py:250: FutureWarning: pandas.Int64Index is deprecated and will be removed from pandas in a future version. Use pandas.Index with the appropriate dtype instead.\n",
      "  elif isinstance(data.columns, (pd.Int64Index, pd.RangeIndex)):\n",
      "\n"
     ]
    },
    {
     "name": "stdout",
     "output_type": "stream",
     "text": [
      "mse:                                                                              \n",
      "241.9189963323326                                                                 \n",
      " 50%|█████     | 50/100 [00:27<00:21,  2.31trial/s, best loss: 235.69715748148073]"
     ]
    },
    {
     "name": "stderr",
     "output_type": "stream",
     "text": [
      "/Users/manuel.ramos/miniforge3/envs/py310/lib/python3.10/site-packages/xgboost/data.py:250: FutureWarning: pandas.Int64Index is deprecated and will be removed from pandas in a future version. Use pandas.Index with the appropriate dtype instead.\n",
      "  elif isinstance(data.columns, (pd.Int64Index, pd.RangeIndex)):\n",
      "\n"
     ]
    },
    {
     "name": "stdout",
     "output_type": "stream",
     "text": [
      "mse:                                                                              \n",
      "251.66066599398883                                                                \n",
      " 51%|█████     | 51/100 [00:27<00:23,  2.05trial/s, best loss: 235.69715748148073]"
     ]
    },
    {
     "name": "stderr",
     "output_type": "stream",
     "text": [
      "/Users/manuel.ramos/miniforge3/envs/py310/lib/python3.10/site-packages/xgboost/data.py:250: FutureWarning: pandas.Int64Index is deprecated and will be removed from pandas in a future version. Use pandas.Index with the appropriate dtype instead.\n",
      "  elif isinstance(data.columns, (pd.Int64Index, pd.RangeIndex)):\n",
      "\n"
     ]
    },
    {
     "name": "stdout",
     "output_type": "stream",
     "text": [
      "mse:                                                                              \n",
      "242.9079828153715                                                                 \n",
      "mse:                                                                              \n",
      "235.80918895317097                                                                \n",
      " 53%|█████▎    | 53/100 [00:28<00:19,  2.47trial/s, best loss: 235.69715748148073]"
     ]
    },
    {
     "name": "stderr",
     "output_type": "stream",
     "text": [
      "/Users/manuel.ramos/miniforge3/envs/py310/lib/python3.10/site-packages/xgboost/data.py:250: FutureWarning: pandas.Int64Index is deprecated and will be removed from pandas in a future version. Use pandas.Index with the appropriate dtype instead.\n",
      "  elif isinstance(data.columns, (pd.Int64Index, pd.RangeIndex)):\n",
      "\n",
      "/Users/manuel.ramos/miniforge3/envs/py310/lib/python3.10/site-packages/xgboost/data.py:250: FutureWarning: pandas.Int64Index is deprecated and will be removed from pandas in a future version. Use pandas.Index with the appropriate dtype instead.\n",
      "  elif isinstance(data.columns, (pd.Int64Index, pd.RangeIndex)):\n",
      "\n"
     ]
    },
    {
     "name": "stdout",
     "output_type": "stream",
     "text": [
      "mse:                                                                              \n",
      "271.6476033154695                                                                 \n",
      "mse:                                                                              \n",
      "236.08664985164808                                                                \n",
      " 55%|█████▌    | 55/100 [00:29<00:14,  3.14trial/s, best loss: 235.69715748148073]"
     ]
    },
    {
     "name": "stderr",
     "output_type": "stream",
     "text": [
      "/Users/manuel.ramos/miniforge3/envs/py310/lib/python3.10/site-packages/xgboost/data.py:250: FutureWarning: pandas.Int64Index is deprecated and will be removed from pandas in a future version. Use pandas.Index with the appropriate dtype instead.\n",
      "  elif isinstance(data.columns, (pd.Int64Index, pd.RangeIndex)):\n",
      "\n",
      "/Users/manuel.ramos/miniforge3/envs/py310/lib/python3.10/site-packages/xgboost/data.py:250: FutureWarning: pandas.Int64Index is deprecated and will be removed from pandas in a future version. Use pandas.Index with the appropriate dtype instead.\n",
      "  elif isinstance(data.columns, (pd.Int64Index, pd.RangeIndex)):\n",
      "\n"
     ]
    },
    {
     "name": "stdout",
     "output_type": "stream",
     "text": [
      "mse:                                                                              \n",
      "236.18060817685594                                                                \n",
      " 56%|█████▌    | 56/100 [00:29<00:13,  3.16trial/s, best loss: 235.69715748148073]"
     ]
    },
    {
     "name": "stderr",
     "output_type": "stream",
     "text": [
      "/Users/manuel.ramos/miniforge3/envs/py310/lib/python3.10/site-packages/xgboost/data.py:250: FutureWarning: pandas.Int64Index is deprecated and will be removed from pandas in a future version. Use pandas.Index with the appropriate dtype instead.\n",
      "  elif isinstance(data.columns, (pd.Int64Index, pd.RangeIndex)):\n",
      "\n"
     ]
    },
    {
     "name": "stdout",
     "output_type": "stream",
     "text": [
      "mse:                                                                              \n",
      "272.9439658057747                                                                 \n",
      " 57%|█████▋    | 57/100 [00:29<00:12,  3.33trial/s, best loss: 235.69715748148073]"
     ]
    },
    {
     "name": "stderr",
     "output_type": "stream",
     "text": [
      "/Users/manuel.ramos/miniforge3/envs/py310/lib/python3.10/site-packages/xgboost/data.py:250: FutureWarning: pandas.Int64Index is deprecated and will be removed from pandas in a future version. Use pandas.Index with the appropriate dtype instead.\n",
      "  elif isinstance(data.columns, (pd.Int64Index, pd.RangeIndex)):\n",
      "\n"
     ]
    },
    {
     "name": "stdout",
     "output_type": "stream",
     "text": [
      "mse:                                                                              \n",
      "245.89159000181365                                                                \n",
      " 58%|█████▊    | 58/100 [00:30<00:16,  2.52trial/s, best loss: 235.69715748148073]"
     ]
    },
    {
     "name": "stderr",
     "output_type": "stream",
     "text": [
      "/Users/manuel.ramos/miniforge3/envs/py310/lib/python3.10/site-packages/xgboost/data.py:250: FutureWarning: pandas.Int64Index is deprecated and will be removed from pandas in a future version. Use pandas.Index with the appropriate dtype instead.\n",
      "  elif isinstance(data.columns, (pd.Int64Index, pd.RangeIndex)):\n",
      "\n"
     ]
    },
    {
     "name": "stdout",
     "output_type": "stream",
     "text": [
      "mse:                                                                              \n",
      "265.0126445696145                                                                 \n",
      " 59%|█████▉    | 59/100 [00:30<00:19,  2.13trial/s, best loss: 235.69715748148073]"
     ]
    },
    {
     "name": "stderr",
     "output_type": "stream",
     "text": [
      "/Users/manuel.ramos/miniforge3/envs/py310/lib/python3.10/site-packages/xgboost/data.py:250: FutureWarning: pandas.Int64Index is deprecated and will be removed from pandas in a future version. Use pandas.Index with the appropriate dtype instead.\n",
      "  elif isinstance(data.columns, (pd.Int64Index, pd.RangeIndex)):\n",
      "\n"
     ]
    },
    {
     "name": "stdout",
     "output_type": "stream",
     "text": [
      "mse:                                                                              \n",
      "268.4685934326798                                                                 \n",
      " 60%|██████    | 60/100 [00:31<00:20,  1.93trial/s, best loss: 235.69715748148073]"
     ]
    },
    {
     "name": "stderr",
     "output_type": "stream",
     "text": [
      "/Users/manuel.ramos/miniforge3/envs/py310/lib/python3.10/site-packages/xgboost/data.py:250: FutureWarning: pandas.Int64Index is deprecated and will be removed from pandas in a future version. Use pandas.Index with the appropriate dtype instead.\n",
      "  elif isinstance(data.columns, (pd.Int64Index, pd.RangeIndex)):\n",
      "\n"
     ]
    },
    {
     "name": "stdout",
     "output_type": "stream",
     "text": [
      "mse:                                                                              \n",
      "268.90677070127447                                                                \n",
      " 61%|██████    | 61/100 [00:31<00:18,  2.16trial/s, best loss: 235.69715748148073]"
     ]
    },
    {
     "name": "stderr",
     "output_type": "stream",
     "text": [
      "/Users/manuel.ramos/miniforge3/envs/py310/lib/python3.10/site-packages/xgboost/data.py:250: FutureWarning: pandas.Int64Index is deprecated and will be removed from pandas in a future version. Use pandas.Index with the appropriate dtype instead.\n",
      "  elif isinstance(data.columns, (pd.Int64Index, pd.RangeIndex)):\n",
      "\n"
     ]
    },
    {
     "name": "stdout",
     "output_type": "stream",
     "text": [
      "mse:                                                                              \n",
      "255.91233966669935                                                                \n",
      " 62%|██████▏   | 62/100 [00:32<00:18,  2.08trial/s, best loss: 235.69715748148073]"
     ]
    },
    {
     "name": "stderr",
     "output_type": "stream",
     "text": [
      "/Users/manuel.ramos/miniforge3/envs/py310/lib/python3.10/site-packages/xgboost/data.py:250: FutureWarning: pandas.Int64Index is deprecated and will be removed from pandas in a future version. Use pandas.Index with the appropriate dtype instead.\n",
      "  elif isinstance(data.columns, (pd.Int64Index, pd.RangeIndex)):\n",
      "\n"
     ]
    },
    {
     "name": "stdout",
     "output_type": "stream",
     "text": [
      "mse:                                                                              \n",
      "254.82462506148002                                                                \n",
      " 63%|██████▎   | 63/100 [00:32<00:18,  2.05trial/s, best loss: 235.69715748148073]"
     ]
    },
    {
     "name": "stderr",
     "output_type": "stream",
     "text": [
      "/Users/manuel.ramos/miniforge3/envs/py310/lib/python3.10/site-packages/xgboost/data.py:250: FutureWarning: pandas.Int64Index is deprecated and will be removed from pandas in a future version. Use pandas.Index with the appropriate dtype instead.\n",
      "  elif isinstance(data.columns, (pd.Int64Index, pd.RangeIndex)):\n",
      "\n"
     ]
    },
    {
     "name": "stdout",
     "output_type": "stream",
     "text": [
      "mse:                                                                              \n",
      "238.56198135964124                                                                \n",
      " 64%|██████▍   | 64/100 [00:33<00:19,  1.88trial/s, best loss: 235.69715748148073]"
     ]
    },
    {
     "name": "stderr",
     "output_type": "stream",
     "text": [
      "/Users/manuel.ramos/miniforge3/envs/py310/lib/python3.10/site-packages/xgboost/data.py:250: FutureWarning: pandas.Int64Index is deprecated and will be removed from pandas in a future version. Use pandas.Index with the appropriate dtype instead.\n",
      "  elif isinstance(data.columns, (pd.Int64Index, pd.RangeIndex)):\n",
      "\n"
     ]
    },
    {
     "name": "stdout",
     "output_type": "stream",
     "text": [
      "mse:                                                                              \n",
      "268.74241596665826                                                                \n",
      " 65%|██████▌   | 65/100 [00:34<00:19,  1.79trial/s, best loss: 235.69715748148073]"
     ]
    },
    {
     "name": "stderr",
     "output_type": "stream",
     "text": [
      "/Users/manuel.ramos/miniforge3/envs/py310/lib/python3.10/site-packages/xgboost/data.py:250: FutureWarning: pandas.Int64Index is deprecated and will be removed from pandas in a future version. Use pandas.Index with the appropriate dtype instead.\n",
      "  elif isinstance(data.columns, (pd.Int64Index, pd.RangeIndex)):\n",
      "\n"
     ]
    },
    {
     "name": "stdout",
     "output_type": "stream",
     "text": [
      "mse:                                                                              \n",
      "236.21141775579952                                                                \n",
      " 66%|██████▌   | 66/100 [00:34<00:15,  2.18trial/s, best loss: 235.69715748148073]"
     ]
    },
    {
     "name": "stderr",
     "output_type": "stream",
     "text": [
      "/Users/manuel.ramos/miniforge3/envs/py310/lib/python3.10/site-packages/xgboost/data.py:250: FutureWarning: pandas.Int64Index is deprecated and will be removed from pandas in a future version. Use pandas.Index with the appropriate dtype instead.\n",
      "  elif isinstance(data.columns, (pd.Int64Index, pd.RangeIndex)):\n",
      "\n"
     ]
    },
    {
     "name": "stdout",
     "output_type": "stream",
     "text": [
      "mse:                                                                              \n",
      "238.00267672549668                                                                \n",
      " 67%|██████▋   | 67/100 [00:34<00:13,  2.52trial/s, best loss: 235.69715748148073]"
     ]
    },
    {
     "name": "stderr",
     "output_type": "stream",
     "text": [
      "/Users/manuel.ramos/miniforge3/envs/py310/lib/python3.10/site-packages/xgboost/data.py:250: FutureWarning: pandas.Int64Index is deprecated and will be removed from pandas in a future version. Use pandas.Index with the appropriate dtype instead.\n",
      "  elif isinstance(data.columns, (pd.Int64Index, pd.RangeIndex)):\n",
      "\n"
     ]
    },
    {
     "name": "stdout",
     "output_type": "stream",
     "text": [
      "mse:                                                                              \n",
      "240.6478268016326                                                                 \n",
      " 68%|██████▊   | 68/100 [00:34<00:11,  2.68trial/s, best loss: 235.69715748148073]"
     ]
    },
    {
     "name": "stderr",
     "output_type": "stream",
     "text": [
      "/Users/manuel.ramos/miniforge3/envs/py310/lib/python3.10/site-packages/xgboost/data.py:250: FutureWarning: pandas.Int64Index is deprecated and will be removed from pandas in a future version. Use pandas.Index with the appropriate dtype instead.\n",
      "  elif isinstance(data.columns, (pd.Int64Index, pd.RangeIndex)):\n",
      "\n"
     ]
    },
    {
     "name": "stdout",
     "output_type": "stream",
     "text": [
      "mse:                                                                              \n",
      "271.64873146728104                                                                \n",
      " 69%|██████▉   | 69/100 [00:35<00:10,  3.06trial/s, best loss: 235.69715748148073]"
     ]
    },
    {
     "name": "stderr",
     "output_type": "stream",
     "text": [
      "/Users/manuel.ramos/miniforge3/envs/py310/lib/python3.10/site-packages/xgboost/data.py:250: FutureWarning: pandas.Int64Index is deprecated and will be removed from pandas in a future version. Use pandas.Index with the appropriate dtype instead.\n",
      "  elif isinstance(data.columns, (pd.Int64Index, pd.RangeIndex)):\n",
      "\n"
     ]
    },
    {
     "name": "stdout",
     "output_type": "stream",
     "text": [
      "mse:                                                                              \n",
      "271.9542809403573                                                                 \n",
      " 70%|███████   | 70/100 [00:35<00:09,  3.08trial/s, best loss: 235.69715748148073]"
     ]
    },
    {
     "name": "stderr",
     "output_type": "stream",
     "text": [
      "/Users/manuel.ramos/miniforge3/envs/py310/lib/python3.10/site-packages/xgboost/data.py:250: FutureWarning: pandas.Int64Index is deprecated and will be removed from pandas in a future version. Use pandas.Index with the appropriate dtype instead.\n",
      "  elif isinstance(data.columns, (pd.Int64Index, pd.RangeIndex)):\n",
      "\n"
     ]
    },
    {
     "name": "stdout",
     "output_type": "stream",
     "text": [
      "mse:                                                                              \n",
      "270.4789256915866                                                                 \n",
      " 71%|███████   | 71/100 [00:35<00:10,  2.68trial/s, best loss: 235.69715748148073]"
     ]
    },
    {
     "name": "stderr",
     "output_type": "stream",
     "text": [
      "/Users/manuel.ramos/miniforge3/envs/py310/lib/python3.10/site-packages/xgboost/data.py:250: FutureWarning: pandas.Int64Index is deprecated and will be removed from pandas in a future version. Use pandas.Index with the appropriate dtype instead.\n",
      "  elif isinstance(data.columns, (pd.Int64Index, pd.RangeIndex)):\n",
      "\n"
     ]
    },
    {
     "name": "stdout",
     "output_type": "stream",
     "text": [
      "mse:                                                                              \n",
      "247.2425592246759                                                                 \n",
      " 72%|███████▏  | 72/100 [00:36<00:09,  2.86trial/s, best loss: 235.69715748148073]"
     ]
    },
    {
     "name": "stderr",
     "output_type": "stream",
     "text": [
      "/Users/manuel.ramos/miniforge3/envs/py310/lib/python3.10/site-packages/xgboost/data.py:250: FutureWarning: pandas.Int64Index is deprecated and will be removed from pandas in a future version. Use pandas.Index with the appropriate dtype instead.\n",
      "  elif isinstance(data.columns, (pd.Int64Index, pd.RangeIndex)):\n",
      "\n"
     ]
    },
    {
     "name": "stdout",
     "output_type": "stream",
     "text": [
      "mse:                                                                              \n",
      "250.88403864048524                                                                \n",
      " 73%|███████▎  | 73/100 [00:36<00:10,  2.61trial/s, best loss: 235.69715748148073]"
     ]
    },
    {
     "name": "stderr",
     "output_type": "stream",
     "text": [
      "/Users/manuel.ramos/miniforge3/envs/py310/lib/python3.10/site-packages/xgboost/data.py:250: FutureWarning: pandas.Int64Index is deprecated and will be removed from pandas in a future version. Use pandas.Index with the appropriate dtype instead.\n",
      "  elif isinstance(data.columns, (pd.Int64Index, pd.RangeIndex)):\n",
      "\n"
     ]
    },
    {
     "name": "stdout",
     "output_type": "stream",
     "text": [
      "mse:                                                                              \n",
      "263.60327777670244                                                                \n",
      " 74%|███████▍  | 74/100 [00:37<00:09,  2.78trial/s, best loss: 235.69715748148073]"
     ]
    },
    {
     "name": "stderr",
     "output_type": "stream",
     "text": [
      "/Users/manuel.ramos/miniforge3/envs/py310/lib/python3.10/site-packages/xgboost/data.py:250: FutureWarning: pandas.Int64Index is deprecated and will be removed from pandas in a future version. Use pandas.Index with the appropriate dtype instead.\n",
      "  elif isinstance(data.columns, (pd.Int64Index, pd.RangeIndex)):\n",
      "\n"
     ]
    },
    {
     "name": "stdout",
     "output_type": "stream",
     "text": [
      "mse:                                                                              \n",
      "267.844283192661                                                                  \n",
      " 75%|███████▌  | 75/100 [00:37<00:09,  2.68trial/s, best loss: 235.69715748148073]"
     ]
    },
    {
     "name": "stderr",
     "output_type": "stream",
     "text": [
      "/Users/manuel.ramos/miniforge3/envs/py310/lib/python3.10/site-packages/xgboost/data.py:250: FutureWarning: pandas.Int64Index is deprecated and will be removed from pandas in a future version. Use pandas.Index with the appropriate dtype instead.\n",
      "  elif isinstance(data.columns, (pd.Int64Index, pd.RangeIndex)):\n",
      "\n"
     ]
    },
    {
     "name": "stdout",
     "output_type": "stream",
     "text": [
      "mse:                                                                              \n",
      "274.4397816992364                                                                 \n",
      "mse:                                                                              \n",
      "271.61176254217764                                                                \n",
      " 77%|███████▋  | 77/100 [00:38<00:08,  2.72trial/s, best loss: 235.69715748148073]"
     ]
    },
    {
     "name": "stderr",
     "output_type": "stream",
     "text": [
      "/Users/manuel.ramos/miniforge3/envs/py310/lib/python3.10/site-packages/xgboost/data.py:250: FutureWarning: pandas.Int64Index is deprecated and will be removed from pandas in a future version. Use pandas.Index with the appropriate dtype instead.\n",
      "  elif isinstance(data.columns, (pd.Int64Index, pd.RangeIndex)):\n",
      "\n",
      "/Users/manuel.ramos/miniforge3/envs/py310/lib/python3.10/site-packages/xgboost/data.py:250: FutureWarning: pandas.Int64Index is deprecated and will be removed from pandas in a future version. Use pandas.Index with the appropriate dtype instead.\n",
      "  elif isinstance(data.columns, (pd.Int64Index, pd.RangeIndex)):\n",
      "\n"
     ]
    },
    {
     "name": "stdout",
     "output_type": "stream",
     "text": [
      "mse:                                                                              \n",
      "252.42559212678032                                                                \n",
      " 78%|███████▊  | 78/100 [00:38<00:10,  2.16trial/s, best loss: 235.69715748148073]"
     ]
    },
    {
     "name": "stderr",
     "output_type": "stream",
     "text": [
      "/Users/manuel.ramos/miniforge3/envs/py310/lib/python3.10/site-packages/xgboost/data.py:250: FutureWarning: pandas.Int64Index is deprecated and will be removed from pandas in a future version. Use pandas.Index with the appropriate dtype instead.\n",
      "  elif isinstance(data.columns, (pd.Int64Index, pd.RangeIndex)):\n",
      "\n"
     ]
    },
    {
     "name": "stdout",
     "output_type": "stream",
     "text": [
      "mse:                                                                              \n",
      "276.0309715716255                                                                 \n",
      " 79%|███████▉  | 79/100 [00:39<00:11,  1.87trial/s, best loss: 235.69715748148073]"
     ]
    },
    {
     "name": "stderr",
     "output_type": "stream",
     "text": [
      "/Users/manuel.ramos/miniforge3/envs/py310/lib/python3.10/site-packages/xgboost/data.py:250: FutureWarning: pandas.Int64Index is deprecated and will be removed from pandas in a future version. Use pandas.Index with the appropriate dtype instead.\n",
      "  elif isinstance(data.columns, (pd.Int64Index, pd.RangeIndex)):\n",
      "\n"
     ]
    },
    {
     "name": "stdout",
     "output_type": "stream",
     "text": [
      "mse:                                                                              \n",
      "236.6573534134796                                                                 \n",
      " 80%|████████  | 80/100 [00:39<00:09,  2.13trial/s, best loss: 235.69715748148073]"
     ]
    },
    {
     "name": "stderr",
     "output_type": "stream",
     "text": [
      "/Users/manuel.ramos/miniforge3/envs/py310/lib/python3.10/site-packages/xgboost/data.py:250: FutureWarning: pandas.Int64Index is deprecated and will be removed from pandas in a future version. Use pandas.Index with the appropriate dtype instead.\n",
      "  elif isinstance(data.columns, (pd.Int64Index, pd.RangeIndex)):\n",
      "\n"
     ]
    },
    {
     "name": "stdout",
     "output_type": "stream",
     "text": [
      "mse:                                                                              \n",
      "244.55151765065955                                                                \n",
      " 81%|████████  | 81/100 [00:40<00:10,  1.85trial/s, best loss: 235.69715748148073]"
     ]
    },
    {
     "name": "stderr",
     "output_type": "stream",
     "text": [
      "/Users/manuel.ramos/miniforge3/envs/py310/lib/python3.10/site-packages/xgboost/data.py:250: FutureWarning: pandas.Int64Index is deprecated and will be removed from pandas in a future version. Use pandas.Index with the appropriate dtype instead.\n",
      "  elif isinstance(data.columns, (pd.Int64Index, pd.RangeIndex)):\n",
      "\n"
     ]
    },
    {
     "name": "stdout",
     "output_type": "stream",
     "text": [
      "mse:                                                                              \n",
      "238.94626934482173                                                                \n",
      " 82%|████████▏ | 82/100 [00:41<00:10,  1.70trial/s, best loss: 235.69715748148073]"
     ]
    },
    {
     "name": "stderr",
     "output_type": "stream",
     "text": [
      "/Users/manuel.ramos/miniforge3/envs/py310/lib/python3.10/site-packages/xgboost/data.py:250: FutureWarning: pandas.Int64Index is deprecated and will be removed from pandas in a future version. Use pandas.Index with the appropriate dtype instead.\n",
      "  elif isinstance(data.columns, (pd.Int64Index, pd.RangeIndex)):\n",
      "\n"
     ]
    },
    {
     "name": "stdout",
     "output_type": "stream",
     "text": [
      "mse:                                                                              \n",
      "274.6275239216262                                                                 \n",
      " 83%|████████▎ | 83/100 [00:42<00:10,  1.64trial/s, best loss: 235.69715748148073]"
     ]
    },
    {
     "name": "stderr",
     "output_type": "stream",
     "text": [
      "/Users/manuel.ramos/miniforge3/envs/py310/lib/python3.10/site-packages/xgboost/data.py:250: FutureWarning: pandas.Int64Index is deprecated and will be removed from pandas in a future version. Use pandas.Index with the appropriate dtype instead.\n",
      "  elif isinstance(data.columns, (pd.Int64Index, pd.RangeIndex)):\n",
      "\n"
     ]
    },
    {
     "name": "stdout",
     "output_type": "stream",
     "text": [
      "mse:                                                                              \n",
      "282.5172805676673                                                                 \n",
      " 84%|████████▍ | 84/100 [00:42<00:09,  1.62trial/s, best loss: 235.69715748148073]"
     ]
    },
    {
     "name": "stderr",
     "output_type": "stream",
     "text": [
      "/Users/manuel.ramos/miniforge3/envs/py310/lib/python3.10/site-packages/xgboost/data.py:250: FutureWarning: pandas.Int64Index is deprecated and will be removed from pandas in a future version. Use pandas.Index with the appropriate dtype instead.\n",
      "  elif isinstance(data.columns, (pd.Int64Index, pd.RangeIndex)):\n",
      "\n"
     ]
    },
    {
     "name": "stdout",
     "output_type": "stream",
     "text": [
      "mse:                                                                              \n",
      "271.10042248676575                                                                \n",
      " 85%|████████▌ | 85/100 [00:42<00:07,  2.00trial/s, best loss: 235.69715748148073]"
     ]
    },
    {
     "name": "stderr",
     "output_type": "stream",
     "text": [
      "/Users/manuel.ramos/miniforge3/envs/py310/lib/python3.10/site-packages/xgboost/data.py:250: FutureWarning: pandas.Int64Index is deprecated and will be removed from pandas in a future version. Use pandas.Index with the appropriate dtype instead.\n",
      "  elif isinstance(data.columns, (pd.Int64Index, pd.RangeIndex)):\n",
      "\n"
     ]
    },
    {
     "name": "stdout",
     "output_type": "stream",
     "text": [
      "mse:                                                                              \n",
      "266.67305893838966                                                                \n",
      " 86%|████████▌ | 86/100 [00:43<00:07,  1.78trial/s, best loss: 235.69715748148073]"
     ]
    },
    {
     "name": "stderr",
     "output_type": "stream",
     "text": [
      "/Users/manuel.ramos/miniforge3/envs/py310/lib/python3.10/site-packages/xgboost/data.py:250: FutureWarning: pandas.Int64Index is deprecated and will be removed from pandas in a future version. Use pandas.Index with the appropriate dtype instead.\n",
      "  elif isinstance(data.columns, (pd.Int64Index, pd.RangeIndex)):\n",
      "\n"
     ]
    },
    {
     "name": "stdout",
     "output_type": "stream",
     "text": [
      "mse:                                                                              \n",
      "241.7579199971351                                                                 \n",
      " 87%|████████▋ | 87/100 [00:44<00:08,  1.62trial/s, best loss: 235.69715748148073]"
     ]
    },
    {
     "name": "stderr",
     "output_type": "stream",
     "text": [
      "/Users/manuel.ramos/miniforge3/envs/py310/lib/python3.10/site-packages/xgboost/data.py:250: FutureWarning: pandas.Int64Index is deprecated and will be removed from pandas in a future version. Use pandas.Index with the appropriate dtype instead.\n",
      "  elif isinstance(data.columns, (pd.Int64Index, pd.RangeIndex)):\n",
      "\n"
     ]
    },
    {
     "name": "stdout",
     "output_type": "stream",
     "text": [
      "mse:                                                                              \n",
      "244.04864241287595                                                                \n",
      " 88%|████████▊ | 88/100 [00:45<00:07,  1.56trial/s, best loss: 235.69715748148073]"
     ]
    },
    {
     "name": "stderr",
     "output_type": "stream",
     "text": [
      "/Users/manuel.ramos/miniforge3/envs/py310/lib/python3.10/site-packages/xgboost/data.py:250: FutureWarning: pandas.Int64Index is deprecated and will be removed from pandas in a future version. Use pandas.Index with the appropriate dtype instead.\n",
      "  elif isinstance(data.columns, (pd.Int64Index, pd.RangeIndex)):\n",
      "\n"
     ]
    },
    {
     "name": "stdout",
     "output_type": "stream",
     "text": [
      "mse:                                                                              \n",
      "284.9116753119497                                                                 \n",
      " 89%|████████▉ | 89/100 [00:45<00:07,  1.46trial/s, best loss: 235.69715748148073]"
     ]
    },
    {
     "name": "stderr",
     "output_type": "stream",
     "text": [
      "/Users/manuel.ramos/miniforge3/envs/py310/lib/python3.10/site-packages/xgboost/data.py:250: FutureWarning: pandas.Int64Index is deprecated and will be removed from pandas in a future version. Use pandas.Index with the appropriate dtype instead.\n",
      "  elif isinstance(data.columns, (pd.Int64Index, pd.RangeIndex)):\n",
      "\n"
     ]
    },
    {
     "name": "stdout",
     "output_type": "stream",
     "text": [
      "mse:                                                                              \n",
      "280.41083178832326                                                                \n",
      " 90%|█████████ | 90/100 [00:46<00:07,  1.39trial/s, best loss: 235.69715748148073]"
     ]
    },
    {
     "name": "stderr",
     "output_type": "stream",
     "text": [
      "/Users/manuel.ramos/miniforge3/envs/py310/lib/python3.10/site-packages/xgboost/data.py:250: FutureWarning: pandas.Int64Index is deprecated and will be removed from pandas in a future version. Use pandas.Index with the appropriate dtype instead.\n",
      "  elif isinstance(data.columns, (pd.Int64Index, pd.RangeIndex)):\n",
      "\n"
     ]
    },
    {
     "name": "stdout",
     "output_type": "stream",
     "text": [
      "mse:                                                                              \n",
      "249.9501623273791                                                                 \n",
      " 91%|█████████ | 91/100 [00:47<00:06,  1.42trial/s, best loss: 235.69715748148073]"
     ]
    },
    {
     "name": "stderr",
     "output_type": "stream",
     "text": [
      "/Users/manuel.ramos/miniforge3/envs/py310/lib/python3.10/site-packages/xgboost/data.py:250: FutureWarning: pandas.Int64Index is deprecated and will be removed from pandas in a future version. Use pandas.Index with the appropriate dtype instead.\n",
      "  elif isinstance(data.columns, (pd.Int64Index, pd.RangeIndex)):\n",
      "\n"
     ]
    },
    {
     "name": "stdout",
     "output_type": "stream",
     "text": [
      "mse:                                                                              \n",
      "244.76275482006213                                                                \n",
      " 92%|█████████▏| 92/100 [00:47<00:04,  1.74trial/s, best loss: 235.69715748148073]"
     ]
    },
    {
     "name": "stderr",
     "output_type": "stream",
     "text": [
      "/Users/manuel.ramos/miniforge3/envs/py310/lib/python3.10/site-packages/xgboost/data.py:250: FutureWarning: pandas.Int64Index is deprecated and will be removed from pandas in a future version. Use pandas.Index with the appropriate dtype instead.\n",
      "  elif isinstance(data.columns, (pd.Int64Index, pd.RangeIndex)):\n",
      "\n"
     ]
    },
    {
     "name": "stdout",
     "output_type": "stream",
     "text": [
      "mse:                                                                              \n",
      "237.97059003757246                                                                \n",
      " 93%|█████████▎| 93/100 [00:48<00:03,  1.86trial/s, best loss: 235.69715748148073]"
     ]
    },
    {
     "name": "stderr",
     "output_type": "stream",
     "text": [
      "/Users/manuel.ramos/miniforge3/envs/py310/lib/python3.10/site-packages/xgboost/data.py:250: FutureWarning: pandas.Int64Index is deprecated and will be removed from pandas in a future version. Use pandas.Index with the appropriate dtype instead.\n",
      "  elif isinstance(data.columns, (pd.Int64Index, pd.RangeIndex)):\n",
      "\n"
     ]
    },
    {
     "name": "stdout",
     "output_type": "stream",
     "text": [
      "mse:                                                                              \n",
      "274.7418683780279                                                                 \n",
      " 94%|█████████▍| 94/100 [00:48<00:03,  1.72trial/s, best loss: 235.69715748148073]"
     ]
    },
    {
     "name": "stderr",
     "output_type": "stream",
     "text": [
      "/Users/manuel.ramos/miniforge3/envs/py310/lib/python3.10/site-packages/xgboost/data.py:250: FutureWarning: pandas.Int64Index is deprecated and will be removed from pandas in a future version. Use pandas.Index with the appropriate dtype instead.\n",
      "  elif isinstance(data.columns, (pd.Int64Index, pd.RangeIndex)):\n",
      "\n"
     ]
    },
    {
     "name": "stdout",
     "output_type": "stream",
     "text": [
      "mse:                                                                              \n",
      "276.3120548866407                                                                 \n",
      " 95%|█████████▌| 95/100 [00:49<00:02,  1.71trial/s, best loss: 235.69715748148073]"
     ]
    },
    {
     "name": "stderr",
     "output_type": "stream",
     "text": [
      "/Users/manuel.ramos/miniforge3/envs/py310/lib/python3.10/site-packages/xgboost/data.py:250: FutureWarning: pandas.Int64Index is deprecated and will be removed from pandas in a future version. Use pandas.Index with the appropriate dtype instead.\n",
      "  elif isinstance(data.columns, (pd.Int64Index, pd.RangeIndex)):\n",
      "\n"
     ]
    },
    {
     "name": "stdout",
     "output_type": "stream",
     "text": [
      "mse:                                                                              \n",
      "239.22711364925573                                                                \n",
      " 96%|█████████▌| 96/100 [00:49<00:02,  1.94trial/s, best loss: 235.69715748148073]"
     ]
    },
    {
     "name": "stderr",
     "output_type": "stream",
     "text": [
      "/Users/manuel.ramos/miniforge3/envs/py310/lib/python3.10/site-packages/xgboost/data.py:250: FutureWarning: pandas.Int64Index is deprecated and will be removed from pandas in a future version. Use pandas.Index with the appropriate dtype instead.\n",
      "  elif isinstance(data.columns, (pd.Int64Index, pd.RangeIndex)):\n",
      "\n"
     ]
    },
    {
     "name": "stdout",
     "output_type": "stream",
     "text": [
      "mse:                                                                              \n",
      "248.02706288159908                                                                \n",
      " 97%|█████████▋| 97/100 [00:50<00:01,  1.65trial/s, best loss: 235.69715748148073]"
     ]
    },
    {
     "name": "stderr",
     "output_type": "stream",
     "text": [
      "/Users/manuel.ramos/miniforge3/envs/py310/lib/python3.10/site-packages/xgboost/data.py:250: FutureWarning: pandas.Int64Index is deprecated and will be removed from pandas in a future version. Use pandas.Index with the appropriate dtype instead.\n",
      "  elif isinstance(data.columns, (pd.Int64Index, pd.RangeIndex)):\n",
      "\n"
     ]
    },
    {
     "name": "stdout",
     "output_type": "stream",
     "text": [
      "mse:                                                                              \n",
      "279.02130061574826                                                                \n",
      " 98%|█████████▊| 98/100 [00:50<00:01,  1.82trial/s, best loss: 235.69715748148073]"
     ]
    },
    {
     "name": "stderr",
     "output_type": "stream",
     "text": [
      "/Users/manuel.ramos/miniforge3/envs/py310/lib/python3.10/site-packages/xgboost/data.py:250: FutureWarning: pandas.Int64Index is deprecated and will be removed from pandas in a future version. Use pandas.Index with the appropriate dtype instead.\n",
      "  elif isinstance(data.columns, (pd.Int64Index, pd.RangeIndex)):\n",
      "\n"
     ]
    },
    {
     "name": "stdout",
     "output_type": "stream",
     "text": [
      "mse:                                                                              \n",
      "267.0817025977427                                                                 \n",
      " 99%|█████████▉| 99/100 [00:51<00:00,  2.13trial/s, best loss: 235.69715748148073]"
     ]
    },
    {
     "name": "stderr",
     "output_type": "stream",
     "text": [
      "/Users/manuel.ramos/miniforge3/envs/py310/lib/python3.10/site-packages/xgboost/data.py:250: FutureWarning: pandas.Int64Index is deprecated and will be removed from pandas in a future version. Use pandas.Index with the appropriate dtype instead.\n",
      "  elif isinstance(data.columns, (pd.Int64Index, pd.RangeIndex)):\n",
      "\n"
     ]
    },
    {
     "name": "stdout",
     "output_type": "stream",
     "text": [
      "mse:                                                                              \n",
      "275.4626699651778                                                                 \n",
      "100%|██████████| 100/100 [00:51<00:00,  1.92trial/s, best loss: 235.69715748148073]\n"
     ]
    }
   ],
   "source": [
    "trials = Trials()\n",
    "\n",
    "best_hyperparams = fmin(fn = objective,\n",
    "                        space = space,\n",
    "                        algo = tpe.suggest,\n",
    "                        max_evals = 100,\n",
    "                        trials = trials)"
   ]
  },
  {
   "cell_type": "code",
   "execution_count": 155,
   "metadata": {},
   "outputs": [
    {
     "name": "stdout",
     "output_type": "stream",
     "text": [
      "The best hyperparameters are :  \n",
      "\n",
      "{'colsample_bytree': 0.7355061560358008, 'gamma': 8.527843973530771, 'max_depth': 14, 'min_child_weight': 6.0, 'n_estimators': 780, 'reg_alpha': 78.0, 'reg_lambda': 0.664808097877871}\n"
     ]
    }
   ],
   "source": [
    "print(\"The best hyperparameters are : \",\"\\n\")\n",
    "best_hyperparams['n_estimators'] = int(best_hyperparams['n_estimators'])\n",
    "best_hyperparams['max_depth'] = int(best_hyperparams['max_depth'])\n",
    "print(best_hyperparams)\n"
   ]
  },
  {
   "cell_type": "code",
   "execution_count": 156,
   "metadata": {},
   "outputs": [
    {
     "name": "stdout",
     "output_type": "stream",
     "text": [
      "[0]\tvalidation_0-rmse:44.93413\tvalidation_1-rmse:81.35860\n",
      "[1]\tvalidation_0-rmse:32.12379\tvalidation_1-rmse:55.33328\n",
      "[2]\tvalidation_0-rmse:23.51132\tvalidation_1-rmse:37.32799\n",
      "[3]\tvalidation_0-rmse:17.71708\tvalidation_1-rmse:25.37020\n",
      "[4]\tvalidation_0-rmse:13.79815\tvalidation_1-rmse:17.77973\n",
      "[5]\tvalidation_0-rmse:11.26210\tvalidation_1-rmse:15.60694\n",
      "[6]\tvalidation_0-rmse:9.99751\tvalidation_1-rmse:15.35243\n",
      "[7]\tvalidation_0-rmse:8.89054\tvalidation_1-rmse:16.03460\n"
     ]
    },
    {
     "name": "stderr",
     "output_type": "stream",
     "text": [
      "/Users/manuel.ramos/miniforge3/envs/py310/lib/python3.10/site-packages/xgboost/data.py:250: FutureWarning: pandas.Int64Index is deprecated and will be removed from pandas in a future version. Use pandas.Index with the appropriate dtype instead.\n",
      "  elif isinstance(data.columns, (pd.Int64Index, pd.RangeIndex)):\n"
     ]
    },
    {
     "name": "stdout",
     "output_type": "stream",
     "text": [
      "[8]\tvalidation_0-rmse:8.23716\tvalidation_1-rmse:16.97525\n",
      "[9]\tvalidation_0-rmse:7.85752\tvalidation_1-rmse:17.79872\n",
      "[10]\tvalidation_0-rmse:7.63941\tvalidation_1-rmse:18.60640\n",
      "[11]\tvalidation_0-rmse:7.42107\tvalidation_1-rmse:19.17902\n",
      "[12]\tvalidation_0-rmse:7.26134\tvalidation_1-rmse:19.85489\n",
      "[13]\tvalidation_0-rmse:7.14688\tvalidation_1-rmse:20.18277\n",
      "[14]\tvalidation_0-rmse:7.09311\tvalidation_1-rmse:20.67749\n",
      "[15]\tvalidation_0-rmse:6.93616\tvalidation_1-rmse:21.11582\n"
     ]
    },
    {
     "data": {
      "image/png": "[encoded data removed]",
      "text/plain": [
       "<Figure size 640x480 with 1 Axes>"
      ]
     },
     "metadata": {},
     "output_type": "display_data"
    }
   ],
   "source": [
    "model.set_params(best_hyperparams)\n",
    "model.fit()\n",
    "model.feature_importance()"
   ]
  },
  {
   "cell_type": "code",
   "execution_count": 157,
   "metadata": {},
   "outputs": [],
   "source": [
    "predicted_2019 = model.predict(2019)"
   ]
  },
  {
   "cell_type": "code",
   "execution_count": 158,
   "metadata": {},
   "outputs": [],
   "source": [
    "data.addYearDemandfromForecast(2019, predicted_2019)"
   ]
  },
  {
   "cell_type": "code",
   "execution_count": 159,
   "metadata": {},
   "outputs": [
    {
     "data": {
      "text/html": [
       "<div>\n",
       "<style scoped>\n",
       "    .dataframe tbody tr th:only-of-type {\n",
       "        vertical-align: middle;\n",
       "    }\n",
       "\n",
       "    .dataframe tbody tr th {\n",
       "        vertical-align: top;\n",
       "    }\n",
       "\n",
       "    .dataframe thead th {\n",
       "        text-align: right;\n",
       "    }\n",
       "</style>\n",
       "<table border=\"1\" class=\"dataframe\">\n",
       "  <thead>\n",
       "    <tr style=\"text-align: right;\">\n",
       "      <th></th>\n",
       "      <th>demand_point_index</th>\n",
       "      <th>x_coordinate</th>\n",
       "      <th>y_coordinate</th>\n",
       "      <th>2010</th>\n",
       "      <th>2011</th>\n",
       "      <th>2012</th>\n",
       "      <th>2013</th>\n",
       "      <th>2014</th>\n",
       "      <th>2015</th>\n",
       "      <th>2016</th>\n",
       "      <th>2017</th>\n",
       "      <th>2018</th>\n",
       "      <th>2019</th>\n",
       "    </tr>\n",
       "  </thead>\n",
       "  <tbody>\n",
       "    <tr>\n",
       "      <th>0</th>\n",
       "      <td>0</td>\n",
       "      <td>0.5</td>\n",
       "      <td>0.5</td>\n",
       "      <td>0.352242</td>\n",
       "      <td>0.667932</td>\n",
       "      <td>0.958593</td>\n",
       "      <td>2.911901</td>\n",
       "      <td>4.338274</td>\n",
       "      <td>6.561995</td>\n",
       "      <td>8.454417</td>\n",
       "      <td>10.595324</td>\n",
       "      <td>13.119572</td>\n",
       "      <td>16.710302</td>\n",
       "    </tr>\n",
       "    <tr>\n",
       "      <th>1</th>\n",
       "      <td>1</td>\n",
       "      <td>1.5</td>\n",
       "      <td>0.5</td>\n",
       "      <td>0.325940</td>\n",
       "      <td>0.591964</td>\n",
       "      <td>0.862652</td>\n",
       "      <td>2.589068</td>\n",
       "      <td>4.196034</td>\n",
       "      <td>5.745551</td>\n",
       "      <td>8.753195</td>\n",
       "      <td>11.126995</td>\n",
       "      <td>12.020091</td>\n",
       "      <td>16.239906</td>\n",
       "    </tr>\n",
       "    <tr>\n",
       "      <th>2</th>\n",
       "      <td>2</td>\n",
       "      <td>2.5</td>\n",
       "      <td>0.5</td>\n",
       "      <td>0.373752</td>\n",
       "      <td>0.591890</td>\n",
       "      <td>0.969733</td>\n",
       "      <td>2.641432</td>\n",
       "      <td>3.541772</td>\n",
       "      <td>5.469161</td>\n",
       "      <td>8.414627</td>\n",
       "      <td>10.115336</td>\n",
       "      <td>14.018254</td>\n",
       "      <td>17.565750</td>\n",
       "    </tr>\n",
       "    <tr>\n",
       "      <th>3</th>\n",
       "      <td>3</td>\n",
       "      <td>3.5</td>\n",
       "      <td>0.5</td>\n",
       "      <td>0.420686</td>\n",
       "      <td>0.584055</td>\n",
       "      <td>0.906547</td>\n",
       "      <td>2.378577</td>\n",
       "      <td>3.888121</td>\n",
       "      <td>5.846089</td>\n",
       "      <td>9.083868</td>\n",
       "      <td>12.424885</td>\n",
       "      <td>15.012302</td>\n",
       "      <td>19.732737</td>\n",
       "    </tr>\n",
       "    <tr>\n",
       "      <th>4</th>\n",
       "      <td>4</td>\n",
       "      <td>4.5</td>\n",
       "      <td>0.5</td>\n",
       "      <td>0.475621</td>\n",
       "      <td>0.647940</td>\n",
       "      <td>0.981544</td>\n",
       "      <td>2.665400</td>\n",
       "      <td>4.218711</td>\n",
       "      <td>6.776609</td>\n",
       "      <td>8.851107</td>\n",
       "      <td>11.731131</td>\n",
       "      <td>16.355563</td>\n",
       "      <td>18.497293</td>\n",
       "    </tr>\n",
       "    <tr>\n",
       "      <th>...</th>\n",
       "      <td>...</td>\n",
       "      <td>...</td>\n",
       "      <td>...</td>\n",
       "      <td>...</td>\n",
       "      <td>...</td>\n",
       "      <td>...</td>\n",
       "      <td>...</td>\n",
       "      <td>...</td>\n",
       "      <td>...</td>\n",
       "      <td>...</td>\n",
       "      <td>...</td>\n",
       "      <td>...</td>\n",
       "      <td>...</td>\n",
       "    </tr>\n",
       "    <tr>\n",
       "      <th>4091</th>\n",
       "      <td>4091</td>\n",
       "      <td>59.5</td>\n",
       "      <td>63.5</td>\n",
       "      <td>0.171015</td>\n",
       "      <td>0.334565</td>\n",
       "      <td>0.556055</td>\n",
       "      <td>1.373291</td>\n",
       "      <td>1.837586</td>\n",
       "      <td>2.517146</td>\n",
       "      <td>3.352280</td>\n",
       "      <td>4.149888</td>\n",
       "      <td>5.426193</td>\n",
       "      <td>9.000040</td>\n",
       "    </tr>\n",
       "    <tr>\n",
       "      <th>4092</th>\n",
       "      <td>4092</td>\n",
       "      <td>60.5</td>\n",
       "      <td>63.5</td>\n",
       "      <td>0.041716</td>\n",
       "      <td>0.061741</td>\n",
       "      <td>0.131291</td>\n",
       "      <td>0.386540</td>\n",
       "      <td>0.755846</td>\n",
       "      <td>0.941116</td>\n",
       "      <td>1.107797</td>\n",
       "      <td>1.309479</td>\n",
       "      <td>2.057450</td>\n",
       "      <td>2.827425</td>\n",
       "    </tr>\n",
       "    <tr>\n",
       "      <th>4093</th>\n",
       "      <td>4093</td>\n",
       "      <td>61.5</td>\n",
       "      <td>63.5</td>\n",
       "      <td>0.100895</td>\n",
       "      <td>0.180352</td>\n",
       "      <td>0.296299</td>\n",
       "      <td>0.705373</td>\n",
       "      <td>1.300220</td>\n",
       "      <td>1.608609</td>\n",
       "      <td>1.822806</td>\n",
       "      <td>2.333681</td>\n",
       "      <td>3.218519</td>\n",
       "      <td>4.021677</td>\n",
       "    </tr>\n",
       "    <tr>\n",
       "      <th>4094</th>\n",
       "      <td>4094</td>\n",
       "      <td>62.5</td>\n",
       "      <td>63.5</td>\n",
       "      <td>0.155353</td>\n",
       "      <td>0.290825</td>\n",
       "      <td>0.557803</td>\n",
       "      <td>1.516066</td>\n",
       "      <td>2.399426</td>\n",
       "      <td>2.719197</td>\n",
       "      <td>4.494515</td>\n",
       "      <td>6.096858</td>\n",
       "      <td>6.262574</td>\n",
       "      <td>9.618148</td>\n",
       "    </tr>\n",
       "    <tr>\n",
       "      <th>4095</th>\n",
       "      <td>4095</td>\n",
       "      <td>63.5</td>\n",
       "      <td>63.5</td>\n",
       "      <td>0.209372</td>\n",
       "      <td>0.340185</td>\n",
       "      <td>0.749491</td>\n",
       "      <td>1.904285</td>\n",
       "      <td>2.775772</td>\n",
       "      <td>3.404641</td>\n",
       "      <td>4.574922</td>\n",
       "      <td>6.301078</td>\n",
       "      <td>6.860939</td>\n",
       "      <td>10.614832</td>\n",
       "    </tr>\n",
       "  </tbody>\n",
       "</table>\n",
       "<p>4096 rows × 13 columns</p>\n",
       "</div>"
      ],
      "text/plain": [
       "      demand_point_index  x_coordinate  y_coordinate      2010      2011  \\\n",
       "0                      0           0.5           0.5  0.352242  0.667932   \n",
       "1                      1           1.5           0.5  0.325940  0.591964   \n",
       "2                      2           2.5           0.5  0.373752  0.591890   \n",
       "3                      3           3.5           0.5  0.420686  0.584055   \n",
       "4                      4           4.5           0.5  0.475621  0.647940   \n",
       "...                  ...           ...           ...       ...       ...   \n",
       "4091                4091          59.5          63.5  0.171015  0.334565   \n",
       "4092                4092          60.5          63.5  0.041716  0.061741   \n",
       "4093                4093          61.5          63.5  0.100895  0.180352   \n",
       "4094                4094          62.5          63.5  0.155353  0.290825   \n",
       "4095                4095          63.5          63.5  0.209372  0.340185   \n",
       "\n",
       "          2012      2013      2014      2015      2016       2017       2018  \\\n",
       "0     0.958593  2.911901  4.338274  6.561995  8.454417  10.595324  13.119572   \n",
       "1     0.862652  2.589068  4.196034  5.745551  8.753195  11.126995  12.020091   \n",
       "2     0.969733  2.641432  3.541772  5.469161  8.414627  10.115336  14.018254   \n",
       "3     0.906547  2.378577  3.888121  5.846089  9.083868  12.424885  15.012302   \n",
       "4     0.981544  2.665400  4.218711  6.776609  8.851107  11.731131  16.355563   \n",
       "...        ...       ...       ...       ...       ...        ...        ...   \n",
       "4091  0.556055  1.373291  1.837586  2.517146  3.352280   4.149888   5.426193   \n",
       "4092  0.131291  0.386540  0.755846  0.941116  1.107797   1.309479   2.057450   \n",
       "4093  0.296299  0.705373  1.300220  1.608609  1.822806   2.333681   3.218519   \n",
       "4094  0.557803  1.516066  2.399426  2.719197  4.494515   6.096858   6.262574   \n",
       "4095  0.749491  1.904285  2.775772  3.404641  4.574922   6.301078   6.860939   \n",
       "\n",
       "           2019  \n",
       "0     16.710302  \n",
       "1     16.239906  \n",
       "2     17.565750  \n",
       "3     19.732737  \n",
       "4     18.497293  \n",
       "...         ...  \n",
       "4091   9.000040  \n",
       "4092   2.827425  \n",
       "4093   4.021677  \n",
       "4094   9.618148  \n",
       "4095  10.614832  \n",
       "\n",
       "[4096 rows x 13 columns]"
      ]
     },
     "execution_count": 159,
     "metadata": {},
     "output_type": "execute_result"
    }
   ],
   "source": [
    "data.df_trans"
   ]
  },
  {
   "cell_type": "code",
   "execution_count": 160,
   "metadata": {},
   "outputs": [],
   "source": [
    "predicted_2020 = model.predict(2020)"
   ]
  },
  {
   "cell_type": "code",
   "execution_count": 161,
   "metadata": {},
   "outputs": [],
   "source": [
    "data.addYearDemandfromForecast(2020, predicted_2020)"
   ]
  },
  {
   "cell_type": "code",
   "execution_count": 162,
   "metadata": {},
   "outputs": [
    {
     "data": {
      "text/html": [
       "<div>\n",
       "<style scoped>\n",
       "    .dataframe tbody tr th:only-of-type {\n",
       "        vertical-align: middle;\n",
       "    }\n",
       "\n",
       "    .dataframe tbody tr th {\n",
       "        vertical-align: top;\n",
       "    }\n",
       "\n",
       "    .dataframe thead th {\n",
       "        text-align: right;\n",
       "    }\n",
       "</style>\n",
       "<table border=\"1\" class=\"dataframe\">\n",
       "  <thead>\n",
       "    <tr style=\"text-align: right;\">\n",
       "      <th></th>\n",
       "      <th>demand_point_index</th>\n",
       "      <th>x_coordinate</th>\n",
       "      <th>y_coordinate</th>\n",
       "      <th>2010</th>\n",
       "      <th>2011</th>\n",
       "      <th>2012</th>\n",
       "      <th>2013</th>\n",
       "      <th>2014</th>\n",
       "      <th>2015</th>\n",
       "      <th>2016</th>\n",
       "      <th>2017</th>\n",
       "      <th>2018</th>\n",
       "      <th>2019</th>\n",
       "      <th>2020</th>\n",
       "    </tr>\n",
       "  </thead>\n",
       "  <tbody>\n",
       "    <tr>\n",
       "      <th>0</th>\n",
       "      <td>0</td>\n",
       "      <td>0.5</td>\n",
       "      <td>0.5</td>\n",
       "      <td>0.352242</td>\n",
       "      <td>0.667932</td>\n",
       "      <td>0.958593</td>\n",
       "      <td>2.911901</td>\n",
       "      <td>4.338274</td>\n",
       "      <td>6.561995</td>\n",
       "      <td>8.454417</td>\n",
       "      <td>10.595324</td>\n",
       "      <td>13.119572</td>\n",
       "      <td>16.710302</td>\n",
       "      <td>21.496117</td>\n",
       "    </tr>\n",
       "    <tr>\n",
       "      <th>1</th>\n",
       "      <td>1</td>\n",
       "      <td>1.5</td>\n",
       "      <td>0.5</td>\n",
       "      <td>0.325940</td>\n",
       "      <td>0.591964</td>\n",
       "      <td>0.862652</td>\n",
       "      <td>2.589068</td>\n",
       "      <td>4.196034</td>\n",
       "      <td>5.745551</td>\n",
       "      <td>8.753195</td>\n",
       "      <td>11.126995</td>\n",
       "      <td>12.020091</td>\n",
       "      <td>16.239906</td>\n",
       "      <td>18.497293</td>\n",
       "    </tr>\n",
       "    <tr>\n",
       "      <th>2</th>\n",
       "      <td>2</td>\n",
       "      <td>2.5</td>\n",
       "      <td>0.5</td>\n",
       "      <td>0.373752</td>\n",
       "      <td>0.591890</td>\n",
       "      <td>0.969733</td>\n",
       "      <td>2.641432</td>\n",
       "      <td>3.541772</td>\n",
       "      <td>5.469161</td>\n",
       "      <td>8.414627</td>\n",
       "      <td>10.115336</td>\n",
       "      <td>14.018254</td>\n",
       "      <td>17.565750</td>\n",
       "      <td>22.332476</td>\n",
       "    </tr>\n",
       "    <tr>\n",
       "      <th>3</th>\n",
       "      <td>3</td>\n",
       "      <td>3.5</td>\n",
       "      <td>0.5</td>\n",
       "      <td>0.420686</td>\n",
       "      <td>0.584055</td>\n",
       "      <td>0.906547</td>\n",
       "      <td>2.378577</td>\n",
       "      <td>3.888121</td>\n",
       "      <td>5.846089</td>\n",
       "      <td>9.083868</td>\n",
       "      <td>12.424885</td>\n",
       "      <td>15.012302</td>\n",
       "      <td>19.732737</td>\n",
       "      <td>24.542948</td>\n",
       "    </tr>\n",
       "    <tr>\n",
       "      <th>4</th>\n",
       "      <td>4</td>\n",
       "      <td>4.5</td>\n",
       "      <td>0.5</td>\n",
       "      <td>0.475621</td>\n",
       "      <td>0.647940</td>\n",
       "      <td>0.981544</td>\n",
       "      <td>2.665400</td>\n",
       "      <td>4.218711</td>\n",
       "      <td>6.776609</td>\n",
       "      <td>8.851107</td>\n",
       "      <td>11.731131</td>\n",
       "      <td>16.355563</td>\n",
       "      <td>18.497293</td>\n",
       "      <td>24.522871</td>\n",
       "    </tr>\n",
       "    <tr>\n",
       "      <th>...</th>\n",
       "      <td>...</td>\n",
       "      <td>...</td>\n",
       "      <td>...</td>\n",
       "      <td>...</td>\n",
       "      <td>...</td>\n",
       "      <td>...</td>\n",
       "      <td>...</td>\n",
       "      <td>...</td>\n",
       "      <td>...</td>\n",
       "      <td>...</td>\n",
       "      <td>...</td>\n",
       "      <td>...</td>\n",
       "      <td>...</td>\n",
       "      <td>...</td>\n",
       "    </tr>\n",
       "    <tr>\n",
       "      <th>4091</th>\n",
       "      <td>4091</td>\n",
       "      <td>59.5</td>\n",
       "      <td>63.5</td>\n",
       "      <td>0.171015</td>\n",
       "      <td>0.334565</td>\n",
       "      <td>0.556055</td>\n",
       "      <td>1.373291</td>\n",
       "      <td>1.837586</td>\n",
       "      <td>2.517146</td>\n",
       "      <td>3.352280</td>\n",
       "      <td>4.149888</td>\n",
       "      <td>5.426193</td>\n",
       "      <td>9.000040</td>\n",
       "      <td>13.245551</td>\n",
       "    </tr>\n",
       "    <tr>\n",
       "      <th>4092</th>\n",
       "      <td>4092</td>\n",
       "      <td>60.5</td>\n",
       "      <td>63.5</td>\n",
       "      <td>0.041716</td>\n",
       "      <td>0.061741</td>\n",
       "      <td>0.131291</td>\n",
       "      <td>0.386540</td>\n",
       "      <td>0.755846</td>\n",
       "      <td>0.941116</td>\n",
       "      <td>1.107797</td>\n",
       "      <td>1.309479</td>\n",
       "      <td>2.057450</td>\n",
       "      <td>2.827425</td>\n",
       "      <td>3.593100</td>\n",
       "    </tr>\n",
       "    <tr>\n",
       "      <th>4093</th>\n",
       "      <td>4093</td>\n",
       "      <td>61.5</td>\n",
       "      <td>63.5</td>\n",
       "      <td>0.100895</td>\n",
       "      <td>0.180352</td>\n",
       "      <td>0.296299</td>\n",
       "      <td>0.705373</td>\n",
       "      <td>1.300220</td>\n",
       "      <td>1.608609</td>\n",
       "      <td>1.822806</td>\n",
       "      <td>2.333681</td>\n",
       "      <td>3.218519</td>\n",
       "      <td>4.021677</td>\n",
       "      <td>4.920814</td>\n",
       "    </tr>\n",
       "    <tr>\n",
       "      <th>4094</th>\n",
       "      <td>4094</td>\n",
       "      <td>62.5</td>\n",
       "      <td>63.5</td>\n",
       "      <td>0.155353</td>\n",
       "      <td>0.290825</td>\n",
       "      <td>0.557803</td>\n",
       "      <td>1.516066</td>\n",
       "      <td>2.399426</td>\n",
       "      <td>2.719197</td>\n",
       "      <td>4.494515</td>\n",
       "      <td>6.096858</td>\n",
       "      <td>6.262574</td>\n",
       "      <td>9.618148</td>\n",
       "      <td>13.314995</td>\n",
       "    </tr>\n",
       "    <tr>\n",
       "      <th>4095</th>\n",
       "      <td>4095</td>\n",
       "      <td>63.5</td>\n",
       "      <td>63.5</td>\n",
       "      <td>0.209372</td>\n",
       "      <td>0.340185</td>\n",
       "      <td>0.749491</td>\n",
       "      <td>1.904285</td>\n",
       "      <td>2.775772</td>\n",
       "      <td>3.404641</td>\n",
       "      <td>4.574922</td>\n",
       "      <td>6.301078</td>\n",
       "      <td>6.860939</td>\n",
       "      <td>10.614832</td>\n",
       "      <td>12.841141</td>\n",
       "    </tr>\n",
       "  </tbody>\n",
       "</table>\n",
       "<p>4096 rows × 14 columns</p>\n",
       "</div>"
      ],
      "text/plain": [
       "      demand_point_index  x_coordinate  y_coordinate      2010      2011  \\\n",
       "0                      0           0.5           0.5  0.352242  0.667932   \n",
       "1                      1           1.5           0.5  0.325940  0.591964   \n",
       "2                      2           2.5           0.5  0.373752  0.591890   \n",
       "3                      3           3.5           0.5  0.420686  0.584055   \n",
       "4                      4           4.5           0.5  0.475621  0.647940   \n",
       "...                  ...           ...           ...       ...       ...   \n",
       "4091                4091          59.5          63.5  0.171015  0.334565   \n",
       "4092                4092          60.5          63.5  0.041716  0.061741   \n",
       "4093                4093          61.5          63.5  0.100895  0.180352   \n",
       "4094                4094          62.5          63.5  0.155353  0.290825   \n",
       "4095                4095          63.5          63.5  0.209372  0.340185   \n",
       "\n",
       "          2012      2013      2014      2015      2016       2017       2018  \\\n",
       "0     0.958593  2.911901  4.338274  6.561995  8.454417  10.595324  13.119572   \n",
       "1     0.862652  2.589068  4.196034  5.745551  8.753195  11.126995  12.020091   \n",
       "2     0.969733  2.641432  3.541772  5.469161  8.414627  10.115336  14.018254   \n",
       "3     0.906547  2.378577  3.888121  5.846089  9.083868  12.424885  15.012302   \n",
       "4     0.981544  2.665400  4.218711  6.776609  8.851107  11.731131  16.355563   \n",
       "...        ...       ...       ...       ...       ...        ...        ...   \n",
       "4091  0.556055  1.373291  1.837586  2.517146  3.352280   4.149888   5.426193   \n",
       "4092  0.131291  0.386540  0.755846  0.941116  1.107797   1.309479   2.057450   \n",
       "4093  0.296299  0.705373  1.300220  1.608609  1.822806   2.333681   3.218519   \n",
       "4094  0.557803  1.516066  2.399426  2.719197  4.494515   6.096858   6.262574   \n",
       "4095  0.749491  1.904285  2.775772  3.404641  4.574922   6.301078   6.860939   \n",
       "\n",
       "           2019       2020  \n",
       "0     16.710302  21.496117  \n",
       "1     16.239906  18.497293  \n",
       "2     17.565750  22.332476  \n",
       "3     19.732737  24.542948  \n",
       "4     18.497293  24.522871  \n",
       "...         ...        ...  \n",
       "4091   9.000040  13.245551  \n",
       "4092   2.827425   3.593100  \n",
       "4093   4.021677   4.920814  \n",
       "4094   9.618148  13.314995  \n",
       "4095  10.614832  12.841141  \n",
       "\n",
       "[4096 rows x 14 columns]"
      ]
     },
     "execution_count": 162,
     "metadata": {},
     "output_type": "execute_result"
    }
   ],
   "source": [
    "data.df_trans"
   ]
  },
  {
   "cell_type": "code",
   "execution_count": 163,
   "metadata": {},
   "outputs": [],
   "source": [
    "data.df_trans.to_csv(\"forecast.csv\")"
   ]
  },
  {
   "cell_type": "code",
   "execution_count": null,
   "metadata": {},
   "outputs": [],
   "source": []
  }
 ],
 "metadata": {
  "kernelspec": {
   "display_name": "Python 3.10.5 ('py310')",
   "language": "python",
   "name": "python3"
  },
  "language_info": {
   "codemirror_mode": {
    "name": "ipython",
    "version": 3
   },
   "file_extension": ".py",
   "mimetype": "text/x-python",
   "name": "python",
   "nbconvert_exporter": "python",
   "pygments_lexer": "ipython3",
   "version": "3.10.5"
  },
  "orig_nbformat": 4,
  "vscode": {
   "interpreter": {
    "hash": "2188dc54a6508a42c9fce3e6e9b2c9c9a4da77d925b31cfa7fabba8d7b1361e2"
   }
  }
 },
 "nbformat": 4,
 "nbformat_minor": 2
}
