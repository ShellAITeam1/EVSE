{
 "cells": [
  {
   "cell_type": "code",
   "execution_count": 1,
   "metadata": {},
   "outputs": [],
   "source": [
    "import pandas as pd\n",
    "import numpy as np"
   ]
  },
  {
   "cell_type": "code",
   "execution_count": 2,
   "metadata": {},
   "outputs": [
    {
     "name": "stderr",
     "output_type": "stream",
     "text": [
      "/Users/manuel.ramos/miniforge3/envs/py310/lib/python3.10/site-packages/xgboost/compat.py:36: FutureWarning: pandas.Int64Index is deprecated and will be removed from pandas in a future version. Use pandas.Index with the appropriate dtype instead.\n",
      "  from pandas import MultiIndex, Int64Index\n"
     ]
    }
   ],
   "source": [
    "import xgboost as xgb\n",
    "from sklearn.metrics import mean_squared_error, mean_absolute_error, r2_score\n",
    "from hyperopt import STATUS_OK, Trials, fmin, hp, tpe\n"
   ]
  },
  {
   "cell_type": "code",
   "execution_count": 103,
   "metadata": {},
   "outputs": [],
   "source": [
    "class Data:\n",
    "    def __init__(self, path: str) -> None:    \n",
    "        demand_path = path + \"/Demand_history.csv\"\n",
    "        existingEV_path = path + \"/existing_EV_infrastructure_2018.csv\"\n",
    "        self.df_orig = pd.read_csv(demand_path)\n",
    "        self.df_trans = self.df_orig\n",
    "        self.years_window = 2\n",
    "        self.y_cols = [f\"n-{y}\" for y in range(1, self.years_window + 1)]\n",
    "        \n",
    "    def clean(self):\n",
    "        self.df_orig.loc[(self.df_orig != 0).any(1)]\n",
    "        print(self.df_orig)\n",
    "        \n",
    "    def split(self):\n",
    "        \n",
    "        x_train = pd.DataFrame(columns=[\"x_coordinate\", \"y_coordinate\", *self.y_cols])\n",
    "        x_test = pd.DataFrame(columns=[\"x_coordinate\", \"y_coordinate\", *self.y_cols])\n",
    "        y_train = pd.Series(dtype=np.float64)\n",
    "        y_test = pd.Series(dtype=np.float64)\n",
    "        for y in self.df_trans.columns[self.df_trans.columns.str.startswith('20')]:\n",
    "            y = int(y)\n",
    "            if y < 2010 + self.years_window:\n",
    "                continue\n",
    "            y_cols = [f\"{y - i}\" for i in range(1, self.years_window + 1)]\n",
    "            stack_x = self.df_trans.loc[:, self.df_trans.columns.isin([\"x_coordinate\", \"y_coordinate\", *y_cols])]\n",
    "            y_dict = {f\"{y - i}\": f\"n-{i}\" for i in range(1, self.years_window + 1)}\n",
    "            stack_x = stack_x.rename(columns=y_dict)\n",
    "            stack_y = self.df_trans.loc[:, f\"{y}\"]\n",
    "            if y == 2018:\n",
    "                 x_test = pd.concat([x_test, stack_x], axis=0, ignore_index=True)\n",
    "                 y_test = pd.concat([y_test, stack_y], axis=0, ignore_index=True)\n",
    "            else:\n",
    "                x_train = pd.concat([x_train, stack_x], axis=0, ignore_index=True)\n",
    "                y_train = pd.concat([y_train, stack_y], axis=0, ignore_index=True)\n",
    "        \n",
    "        data.x_train = x_train\n",
    "        data.x_test = x_test\n",
    "        data.y_train = y_train\n",
    "        data.y_test = y_test\n",
    "        \n",
    "    def addYearDemandfromForecast(self, year: int, predicted: np.array) -> None:\n",
    "        predicted = predicted.reshape(-1, 1)\n",
    "        self.df_trans[f\"{year}\"] = predicted        \n",
    "                  \n",
    "path = \"data\"\n",
    "data = Data(path)\n",
    "data.split()"
   ]
  },
  {
   "cell_type": "code",
   "execution_count": 104,
   "metadata": {},
   "outputs": [
    {
     "data": {
      "text/html": [
       "<div>\n",
       "<style scoped>\n",
       "    .dataframe tbody tr th:only-of-type {\n",
       "        vertical-align: middle;\n",
       "    }\n",
       "\n",
       "    .dataframe tbody tr th {\n",
       "        vertical-align: top;\n",
       "    }\n",
       "\n",
       "    .dataframe thead th {\n",
       "        text-align: right;\n",
       "    }\n",
       "</style>\n",
       "<table border=\"1\" class=\"dataframe\">\n",
       "  <thead>\n",
       "    <tr style=\"text-align: right;\">\n",
       "      <th></th>\n",
       "      <th>x_coordinate</th>\n",
       "      <th>y_coordinate</th>\n",
       "      <th>n-1</th>\n",
       "    </tr>\n",
       "  </thead>\n",
       "  <tbody>\n",
       "    <tr>\n",
       "      <th>0</th>\n",
       "      <td>0.5</td>\n",
       "      <td>0.5</td>\n",
       "      <td>0.352242</td>\n",
       "    </tr>\n",
       "    <tr>\n",
       "      <th>1</th>\n",
       "      <td>1.5</td>\n",
       "      <td>0.5</td>\n",
       "      <td>0.325940</td>\n",
       "    </tr>\n",
       "    <tr>\n",
       "      <th>2</th>\n",
       "      <td>2.5</td>\n",
       "      <td>0.5</td>\n",
       "      <td>0.373752</td>\n",
       "    </tr>\n",
       "    <tr>\n",
       "      <th>3</th>\n",
       "      <td>3.5</td>\n",
       "      <td>0.5</td>\n",
       "      <td>0.420686</td>\n",
       "    </tr>\n",
       "    <tr>\n",
       "      <th>4</th>\n",
       "      <td>4.5</td>\n",
       "      <td>0.5</td>\n",
       "      <td>0.475621</td>\n",
       "    </tr>\n",
       "    <tr>\n",
       "      <th>...</th>\n",
       "      <td>...</td>\n",
       "      <td>...</td>\n",
       "      <td>...</td>\n",
       "    </tr>\n",
       "    <tr>\n",
       "      <th>28667</th>\n",
       "      <td>59.5</td>\n",
       "      <td>63.5</td>\n",
       "      <td>3.352280</td>\n",
       "    </tr>\n",
       "    <tr>\n",
       "      <th>28668</th>\n",
       "      <td>60.5</td>\n",
       "      <td>63.5</td>\n",
       "      <td>1.107797</td>\n",
       "    </tr>\n",
       "    <tr>\n",
       "      <th>28669</th>\n",
       "      <td>61.5</td>\n",
       "      <td>63.5</td>\n",
       "      <td>1.822806</td>\n",
       "    </tr>\n",
       "    <tr>\n",
       "      <th>28670</th>\n",
       "      <td>62.5</td>\n",
       "      <td>63.5</td>\n",
       "      <td>4.494515</td>\n",
       "    </tr>\n",
       "    <tr>\n",
       "      <th>28671</th>\n",
       "      <td>63.5</td>\n",
       "      <td>63.5</td>\n",
       "      <td>4.574922</td>\n",
       "    </tr>\n",
       "  </tbody>\n",
       "</table>\n",
       "<p>28672 rows × 3 columns</p>\n",
       "</div>"
      ],
      "text/plain": [
       "       x_coordinate  y_coordinate       n-1\n",
       "0               0.5           0.5  0.352242\n",
       "1               1.5           0.5  0.325940\n",
       "2               2.5           0.5  0.373752\n",
       "3               3.5           0.5  0.420686\n",
       "4               4.5           0.5  0.475621\n",
       "...             ...           ...       ...\n",
       "28667          59.5          63.5  3.352280\n",
       "28668          60.5          63.5  1.107797\n",
       "28669          61.5          63.5  1.822806\n",
       "28670          62.5          63.5  4.494515\n",
       "28671          63.5          63.5  4.574922\n",
       "\n",
       "[28672 rows x 3 columns]"
      ]
     },
     "execution_count": 104,
     "metadata": {},
     "output_type": "execute_result"
    }
   ],
   "source": [
    "data.x_train"
   ]
  },
  {
   "cell_type": "code",
   "execution_count": 105,
   "metadata": {},
   "outputs": [],
   "source": [
    "class Model:\n",
    "    def __init__(self, data: Data) -> None:\n",
    "        self.data = data\n",
    "        self.model = xgb.XGBRegressor()\n",
    "    \n",
    "    def feature_importance(self) -> None:\n",
    "        _ = xgb.plot_importance(self.model, height=0.9)\n",
    "    \n",
    "    def fit(self) -> None:\n",
    "        self.model.fit(data.x_train, data.y_train,\n",
    "            eval_set=[(data.x_train, data.y_train), (data.x_test, data.y_test)],\n",
    "            early_stopping_rounds=10)\n",
    "        \n",
    "        pred = self.model.predict(data.x_train)\n",
    "        train_rmse = np.sqrt(mean_squared_error(data.y_train, pred))\n",
    "        train_mae = mean_absolute_error(data.y_train, pred)   \n",
    "        train_r2 = r2_score(data.y_train, pred) \n",
    "        pred = self.model.predict(data.x_test)\n",
    "        test_rmse = np.sqrt(mean_squared_error(data.y_test, pred))\n",
    "        test_mae = mean_absolute_error(data.y_test, pred)   \n",
    "        test_r2 = r2_score(data.y_test, pred)    \n",
    "        \n",
    "        print(f\"training: rmse={train_rmse}, mae={train_mae}, r2={train_r2}\")   \n",
    "        print(f\"test: rmse={test_rmse}, mae={test_mae}, r2={test_r2}\")                        \n",
    "    \n",
    "    def predict(self, year: int) -> pd.Series:\n",
    "        y_cols = [f\"{year - i}\" for i in range(1, data.years_window + 1)]\n",
    "        x_forecast = \\\n",
    "            data.df_trans.loc[:,\n",
    "                              data.df_trans.columns.isin([\"x_coordinate\", \"y_coordinate\", *y_cols])]        \n",
    "        return self.model.predict(x_forecast)\n",
    "    \n",
    "    def set_params(self, params):\n",
    "        params['n_estimators'] = int(params['n_estimators'])\n",
    "        params['max_depth'] = int(params['max_depth'])\n",
    "        self.model.set_params(**params)\n",
    "        "
   ]
  },
  {
   "cell_type": "code",
   "execution_count": 106,
   "metadata": {},
   "outputs": [],
   "source": [
    "model = Model(data)"
   ]
  },
  {
   "cell_type": "code",
   "execution_count": 107,
   "metadata": {},
   "outputs": [],
   "source": [
    "space = {'max_depth': hp.quniform(\"max_depth\", 3, 18, 1),\n",
    "        'gamma': hp.uniform ('gamma', 1,9),\n",
    "        'reg_alpha' : hp.quniform('reg_alpha', 40,180,1),\n",
    "        'reg_lambda' : hp.uniform('reg_lambda', 0,1),\n",
    "        'colsample_bytree' : hp.uniform('colsample_bytree', 0.5,1),\n",
    "        'min_child_weight' : hp.quniform('min_child_weight', 0, 10, 1),\n",
    "        'n_estimators': hp.quniform(\"n_estimators\", 100, 1000, 10),\n",
    "        'seed': 0,\n",
    "        'objective': 'reg:squarederror'\n",
    "    }\n",
    "\n",
    "def objective(space):\n",
    "    model.set_params(space)\n",
    "    \n",
    "    evaluation = [(data.x_train, data.y_train), (data.x_test, data.y_test)]\n",
    "    \n",
    "    model.model.fit(data.x_train, data.y_train,\n",
    "            eval_set=evaluation, eval_metric=\"rmse\",\n",
    "            early_stopping_rounds=10, verbose=False)\n",
    "    \n",
    "\n",
    "    pred = model.model.predict(data.x_test)\n",
    "    rmse = np.sqrt(mean_squared_error(data.y_test, pred))\n",
    "    print (\"rmse:\", rmse)\n",
    "    return {'loss': rmse, 'status': STATUS_OK }"
   ]
  },
  {
   "cell_type": "code",
   "execution_count": 108,
   "metadata": {},
   "outputs": [
    {
     "name": "stdout",
     "output_type": "stream",
     "text": [
      "  0%|          | 0/100 [00:00<?, ?trial/s, best loss=?]"
     ]
    },
    {
     "name": "stderr",
     "output_type": "stream",
     "text": [
      "/Users/manuel.ramos/miniforge3/envs/py310/lib/python3.10/site-packages/xgboost/data.py:250: FutureWarning: pandas.Int64Index is deprecated and will be removed from pandas in a future version. Use pandas.Index with the appropriate dtype instead.\n",
      "  elif isinstance(data.columns, (pd.Int64Index, pd.RangeIndex)):\n",
      "\n"
     ]
    },
    {
     "name": "stdout",
     "output_type": "stream",
     "text": [
      "rmse:                                                  \n",
      "15.841692106141013                                     \n",
      "  1%|          | 1/100 [00:00<00:43,  2.26trial/s, best loss: 15.841692106141013]"
     ]
    },
    {
     "name": "stderr",
     "output_type": "stream",
     "text": [
      "/Users/manuel.ramos/miniforge3/envs/py310/lib/python3.10/site-packages/xgboost/data.py:250: FutureWarning: pandas.Int64Index is deprecated and will be removed from pandas in a future version. Use pandas.Index with the appropriate dtype instead.\n",
      "  elif isinstance(data.columns, (pd.Int64Index, pd.RangeIndex)):\n",
      "\n"
     ]
    },
    {
     "name": "stdout",
     "output_type": "stream",
     "text": [
      "rmse:                                                                            \n",
      "15.746384012193106                                                               \n",
      "  2%|▏         | 2/100 [00:00<00:34,  2.82trial/s, best loss: 15.746384012193106]"
     ]
    },
    {
     "name": "stderr",
     "output_type": "stream",
     "text": [
      "/Users/manuel.ramos/miniforge3/envs/py310/lib/python3.10/site-packages/xgboost/data.py:250: FutureWarning: pandas.Int64Index is deprecated and will be removed from pandas in a future version. Use pandas.Index with the appropriate dtype instead.\n",
      "  elif isinstance(data.columns, (pd.Int64Index, pd.RangeIndex)):\n",
      "\n"
     ]
    },
    {
     "name": "stdout",
     "output_type": "stream",
     "text": [
      "rmse:                                                                            \n",
      "15.904406447488215                                                               \n",
      "  3%|▎         | 3/100 [00:01<00:33,  2.90trial/s, best loss: 15.746384012193106]"
     ]
    },
    {
     "name": "stderr",
     "output_type": "stream",
     "text": [
      "/Users/manuel.ramos/miniforge3/envs/py310/lib/python3.10/site-packages/xgboost/data.py:250: FutureWarning: pandas.Int64Index is deprecated and will be removed from pandas in a future version. Use pandas.Index with the appropriate dtype instead.\n",
      "  elif isinstance(data.columns, (pd.Int64Index, pd.RangeIndex)):\n",
      "\n"
     ]
    },
    {
     "name": "stdout",
     "output_type": "stream",
     "text": [
      "rmse:                                                                            \n",
      "16.21791808064095                                                                \n",
      "  4%|▍         | 4/100 [00:01<00:35,  2.74trial/s, best loss: 15.746384012193106]"
     ]
    },
    {
     "name": "stderr",
     "output_type": "stream",
     "text": [
      "/Users/manuel.ramos/miniforge3/envs/py310/lib/python3.10/site-packages/xgboost/data.py:250: FutureWarning: pandas.Int64Index is deprecated and will be removed from pandas in a future version. Use pandas.Index with the appropriate dtype instead.\n",
      "  elif isinstance(data.columns, (pd.Int64Index, pd.RangeIndex)):\n",
      "\n"
     ]
    },
    {
     "name": "stdout",
     "output_type": "stream",
     "text": [
      "rmse:                                                                            \n",
      "15.648201898355326                                                               \n",
      "  5%|▌         | 5/100 [00:01<00:34,  2.73trial/s, best loss: 15.648201898355326]"
     ]
    },
    {
     "name": "stderr",
     "output_type": "stream",
     "text": [
      "/Users/manuel.ramos/miniforge3/envs/py310/lib/python3.10/site-packages/xgboost/data.py:250: FutureWarning: pandas.Int64Index is deprecated and will be removed from pandas in a future version. Use pandas.Index with the appropriate dtype instead.\n",
      "  elif isinstance(data.columns, (pd.Int64Index, pd.RangeIndex)):\n",
      "\n"
     ]
    },
    {
     "name": "stdout",
     "output_type": "stream",
     "text": [
      "rmse:                                                                            \n",
      "15.641516385185332                                                               \n",
      "rmse:                                                                            \n",
      "15.615903373425754                                                               \n",
      "  7%|▋         | 7/100 [00:02<00:27,  3.44trial/s, best loss: 15.615903373425754]"
     ]
    },
    {
     "name": "stderr",
     "output_type": "stream",
     "text": [
      "/Users/manuel.ramos/miniforge3/envs/py310/lib/python3.10/site-packages/xgboost/data.py:250: FutureWarning: pandas.Int64Index is deprecated and will be removed from pandas in a future version. Use pandas.Index with the appropriate dtype instead.\n",
      "  elif isinstance(data.columns, (pd.Int64Index, pd.RangeIndex)):\n",
      "\n",
      "/Users/manuel.ramos/miniforge3/envs/py310/lib/python3.10/site-packages/xgboost/data.py:250: FutureWarning: pandas.Int64Index is deprecated and will be removed from pandas in a future version. Use pandas.Index with the appropriate dtype instead.\n",
      "  elif isinstance(data.columns, (pd.Int64Index, pd.RangeIndex)):\n",
      "\n"
     ]
    },
    {
     "name": "stdout",
     "output_type": "stream",
     "text": [
      "rmse:                                                                            \n",
      "15.567041449327961                                                               \n",
      "  8%|▊         | 8/100 [00:02<00:26,  3.43trial/s, best loss: 15.567041449327961]"
     ]
    },
    {
     "name": "stderr",
     "output_type": "stream",
     "text": [
      "/Users/manuel.ramos/miniforge3/envs/py310/lib/python3.10/site-packages/xgboost/data.py:250: FutureWarning: pandas.Int64Index is deprecated and will be removed from pandas in a future version. Use pandas.Index with the appropriate dtype instead.\n",
      "  elif isinstance(data.columns, (pd.Int64Index, pd.RangeIndex)):\n",
      "\n"
     ]
    },
    {
     "name": "stdout",
     "output_type": "stream",
     "text": [
      "rmse:                                                                            \n",
      "15.802953660287894                                                               \n",
      "  9%|▉         | 9/100 [00:02<00:27,  3.31trial/s, best loss: 15.567041449327961]"
     ]
    },
    {
     "name": "stderr",
     "output_type": "stream",
     "text": [
      "/Users/manuel.ramos/miniforge3/envs/py310/lib/python3.10/site-packages/xgboost/data.py:250: FutureWarning: pandas.Int64Index is deprecated and will be removed from pandas in a future version. Use pandas.Index with the appropriate dtype instead.\n",
      "  elif isinstance(data.columns, (pd.Int64Index, pd.RangeIndex)):\n",
      "\n"
     ]
    },
    {
     "name": "stdout",
     "output_type": "stream",
     "text": [
      "rmse:                                                                            \n",
      "15.77959658176495                                                                \n",
      " 10%|█         | 10/100 [00:03<00:28,  3.19trial/s, best loss: 15.567041449327961]"
     ]
    },
    {
     "name": "stderr",
     "output_type": "stream",
     "text": [
      "/Users/manuel.ramos/miniforge3/envs/py310/lib/python3.10/site-packages/xgboost/data.py:250: FutureWarning: pandas.Int64Index is deprecated and will be removed from pandas in a future version. Use pandas.Index with the appropriate dtype instead.\n",
      "  elif isinstance(data.columns, (pd.Int64Index, pd.RangeIndex)):\n",
      "\n"
     ]
    },
    {
     "name": "stdout",
     "output_type": "stream",
     "text": [
      "rmse:                                                                             \n",
      "15.672258121760736                                                                \n",
      " 11%|█         | 11/100 [00:03<00:33,  2.64trial/s, best loss: 15.567041449327961]"
     ]
    },
    {
     "name": "stderr",
     "output_type": "stream",
     "text": [
      "/Users/manuel.ramos/miniforge3/envs/py310/lib/python3.10/site-packages/xgboost/data.py:250: FutureWarning: pandas.Int64Index is deprecated and will be removed from pandas in a future version. Use pandas.Index with the appropriate dtype instead.\n",
      "  elif isinstance(data.columns, (pd.Int64Index, pd.RangeIndex)):\n",
      "\n"
     ]
    },
    {
     "name": "stdout",
     "output_type": "stream",
     "text": [
      "rmse:                                                                             \n",
      "15.926316254881689                                                                \n",
      " 12%|█▏        | 12/100 [00:04<00:31,  2.75trial/s, best loss: 15.567041449327961]"
     ]
    },
    {
     "name": "stderr",
     "output_type": "stream",
     "text": [
      "/Users/manuel.ramos/miniforge3/envs/py310/lib/python3.10/site-packages/xgboost/data.py:250: FutureWarning: pandas.Int64Index is deprecated and will be removed from pandas in a future version. Use pandas.Index with the appropriate dtype instead.\n",
      "  elif isinstance(data.columns, (pd.Int64Index, pd.RangeIndex)):\n",
      "\n"
     ]
    },
    {
     "name": "stdout",
     "output_type": "stream",
     "text": [
      "rmse:                                                                             \n",
      "15.949195594308732                                                                \n",
      " 13%|█▎        | 13/100 [00:04<00:34,  2.54trial/s, best loss: 15.567041449327961]"
     ]
    },
    {
     "name": "stderr",
     "output_type": "stream",
     "text": [
      "/Users/manuel.ramos/miniforge3/envs/py310/lib/python3.10/site-packages/xgboost/data.py:250: FutureWarning: pandas.Int64Index is deprecated and will be removed from pandas in a future version. Use pandas.Index with the appropriate dtype instead.\n",
      "  elif isinstance(data.columns, (pd.Int64Index, pd.RangeIndex)):\n",
      "\n"
     ]
    },
    {
     "name": "stdout",
     "output_type": "stream",
     "text": [
      "rmse:                                                                             \n",
      "15.795630990748348                                                                \n",
      "rmse:                                                                             \n",
      "15.614258575937816                                                                \n",
      " 15%|█▌        | 15/100 [00:05<00:25,  3.30trial/s, best loss: 15.567041449327961]"
     ]
    },
    {
     "name": "stderr",
     "output_type": "stream",
     "text": [
      "/Users/manuel.ramos/miniforge3/envs/py310/lib/python3.10/site-packages/xgboost/data.py:250: FutureWarning: pandas.Int64Index is deprecated and will be removed from pandas in a future version. Use pandas.Index with the appropriate dtype instead.\n",
      "  elif isinstance(data.columns, (pd.Int64Index, pd.RangeIndex)):\n",
      "\n",
      "/Users/manuel.ramos/miniforge3/envs/py310/lib/python3.10/site-packages/xgboost/data.py:250: FutureWarning: pandas.Int64Index is deprecated and will be removed from pandas in a future version. Use pandas.Index with the appropriate dtype instead.\n",
      "  elif isinstance(data.columns, (pd.Int64Index, pd.RangeIndex)):\n",
      "\n"
     ]
    },
    {
     "name": "stdout",
     "output_type": "stream",
     "text": [
      "rmse:                                                                             \n",
      "15.645890536460328                                                                \n",
      " 16%|█▌        | 16/100 [00:05<00:27,  3.03trial/s, best loss: 15.567041449327961]"
     ]
    },
    {
     "name": "stderr",
     "output_type": "stream",
     "text": [
      "/Users/manuel.ramos/miniforge3/envs/py310/lib/python3.10/site-packages/xgboost/data.py:250: FutureWarning: pandas.Int64Index is deprecated and will be removed from pandas in a future version. Use pandas.Index with the appropriate dtype instead.\n",
      "  elif isinstance(data.columns, (pd.Int64Index, pd.RangeIndex)):\n",
      "\n"
     ]
    },
    {
     "name": "stdout",
     "output_type": "stream",
     "text": [
      "rmse:                                                                             \n",
      "15.940101246916528                                                                \n",
      " 17%|█▋        | 17/100 [00:05<00:28,  2.95trial/s, best loss: 15.567041449327961]"
     ]
    },
    {
     "name": "stderr",
     "output_type": "stream",
     "text": [
      "/Users/manuel.ramos/miniforge3/envs/py310/lib/python3.10/site-packages/xgboost/data.py:250: FutureWarning: pandas.Int64Index is deprecated and will be removed from pandas in a future version. Use pandas.Index with the appropriate dtype instead.\n",
      "  elif isinstance(data.columns, (pd.Int64Index, pd.RangeIndex)):\n",
      "\n"
     ]
    },
    {
     "name": "stdout",
     "output_type": "stream",
     "text": [
      "rmse:                                                                             \n",
      "15.758833430584795                                                                \n",
      " 18%|█▊        | 18/100 [00:06<00:28,  2.93trial/s, best loss: 15.567041449327961]"
     ]
    },
    {
     "name": "stderr",
     "output_type": "stream",
     "text": [
      "/Users/manuel.ramos/miniforge3/envs/py310/lib/python3.10/site-packages/xgboost/data.py:250: FutureWarning: pandas.Int64Index is deprecated and will be removed from pandas in a future version. Use pandas.Index with the appropriate dtype instead.\n",
      "  elif isinstance(data.columns, (pd.Int64Index, pd.RangeIndex)):\n",
      "\n"
     ]
    },
    {
     "name": "stdout",
     "output_type": "stream",
     "text": [
      "rmse:                                                                             \n",
      "15.567620305285464                                                                \n",
      "rmse:                                                                             \n",
      "15.86269577657283                                                                 \n",
      " 20%|██        | 20/100 [00:06<00:24,  3.30trial/s, best loss: 15.567041449327961]"
     ]
    },
    {
     "name": "stderr",
     "output_type": "stream",
     "text": [
      "/Users/manuel.ramos/miniforge3/envs/py310/lib/python3.10/site-packages/xgboost/data.py:250: FutureWarning: pandas.Int64Index is deprecated and will be removed from pandas in a future version. Use pandas.Index with the appropriate dtype instead.\n",
      "  elif isinstance(data.columns, (pd.Int64Index, pd.RangeIndex)):\n",
      "\n",
      "/Users/manuel.ramos/miniforge3/envs/py310/lib/python3.10/site-packages/xgboost/data.py:250: FutureWarning: pandas.Int64Index is deprecated and will be removed from pandas in a future version. Use pandas.Index with the appropriate dtype instead.\n",
      "  elif isinstance(data.columns, (pd.Int64Index, pd.RangeIndex)):\n",
      "\n"
     ]
    },
    {
     "name": "stdout",
     "output_type": "stream",
     "text": [
      "rmse:                                                                             \n",
      "15.643782285989463                                                                \n",
      " 21%|██        | 21/100 [00:07<00:24,  3.27trial/s, best loss: 15.567041449327961]"
     ]
    },
    {
     "name": "stderr",
     "output_type": "stream",
     "text": [
      "/Users/manuel.ramos/miniforge3/envs/py310/lib/python3.10/site-packages/xgboost/data.py:250: FutureWarning: pandas.Int64Index is deprecated and will be removed from pandas in a future version. Use pandas.Index with the appropriate dtype instead.\n",
      "  elif isinstance(data.columns, (pd.Int64Index, pd.RangeIndex)):\n",
      "\n"
     ]
    },
    {
     "name": "stdout",
     "output_type": "stream",
     "text": [
      "rmse:                                                                             \n",
      "15.896377118062098                                                                \n",
      "rmse:                                                                             \n",
      "15.88887505845799                                                                 \n",
      " 23%|██▎       | 23/100 [00:07<00:21,  3.60trial/s, best loss: 15.567041449327961]"
     ]
    },
    {
     "name": "stderr",
     "output_type": "stream",
     "text": [
      "/Users/manuel.ramos/miniforge3/envs/py310/lib/python3.10/site-packages/xgboost/data.py:250: FutureWarning: pandas.Int64Index is deprecated and will be removed from pandas in a future version. Use pandas.Index with the appropriate dtype instead.\n",
      "  elif isinstance(data.columns, (pd.Int64Index, pd.RangeIndex)):\n",
      "\n",
      "/Users/manuel.ramos/miniforge3/envs/py310/lib/python3.10/site-packages/xgboost/data.py:250: FutureWarning: pandas.Int64Index is deprecated and will be removed from pandas in a future version. Use pandas.Index with the appropriate dtype instead.\n",
      "  elif isinstance(data.columns, (pd.Int64Index, pd.RangeIndex)):\n",
      "\n"
     ]
    },
    {
     "name": "stdout",
     "output_type": "stream",
     "text": [
      "rmse:                                                                             \n",
      "15.693190134452761                                                                \n",
      " 24%|██▍       | 24/100 [00:07<00:20,  3.70trial/s, best loss: 15.567041449327961]"
     ]
    },
    {
     "name": "stderr",
     "output_type": "stream",
     "text": [
      "/Users/manuel.ramos/miniforge3/envs/py310/lib/python3.10/site-packages/xgboost/data.py:250: FutureWarning: pandas.Int64Index is deprecated and will be removed from pandas in a future version. Use pandas.Index with the appropriate dtype instead.\n",
      "  elif isinstance(data.columns, (pd.Int64Index, pd.RangeIndex)):\n",
      "\n"
     ]
    },
    {
     "name": "stdout",
     "output_type": "stream",
     "text": [
      "rmse:                                                                             \n",
      "15.535186245946411                                                                \n",
      " 25%|██▌       | 25/100 [00:08<00:22,  3.32trial/s, best loss: 15.535186245946411]"
     ]
    },
    {
     "name": "stderr",
     "output_type": "stream",
     "text": [
      "/Users/manuel.ramos/miniforge3/envs/py310/lib/python3.10/site-packages/xgboost/data.py:250: FutureWarning: pandas.Int64Index is deprecated and will be removed from pandas in a future version. Use pandas.Index with the appropriate dtype instead.\n",
      "  elif isinstance(data.columns, (pd.Int64Index, pd.RangeIndex)):\n",
      "\n"
     ]
    },
    {
     "name": "stdout",
     "output_type": "stream",
     "text": [
      "rmse:                                                                             \n",
      "15.669859003005381                                                                \n",
      " 26%|██▌       | 26/100 [00:08<00:25,  2.85trial/s, best loss: 15.535186245946411]"
     ]
    },
    {
     "name": "stderr",
     "output_type": "stream",
     "text": [
      "/Users/manuel.ramos/miniforge3/envs/py310/lib/python3.10/site-packages/xgboost/data.py:250: FutureWarning: pandas.Int64Index is deprecated and will be removed from pandas in a future version. Use pandas.Index with the appropriate dtype instead.\n",
      "  elif isinstance(data.columns, (pd.Int64Index, pd.RangeIndex)):\n",
      "\n"
     ]
    },
    {
     "name": "stdout",
     "output_type": "stream",
     "text": [
      "rmse:                                                                             \n",
      "15.421603228467353                                                                \n",
      " 27%|██▋       | 27/100 [00:09<00:26,  2.71trial/s, best loss: 15.421603228467353]"
     ]
    },
    {
     "name": "stderr",
     "output_type": "stream",
     "text": [
      "/Users/manuel.ramos/miniforge3/envs/py310/lib/python3.10/site-packages/xgboost/data.py:250: FutureWarning: pandas.Int64Index is deprecated and will be removed from pandas in a future version. Use pandas.Index with the appropriate dtype instead.\n",
      "  elif isinstance(data.columns, (pd.Int64Index, pd.RangeIndex)):\n",
      "\n"
     ]
    },
    {
     "name": "stdout",
     "output_type": "stream",
     "text": [
      "rmse:                                                                             \n",
      "15.530917753640576                                                                \n",
      " 28%|██▊       | 28/100 [00:09<00:26,  2.68trial/s, best loss: 15.421603228467353]"
     ]
    },
    {
     "name": "stderr",
     "output_type": "stream",
     "text": [
      "/Users/manuel.ramos/miniforge3/envs/py310/lib/python3.10/site-packages/xgboost/data.py:250: FutureWarning: pandas.Int64Index is deprecated and will be removed from pandas in a future version. Use pandas.Index with the appropriate dtype instead.\n",
      "  elif isinstance(data.columns, (pd.Int64Index, pd.RangeIndex)):\n",
      "\n"
     ]
    },
    {
     "name": "stdout",
     "output_type": "stream",
     "text": [
      "rmse:                                                                             \n",
      "16.035193915992885                                                                \n",
      " 29%|██▉       | 29/100 [00:09<00:26,  2.73trial/s, best loss: 15.421603228467353]"
     ]
    },
    {
     "name": "stderr",
     "output_type": "stream",
     "text": [
      "/Users/manuel.ramos/miniforge3/envs/py310/lib/python3.10/site-packages/xgboost/data.py:250: FutureWarning: pandas.Int64Index is deprecated and will be removed from pandas in a future version. Use pandas.Index with the appropriate dtype instead.\n",
      "  elif isinstance(data.columns, (pd.Int64Index, pd.RangeIndex)):\n",
      "\n"
     ]
    },
    {
     "name": "stdout",
     "output_type": "stream",
     "text": [
      "rmse:                                                                             \n",
      "15.475020335765258                                                                \n",
      " 30%|███       | 30/100 [00:10<00:26,  2.60trial/s, best loss: 15.421603228467353]"
     ]
    },
    {
     "name": "stderr",
     "output_type": "stream",
     "text": [
      "/Users/manuel.ramos/miniforge3/envs/py310/lib/python3.10/site-packages/xgboost/data.py:250: FutureWarning: pandas.Int64Index is deprecated and will be removed from pandas in a future version. Use pandas.Index with the appropriate dtype instead.\n",
      "  elif isinstance(data.columns, (pd.Int64Index, pd.RangeIndex)):\n",
      "\n"
     ]
    },
    {
     "name": "stdout",
     "output_type": "stream",
     "text": [
      "rmse:                                                                             \n",
      "16.01085336997214                                                                 \n",
      " 31%|███       | 31/100 [00:10<00:26,  2.58trial/s, best loss: 15.421603228467353]"
     ]
    },
    {
     "name": "stderr",
     "output_type": "stream",
     "text": [
      "/Users/manuel.ramos/miniforge3/envs/py310/lib/python3.10/site-packages/xgboost/data.py:250: FutureWarning: pandas.Int64Index is deprecated and will be removed from pandas in a future version. Use pandas.Index with the appropriate dtype instead.\n",
      "  elif isinstance(data.columns, (pd.Int64Index, pd.RangeIndex)):\n",
      "\n"
     ]
    },
    {
     "name": "stdout",
     "output_type": "stream",
     "text": [
      "rmse:                                                                             \n",
      "15.416963553182793                                                                \n",
      " 32%|███▏      | 32/100 [00:11<00:27,  2.51trial/s, best loss: 15.416963553182793]"
     ]
    },
    {
     "name": "stderr",
     "output_type": "stream",
     "text": [
      "/Users/manuel.ramos/miniforge3/envs/py310/lib/python3.10/site-packages/xgboost/data.py:250: FutureWarning: pandas.Int64Index is deprecated and will be removed from pandas in a future version. Use pandas.Index with the appropriate dtype instead.\n",
      "  elif isinstance(data.columns, (pd.Int64Index, pd.RangeIndex)):\n",
      "\n"
     ]
    },
    {
     "name": "stdout",
     "output_type": "stream",
     "text": [
      "rmse:                                                                             \n",
      "15.961855592163845                                                                \n",
      " 33%|███▎      | 33/100 [00:11<00:25,  2.61trial/s, best loss: 15.416963553182793]"
     ]
    },
    {
     "name": "stderr",
     "output_type": "stream",
     "text": [
      "/Users/manuel.ramos/miniforge3/envs/py310/lib/python3.10/site-packages/xgboost/data.py:250: FutureWarning: pandas.Int64Index is deprecated and will be removed from pandas in a future version. Use pandas.Index with the appropriate dtype instead.\n",
      "  elif isinstance(data.columns, (pd.Int64Index, pd.RangeIndex)):\n",
      "\n"
     ]
    },
    {
     "name": "stdout",
     "output_type": "stream",
     "text": [
      "rmse:                                                                             \n",
      "16.249757931728563                                                                \n",
      " 34%|███▍      | 34/100 [00:11<00:25,  2.56trial/s, best loss: 15.416963553182793]"
     ]
    },
    {
     "name": "stderr",
     "output_type": "stream",
     "text": [
      "/Users/manuel.ramos/miniforge3/envs/py310/lib/python3.10/site-packages/xgboost/data.py:250: FutureWarning: pandas.Int64Index is deprecated and will be removed from pandas in a future version. Use pandas.Index with the appropriate dtype instead.\n",
      "  elif isinstance(data.columns, (pd.Int64Index, pd.RangeIndex)):\n",
      "\n"
     ]
    },
    {
     "name": "stdout",
     "output_type": "stream",
     "text": [
      "rmse:                                                                             \n",
      "15.811163106599928                                                                \n",
      " 35%|███▌      | 35/100 [00:12<00:24,  2.61trial/s, best loss: 15.416963553182793]"
     ]
    },
    {
     "name": "stderr",
     "output_type": "stream",
     "text": [
      "/Users/manuel.ramos/miniforge3/envs/py310/lib/python3.10/site-packages/xgboost/data.py:250: FutureWarning: pandas.Int64Index is deprecated and will be removed from pandas in a future version. Use pandas.Index with the appropriate dtype instead.\n",
      "  elif isinstance(data.columns, (pd.Int64Index, pd.RangeIndex)):\n",
      "\n"
     ]
    },
    {
     "name": "stdout",
     "output_type": "stream",
     "text": [
      "rmse:                                                                             \n",
      "15.928190579629586                                                                \n",
      " 36%|███▌      | 36/100 [00:12<00:24,  2.62trial/s, best loss: 15.416963553182793]"
     ]
    },
    {
     "name": "stderr",
     "output_type": "stream",
     "text": [
      "/Users/manuel.ramos/miniforge3/envs/py310/lib/python3.10/site-packages/xgboost/data.py:250: FutureWarning: pandas.Int64Index is deprecated and will be removed from pandas in a future version. Use pandas.Index with the appropriate dtype instead.\n",
      "  elif isinstance(data.columns, (pd.Int64Index, pd.RangeIndex)):\n",
      "\n"
     ]
    },
    {
     "name": "stdout",
     "output_type": "stream",
     "text": [
      "rmse:                                                                             \n",
      "15.934727222680932                                                                \n",
      " 37%|███▋      | 37/100 [00:12<00:24,  2.60trial/s, best loss: 15.416963553182793]"
     ]
    },
    {
     "name": "stderr",
     "output_type": "stream",
     "text": [
      "/Users/manuel.ramos/miniforge3/envs/py310/lib/python3.10/site-packages/xgboost/data.py:250: FutureWarning: pandas.Int64Index is deprecated and will be removed from pandas in a future version. Use pandas.Index with the appropriate dtype instead.\n",
      "  elif isinstance(data.columns, (pd.Int64Index, pd.RangeIndex)):\n",
      "\n"
     ]
    },
    {
     "name": "stdout",
     "output_type": "stream",
     "text": [
      "rmse:                                                                             \n",
      "15.661153014507494                                                                \n",
      " 38%|███▊      | 38/100 [00:13<00:24,  2.58trial/s, best loss: 15.416963553182793]"
     ]
    },
    {
     "name": "stderr",
     "output_type": "stream",
     "text": [
      "/Users/manuel.ramos/miniforge3/envs/py310/lib/python3.10/site-packages/xgboost/data.py:250: FutureWarning: pandas.Int64Index is deprecated and will be removed from pandas in a future version. Use pandas.Index with the appropriate dtype instead.\n",
      "  elif isinstance(data.columns, (pd.Int64Index, pd.RangeIndex)):\n",
      "\n"
     ]
    },
    {
     "name": "stdout",
     "output_type": "stream",
     "text": [
      "rmse:                                                                             \n",
      "15.954370908821527                                                                \n",
      " 39%|███▉      | 39/100 [00:13<00:25,  2.39trial/s, best loss: 15.416963553182793]"
     ]
    },
    {
     "name": "stderr",
     "output_type": "stream",
     "text": [
      "/Users/manuel.ramos/miniforge3/envs/py310/lib/python3.10/site-packages/xgboost/data.py:250: FutureWarning: pandas.Int64Index is deprecated and will be removed from pandas in a future version. Use pandas.Index with the appropriate dtype instead.\n",
      "  elif isinstance(data.columns, (pd.Int64Index, pd.RangeIndex)):\n",
      "\n"
     ]
    },
    {
     "name": "stdout",
     "output_type": "stream",
     "text": [
      "rmse:                                                                             \n",
      "15.943418851992883                                                                \n",
      " 40%|████      | 40/100 [00:14<00:24,  2.45trial/s, best loss: 15.416963553182793]"
     ]
    },
    {
     "name": "stderr",
     "output_type": "stream",
     "text": [
      "/Users/manuel.ramos/miniforge3/envs/py310/lib/python3.10/site-packages/xgboost/data.py:250: FutureWarning: pandas.Int64Index is deprecated and will be removed from pandas in a future version. Use pandas.Index with the appropriate dtype instead.\n",
      "  elif isinstance(data.columns, (pd.Int64Index, pd.RangeIndex)):\n",
      "\n"
     ]
    },
    {
     "name": "stdout",
     "output_type": "stream",
     "text": [
      "rmse:                                                                             \n",
      "15.793668907974618                                                                \n",
      " 41%|████      | 41/100 [00:14<00:23,  2.56trial/s, best loss: 15.416963553182793]"
     ]
    },
    {
     "name": "stderr",
     "output_type": "stream",
     "text": [
      "/Users/manuel.ramos/miniforge3/envs/py310/lib/python3.10/site-packages/xgboost/data.py:250: FutureWarning: pandas.Int64Index is deprecated and will be removed from pandas in a future version. Use pandas.Index with the appropriate dtype instead.\n",
      "  elif isinstance(data.columns, (pd.Int64Index, pd.RangeIndex)):\n",
      "\n"
     ]
    },
    {
     "name": "stdout",
     "output_type": "stream",
     "text": [
      "rmse:                                                                             \n",
      "15.990471427084918                                                                \n",
      " 42%|████▏     | 42/100 [00:14<00:23,  2.47trial/s, best loss: 15.416963553182793]"
     ]
    },
    {
     "name": "stderr",
     "output_type": "stream",
     "text": [
      "/Users/manuel.ramos/miniforge3/envs/py310/lib/python3.10/site-packages/xgboost/data.py:250: FutureWarning: pandas.Int64Index is deprecated and will be removed from pandas in a future version. Use pandas.Index with the appropriate dtype instead.\n",
      "  elif isinstance(data.columns, (pd.Int64Index, pd.RangeIndex)):\n",
      "\n"
     ]
    },
    {
     "name": "stdout",
     "output_type": "stream",
     "text": [
      "rmse:                                                                             \n",
      "15.841032838511953                                                                \n",
      " 43%|████▎     | 43/100 [00:15<00:21,  2.65trial/s, best loss: 15.416963553182793]"
     ]
    },
    {
     "name": "stderr",
     "output_type": "stream",
     "text": [
      "/Users/manuel.ramos/miniforge3/envs/py310/lib/python3.10/site-packages/xgboost/data.py:250: FutureWarning: pandas.Int64Index is deprecated and will be removed from pandas in a future version. Use pandas.Index with the appropriate dtype instead.\n",
      "  elif isinstance(data.columns, (pd.Int64Index, pd.RangeIndex)):\n",
      "\n"
     ]
    },
    {
     "name": "stdout",
     "output_type": "stream",
     "text": [
      "rmse:                                                                             \n",
      "15.652038306145569                                                                \n",
      " 44%|████▍     | 44/100 [00:15<00:21,  2.66trial/s, best loss: 15.416963553182793]"
     ]
    },
    {
     "name": "stderr",
     "output_type": "stream",
     "text": [
      "/Users/manuel.ramos/miniforge3/envs/py310/lib/python3.10/site-packages/xgboost/data.py:250: FutureWarning: pandas.Int64Index is deprecated and will be removed from pandas in a future version. Use pandas.Index with the appropriate dtype instead.\n",
      "  elif isinstance(data.columns, (pd.Int64Index, pd.RangeIndex)):\n",
      "\n"
     ]
    },
    {
     "name": "stdout",
     "output_type": "stream",
     "text": [
      "rmse:                                                                             \n",
      "15.999851237621325                                                                \n",
      " 45%|████▌     | 45/100 [00:16<00:20,  2.74trial/s, best loss: 15.416963553182793]"
     ]
    },
    {
     "name": "stderr",
     "output_type": "stream",
     "text": [
      "/Users/manuel.ramos/miniforge3/envs/py310/lib/python3.10/site-packages/xgboost/data.py:250: FutureWarning: pandas.Int64Index is deprecated and will be removed from pandas in a future version. Use pandas.Index with the appropriate dtype instead.\n",
      "  elif isinstance(data.columns, (pd.Int64Index, pd.RangeIndex)):\n",
      "\n"
     ]
    },
    {
     "name": "stdout",
     "output_type": "stream",
     "text": [
      "rmse:                                                                             \n",
      "15.984896530688493                                                                \n",
      " 46%|████▌     | 46/100 [00:16<00:18,  2.91trial/s, best loss: 15.416963553182793]"
     ]
    },
    {
     "name": "stderr",
     "output_type": "stream",
     "text": [
      "/Users/manuel.ramos/miniforge3/envs/py310/lib/python3.10/site-packages/xgboost/data.py:250: FutureWarning: pandas.Int64Index is deprecated and will be removed from pandas in a future version. Use pandas.Index with the appropriate dtype instead.\n",
      "  elif isinstance(data.columns, (pd.Int64Index, pd.RangeIndex)):\n",
      "\n"
     ]
    },
    {
     "name": "stdout",
     "output_type": "stream",
     "text": [
      "rmse:                                                                             \n",
      "15.837217118286848                                                                \n",
      " 47%|████▋     | 47/100 [00:16<00:17,  3.03trial/s, best loss: 15.416963553182793]"
     ]
    },
    {
     "name": "stderr",
     "output_type": "stream",
     "text": [
      "/Users/manuel.ramos/miniforge3/envs/py310/lib/python3.10/site-packages/xgboost/data.py:250: FutureWarning: pandas.Int64Index is deprecated and will be removed from pandas in a future version. Use pandas.Index with the appropriate dtype instead.\n",
      "  elif isinstance(data.columns, (pd.Int64Index, pd.RangeIndex)):\n",
      "\n"
     ]
    },
    {
     "name": "stdout",
     "output_type": "stream",
     "text": [
      "rmse:                                                                             \n",
      "16.01299805476338                                                                 \n",
      " 48%|████▊     | 48/100 [00:16<00:17,  2.95trial/s, best loss: 15.416963553182793]"
     ]
    },
    {
     "name": "stderr",
     "output_type": "stream",
     "text": [
      "/Users/manuel.ramos/miniforge3/envs/py310/lib/python3.10/site-packages/xgboost/data.py:250: FutureWarning: pandas.Int64Index is deprecated and will be removed from pandas in a future version. Use pandas.Index with the appropriate dtype instead.\n",
      "  elif isinstance(data.columns, (pd.Int64Index, pd.RangeIndex)):\n",
      "\n"
     ]
    },
    {
     "name": "stdout",
     "output_type": "stream",
     "text": [
      "rmse:                                                                             \n",
      "15.70721366819694                                                                 \n",
      " 49%|████▉     | 49/100 [00:17<00:15,  3.26trial/s, best loss: 15.416963553182793]"
     ]
    },
    {
     "name": "stderr",
     "output_type": "stream",
     "text": [
      "/Users/manuel.ramos/miniforge3/envs/py310/lib/python3.10/site-packages/xgboost/data.py:250: FutureWarning: pandas.Int64Index is deprecated and will be removed from pandas in a future version. Use pandas.Index with the appropriate dtype instead.\n",
      "  elif isinstance(data.columns, (pd.Int64Index, pd.RangeIndex)):\n",
      "\n"
     ]
    },
    {
     "name": "stdout",
     "output_type": "stream",
     "text": [
      "rmse:                                                                             \n",
      "15.408605256382648                                                                \n",
      " 50%|█████     | 50/100 [00:17<00:18,  2.76trial/s, best loss: 15.408605256382648]"
     ]
    },
    {
     "name": "stderr",
     "output_type": "stream",
     "text": [
      "/Users/manuel.ramos/miniforge3/envs/py310/lib/python3.10/site-packages/xgboost/data.py:250: FutureWarning: pandas.Int64Index is deprecated and will be removed from pandas in a future version. Use pandas.Index with the appropriate dtype instead.\n",
      "  elif isinstance(data.columns, (pd.Int64Index, pd.RangeIndex)):\n",
      "\n"
     ]
    },
    {
     "name": "stdout",
     "output_type": "stream",
     "text": [
      "rmse:                                                                             \n",
      "15.422110211864544                                                                \n",
      " 51%|█████     | 51/100 [00:18<00:17,  2.84trial/s, best loss: 15.408605256382648]"
     ]
    },
    {
     "name": "stderr",
     "output_type": "stream",
     "text": [
      "/Users/manuel.ramos/miniforge3/envs/py310/lib/python3.10/site-packages/xgboost/data.py:250: FutureWarning: pandas.Int64Index is deprecated and will be removed from pandas in a future version. Use pandas.Index with the appropriate dtype instead.\n",
      "  elif isinstance(data.columns, (pd.Int64Index, pd.RangeIndex)):\n",
      "\n"
     ]
    },
    {
     "name": "stdout",
     "output_type": "stream",
     "text": [
      "rmse:                                                                             \n",
      "15.602581521489919                                                                \n",
      "rmse:                                                                             \n",
      "15.805861073059216                                                                \n",
      " 53%|█████▎    | 53/100 [00:18<00:15,  3.06trial/s, best loss: 15.408605256382648]"
     ]
    },
    {
     "name": "stderr",
     "output_type": "stream",
     "text": [
      "/Users/manuel.ramos/miniforge3/envs/py310/lib/python3.10/site-packages/xgboost/data.py:250: FutureWarning: pandas.Int64Index is deprecated and will be removed from pandas in a future version. Use pandas.Index with the appropriate dtype instead.\n",
      "  elif isinstance(data.columns, (pd.Int64Index, pd.RangeIndex)):\n",
      "\n",
      "/Users/manuel.ramos/miniforge3/envs/py310/lib/python3.10/site-packages/xgboost/data.py:250: FutureWarning: pandas.Int64Index is deprecated and will be removed from pandas in a future version. Use pandas.Index with the appropriate dtype instead.\n",
      "  elif isinstance(data.columns, (pd.Int64Index, pd.RangeIndex)):\n",
      "\n"
     ]
    },
    {
     "name": "stdout",
     "output_type": "stream",
     "text": [
      "rmse:                                                                             \n",
      "15.899042730773163                                                                \n",
      " 54%|█████▍    | 54/100 [00:19<00:15,  3.04trial/s, best loss: 15.408605256382648]"
     ]
    },
    {
     "name": "stderr",
     "output_type": "stream",
     "text": [
      "/Users/manuel.ramos/miniforge3/envs/py310/lib/python3.10/site-packages/xgboost/data.py:250: FutureWarning: pandas.Int64Index is deprecated and will be removed from pandas in a future version. Use pandas.Index with the appropriate dtype instead.\n",
      "  elif isinstance(data.columns, (pd.Int64Index, pd.RangeIndex)):\n",
      "\n"
     ]
    },
    {
     "name": "stdout",
     "output_type": "stream",
     "text": [
      "rmse:                                                                             \n",
      "15.928631049931326                                                                \n",
      " 55%|█████▌    | 55/100 [00:19<00:16,  2.81trial/s, best loss: 15.408605256382648]"
     ]
    },
    {
     "name": "stderr",
     "output_type": "stream",
     "text": [
      "/Users/manuel.ramos/miniforge3/envs/py310/lib/python3.10/site-packages/xgboost/data.py:250: FutureWarning: pandas.Int64Index is deprecated and will be removed from pandas in a future version. Use pandas.Index with the appropriate dtype instead.\n",
      "  elif isinstance(data.columns, (pd.Int64Index, pd.RangeIndex)):\n",
      "\n"
     ]
    },
    {
     "name": "stdout",
     "output_type": "stream",
     "text": [
      "rmse:                                                                             \n",
      "15.425884637033885                                                                \n",
      " 56%|█████▌    | 56/100 [00:19<00:17,  2.58trial/s, best loss: 15.408605256382648]"
     ]
    },
    {
     "name": "stderr",
     "output_type": "stream",
     "text": [
      "/Users/manuel.ramos/miniforge3/envs/py310/lib/python3.10/site-packages/xgboost/data.py:250: FutureWarning: pandas.Int64Index is deprecated and will be removed from pandas in a future version. Use pandas.Index with the appropriate dtype instead.\n",
      "  elif isinstance(data.columns, (pd.Int64Index, pd.RangeIndex)):\n",
      "\n"
     ]
    },
    {
     "name": "stdout",
     "output_type": "stream",
     "text": [
      "rmse:                                                                             \n",
      "16.181618664535133                                                                \n",
      " 57%|█████▋    | 57/100 [00:20<00:15,  2.82trial/s, best loss: 15.408605256382648]"
     ]
    },
    {
     "name": "stderr",
     "output_type": "stream",
     "text": [
      "/Users/manuel.ramos/miniforge3/envs/py310/lib/python3.10/site-packages/xgboost/data.py:250: FutureWarning: pandas.Int64Index is deprecated and will be removed from pandas in a future version. Use pandas.Index with the appropriate dtype instead.\n",
      "  elif isinstance(data.columns, (pd.Int64Index, pd.RangeIndex)):\n",
      "\n"
     ]
    },
    {
     "name": "stdout",
     "output_type": "stream",
     "text": [
      "rmse:                                                                             \n",
      "15.765393927429391                                                                \n",
      " 58%|█████▊    | 58/100 [00:20<00:16,  2.51trial/s, best loss: 15.408605256382648]"
     ]
    },
    {
     "name": "stderr",
     "output_type": "stream",
     "text": [
      "/Users/manuel.ramos/miniforge3/envs/py310/lib/python3.10/site-packages/xgboost/data.py:250: FutureWarning: pandas.Int64Index is deprecated and will be removed from pandas in a future version. Use pandas.Index with the appropriate dtype instead.\n",
      "  elif isinstance(data.columns, (pd.Int64Index, pd.RangeIndex)):\n",
      "\n"
     ]
    },
    {
     "name": "stdout",
     "output_type": "stream",
     "text": [
      "rmse:                                                                             \n",
      "15.941431848307293                                                                \n",
      " 59%|█████▉    | 59/100 [00:21<00:16,  2.56trial/s, best loss: 15.408605256382648]"
     ]
    },
    {
     "name": "stderr",
     "output_type": "stream",
     "text": [
      "/Users/manuel.ramos/miniforge3/envs/py310/lib/python3.10/site-packages/xgboost/data.py:250: FutureWarning: pandas.Int64Index is deprecated and will be removed from pandas in a future version. Use pandas.Index with the appropriate dtype instead.\n",
      "  elif isinstance(data.columns, (pd.Int64Index, pd.RangeIndex)):\n",
      "\n"
     ]
    },
    {
     "name": "stdout",
     "output_type": "stream",
     "text": [
      "rmse:                                                                             \n",
      "15.813012268405695                                                                \n",
      " 60%|██████    | 60/100 [00:21<00:15,  2.62trial/s, best loss: 15.408605256382648]"
     ]
    },
    {
     "name": "stderr",
     "output_type": "stream",
     "text": [
      "/Users/manuel.ramos/miniforge3/envs/py310/lib/python3.10/site-packages/xgboost/data.py:250: FutureWarning: pandas.Int64Index is deprecated and will be removed from pandas in a future version. Use pandas.Index with the appropriate dtype instead.\n",
      "  elif isinstance(data.columns, (pd.Int64Index, pd.RangeIndex)):\n",
      "\n"
     ]
    },
    {
     "name": "stdout",
     "output_type": "stream",
     "text": [
      "rmse:                                                                             \n",
      "15.814225901453591                                                                \n",
      " 61%|██████    | 61/100 [00:21<00:15,  2.49trial/s, best loss: 15.408605256382648]"
     ]
    },
    {
     "name": "stderr",
     "output_type": "stream",
     "text": [
      "/Users/manuel.ramos/miniforge3/envs/py310/lib/python3.10/site-packages/xgboost/data.py:250: FutureWarning: pandas.Int64Index is deprecated and will be removed from pandas in a future version. Use pandas.Index with the appropriate dtype instead.\n",
      "  elif isinstance(data.columns, (pd.Int64Index, pd.RangeIndex)):\n",
      "\n"
     ]
    },
    {
     "name": "stdout",
     "output_type": "stream",
     "text": [
      "rmse:                                                                             \n",
      "15.61740618359172                                                                 \n",
      " 62%|██████▏   | 62/100 [00:22<00:14,  2.70trial/s, best loss: 15.408605256382648]"
     ]
    },
    {
     "name": "stderr",
     "output_type": "stream",
     "text": [
      "/Users/manuel.ramos/miniforge3/envs/py310/lib/python3.10/site-packages/xgboost/data.py:250: FutureWarning: pandas.Int64Index is deprecated and will be removed from pandas in a future version. Use pandas.Index with the appropriate dtype instead.\n",
      "  elif isinstance(data.columns, (pd.Int64Index, pd.RangeIndex)):\n",
      "\n"
     ]
    },
    {
     "name": "stdout",
     "output_type": "stream",
     "text": [
      "rmse:                                                                             \n",
      "15.83643819964782                                                                 \n",
      " 63%|██████▎   | 63/100 [00:22<00:12,  3.05trial/s, best loss: 15.408605256382648]"
     ]
    },
    {
     "name": "stderr",
     "output_type": "stream",
     "text": [
      "/Users/manuel.ramos/miniforge3/envs/py310/lib/python3.10/site-packages/xgboost/data.py:250: FutureWarning: pandas.Int64Index is deprecated and will be removed from pandas in a future version. Use pandas.Index with the appropriate dtype instead.\n",
      "  elif isinstance(data.columns, (pd.Int64Index, pd.RangeIndex)):\n",
      "\n"
     ]
    },
    {
     "name": "stdout",
     "output_type": "stream",
     "text": [
      "rmse:                                                                             \n",
      "16.152025349414487                                                                \n",
      " 64%|██████▍   | 64/100 [00:22<00:11,  3.01trial/s, best loss: 15.408605256382648]"
     ]
    },
    {
     "name": "stderr",
     "output_type": "stream",
     "text": [
      "/Users/manuel.ramos/miniforge3/envs/py310/lib/python3.10/site-packages/xgboost/data.py:250: FutureWarning: pandas.Int64Index is deprecated and will be removed from pandas in a future version. Use pandas.Index with the appropriate dtype instead.\n",
      "  elif isinstance(data.columns, (pd.Int64Index, pd.RangeIndex)):\n",
      "\n"
     ]
    },
    {
     "name": "stdout",
     "output_type": "stream",
     "text": [
      "rmse:                                                                             \n",
      "15.429926113216895                                                                \n",
      " 65%|██████▌   | 65/100 [00:23<00:12,  2.79trial/s, best loss: 15.408605256382648]"
     ]
    },
    {
     "name": "stderr",
     "output_type": "stream",
     "text": [
      "/Users/manuel.ramos/miniforge3/envs/py310/lib/python3.10/site-packages/xgboost/data.py:250: FutureWarning: pandas.Int64Index is deprecated and will be removed from pandas in a future version. Use pandas.Index with the appropriate dtype instead.\n",
      "  elif isinstance(data.columns, (pd.Int64Index, pd.RangeIndex)):\n",
      "\n"
     ]
    },
    {
     "name": "stdout",
     "output_type": "stream",
     "text": [
      "rmse:                                                                             \n",
      "15.422359951565085                                                                \n",
      " 66%|██████▌   | 66/100 [00:23<00:13,  2.57trial/s, best loss: 15.408605256382648]"
     ]
    },
    {
     "name": "stderr",
     "output_type": "stream",
     "text": [
      "/Users/manuel.ramos/miniforge3/envs/py310/lib/python3.10/site-packages/xgboost/data.py:250: FutureWarning: pandas.Int64Index is deprecated and will be removed from pandas in a future version. Use pandas.Index with the appropriate dtype instead.\n",
      "  elif isinstance(data.columns, (pd.Int64Index, pd.RangeIndex)):\n",
      "\n"
     ]
    },
    {
     "name": "stdout",
     "output_type": "stream",
     "text": [
      "rmse:                                                                             \n",
      "15.539528071125845                                                                \n",
      " 67%|██████▋   | 67/100 [00:24<00:13,  2.54trial/s, best loss: 15.408605256382648]"
     ]
    },
    {
     "name": "stderr",
     "output_type": "stream",
     "text": [
      "/Users/manuel.ramos/miniforge3/envs/py310/lib/python3.10/site-packages/xgboost/data.py:250: FutureWarning: pandas.Int64Index is deprecated and will be removed from pandas in a future version. Use pandas.Index with the appropriate dtype instead.\n",
      "  elif isinstance(data.columns, (pd.Int64Index, pd.RangeIndex)):\n",
      "\n"
     ]
    },
    {
     "name": "stdout",
     "output_type": "stream",
     "text": [
      "rmse:                                                                             \n",
      "15.527475602649702                                                                \n",
      " 68%|██████▊   | 68/100 [00:24<00:12,  2.48trial/s, best loss: 15.408605256382648]"
     ]
    },
    {
     "name": "stderr",
     "output_type": "stream",
     "text": [
      "/Users/manuel.ramos/miniforge3/envs/py310/lib/python3.10/site-packages/xgboost/data.py:250: FutureWarning: pandas.Int64Index is deprecated and will be removed from pandas in a future version. Use pandas.Index with the appropriate dtype instead.\n",
      "  elif isinstance(data.columns, (pd.Int64Index, pd.RangeIndex)):\n",
      "\n"
     ]
    },
    {
     "name": "stdout",
     "output_type": "stream",
     "text": [
      "rmse:                                                                             \n",
      "15.528980487852033                                                                \n",
      " 69%|██████▉   | 69/100 [00:24<00:12,  2.47trial/s, best loss: 15.408605256382648]"
     ]
    },
    {
     "name": "stderr",
     "output_type": "stream",
     "text": [
      "/Users/manuel.ramos/miniforge3/envs/py310/lib/python3.10/site-packages/xgboost/data.py:250: FutureWarning: pandas.Int64Index is deprecated and will be removed from pandas in a future version. Use pandas.Index with the appropriate dtype instead.\n",
      "  elif isinstance(data.columns, (pd.Int64Index, pd.RangeIndex)):\n",
      "\n"
     ]
    },
    {
     "name": "stdout",
     "output_type": "stream",
     "text": [
      "rmse:                                                                             \n",
      "15.416312501502318                                                                \n",
      " 70%|███████   | 70/100 [00:25<00:12,  2.45trial/s, best loss: 15.408605256382648]"
     ]
    },
    {
     "name": "stderr",
     "output_type": "stream",
     "text": [
      "/Users/manuel.ramos/miniforge3/envs/py310/lib/python3.10/site-packages/xgboost/data.py:250: FutureWarning: pandas.Int64Index is deprecated and will be removed from pandas in a future version. Use pandas.Index with the appropriate dtype instead.\n",
      "  elif isinstance(data.columns, (pd.Int64Index, pd.RangeIndex)):\n",
      "\n"
     ]
    },
    {
     "name": "stdout",
     "output_type": "stream",
     "text": [
      "rmse:                                                                             \n",
      "16.040729968129703                                                                \n",
      " 71%|███████   | 71/100 [00:25<00:11,  2.59trial/s, best loss: 15.408605256382648]"
     ]
    },
    {
     "name": "stderr",
     "output_type": "stream",
     "text": [
      "/Users/manuel.ramos/miniforge3/envs/py310/lib/python3.10/site-packages/xgboost/data.py:250: FutureWarning: pandas.Int64Index is deprecated and will be removed from pandas in a future version. Use pandas.Index with the appropriate dtype instead.\n",
      "  elif isinstance(data.columns, (pd.Int64Index, pd.RangeIndex)):\n",
      "\n"
     ]
    },
    {
     "name": "stdout",
     "output_type": "stream",
     "text": [
      "rmse:                                                                             \n",
      "15.529871402445169                                                                \n",
      " 72%|███████▏  | 72/100 [00:26<00:11,  2.52trial/s, best loss: 15.408605256382648]"
     ]
    },
    {
     "name": "stderr",
     "output_type": "stream",
     "text": [
      "/Users/manuel.ramos/miniforge3/envs/py310/lib/python3.10/site-packages/xgboost/data.py:250: FutureWarning: pandas.Int64Index is deprecated and will be removed from pandas in a future version. Use pandas.Index with the appropriate dtype instead.\n",
      "  elif isinstance(data.columns, (pd.Int64Index, pd.RangeIndex)):\n",
      "\n"
     ]
    },
    {
     "name": "stdout",
     "output_type": "stream",
     "text": [
      "rmse:                                                                             \n",
      "15.838970840924196                                                                \n",
      " 73%|███████▎  | 73/100 [00:26<00:10,  2.65trial/s, best loss: 15.408605256382648]"
     ]
    },
    {
     "name": "stderr",
     "output_type": "stream",
     "text": [
      "/Users/manuel.ramos/miniforge3/envs/py310/lib/python3.10/site-packages/xgboost/data.py:250: FutureWarning: pandas.Int64Index is deprecated and will be removed from pandas in a future version. Use pandas.Index with the appropriate dtype instead.\n",
      "  elif isinstance(data.columns, (pd.Int64Index, pd.RangeIndex)):\n",
      "\n"
     ]
    },
    {
     "name": "stdout",
     "output_type": "stream",
     "text": [
      "rmse:                                                                             \n",
      "15.60563885987801                                                                 \n",
      " 74%|███████▍  | 74/100 [00:26<00:09,  2.78trial/s, best loss: 15.408605256382648]"
     ]
    },
    {
     "name": "stderr",
     "output_type": "stream",
     "text": [
      "/Users/manuel.ramos/miniforge3/envs/py310/lib/python3.10/site-packages/xgboost/data.py:250: FutureWarning: pandas.Int64Index is deprecated and will be removed from pandas in a future version. Use pandas.Index with the appropriate dtype instead.\n",
      "  elif isinstance(data.columns, (pd.Int64Index, pd.RangeIndex)):\n",
      "\n"
     ]
    },
    {
     "name": "stdout",
     "output_type": "stream",
     "text": [
      "rmse:                                                                             \n",
      "15.667021472636742                                                                \n",
      " 75%|███████▌  | 75/100 [00:26<00:08,  2.88trial/s, best loss: 15.408605256382648]"
     ]
    },
    {
     "name": "stderr",
     "output_type": "stream",
     "text": [
      "/Users/manuel.ramos/miniforge3/envs/py310/lib/python3.10/site-packages/xgboost/data.py:250: FutureWarning: pandas.Int64Index is deprecated and will be removed from pandas in a future version. Use pandas.Index with the appropriate dtype instead.\n",
      "  elif isinstance(data.columns, (pd.Int64Index, pd.RangeIndex)):\n",
      "\n"
     ]
    },
    {
     "name": "stdout",
     "output_type": "stream",
     "text": [
      "rmse:                                                                             \n",
      "15.83729092798795                                                                 \n",
      " 76%|███████▌  | 76/100 [00:27<00:08,  2.83trial/s, best loss: 15.408605256382648]"
     ]
    },
    {
     "name": "stderr",
     "output_type": "stream",
     "text": [
      "/Users/manuel.ramos/miniforge3/envs/py310/lib/python3.10/site-packages/xgboost/data.py:250: FutureWarning: pandas.Int64Index is deprecated and will be removed from pandas in a future version. Use pandas.Index with the appropriate dtype instead.\n",
      "  elif isinstance(data.columns, (pd.Int64Index, pd.RangeIndex)):\n",
      "\n"
     ]
    },
    {
     "name": "stdout",
     "output_type": "stream",
     "text": [
      "rmse:                                                                             \n",
      "15.777050365239917                                                                \n",
      " 77%|███████▋  | 77/100 [00:27<00:07,  2.89trial/s, best loss: 15.408605256382648]"
     ]
    },
    {
     "name": "stderr",
     "output_type": "stream",
     "text": [
      "/Users/manuel.ramos/miniforge3/envs/py310/lib/python3.10/site-packages/xgboost/data.py:250: FutureWarning: pandas.Int64Index is deprecated and will be removed from pandas in a future version. Use pandas.Index with the appropriate dtype instead.\n",
      "  elif isinstance(data.columns, (pd.Int64Index, pd.RangeIndex)):\n",
      "\n"
     ]
    },
    {
     "name": "stdout",
     "output_type": "stream",
     "text": [
      "rmse:                                                                             \n",
      "15.66669899924753                                                                 \n",
      " 78%|███████▊  | 78/100 [00:28<00:07,  2.86trial/s, best loss: 15.408605256382648]"
     ]
    },
    {
     "name": "stderr",
     "output_type": "stream",
     "text": [
      "/Users/manuel.ramos/miniforge3/envs/py310/lib/python3.10/site-packages/xgboost/data.py:250: FutureWarning: pandas.Int64Index is deprecated and will be removed from pandas in a future version. Use pandas.Index with the appropriate dtype instead.\n",
      "  elif isinstance(data.columns, (pd.Int64Index, pd.RangeIndex)):\n",
      "\n"
     ]
    },
    {
     "name": "stdout",
     "output_type": "stream",
     "text": [
      "rmse:                                                                             \n",
      "15.424703014089715                                                                \n",
      " 79%|███████▉  | 79/100 [00:28<00:07,  2.88trial/s, best loss: 15.408605256382648]"
     ]
    },
    {
     "name": "stderr",
     "output_type": "stream",
     "text": [
      "/Users/manuel.ramos/miniforge3/envs/py310/lib/python3.10/site-packages/xgboost/data.py:250: FutureWarning: pandas.Int64Index is deprecated and will be removed from pandas in a future version. Use pandas.Index with the appropriate dtype instead.\n",
      "  elif isinstance(data.columns, (pd.Int64Index, pd.RangeIndex)):\n",
      "\n"
     ]
    },
    {
     "name": "stdout",
     "output_type": "stream",
     "text": [
      "rmse:                                                                             \n",
      "15.889442552133842                                                                \n",
      " 80%|████████  | 80/100 [00:28<00:07,  2.71trial/s, best loss: 15.408605256382648]"
     ]
    },
    {
     "name": "stderr",
     "output_type": "stream",
     "text": [
      "/Users/manuel.ramos/miniforge3/envs/py310/lib/python3.10/site-packages/xgboost/data.py:250: FutureWarning: pandas.Int64Index is deprecated and will be removed from pandas in a future version. Use pandas.Index with the appropriate dtype instead.\n",
      "  elif isinstance(data.columns, (pd.Int64Index, pd.RangeIndex)):\n",
      "\n"
     ]
    },
    {
     "name": "stdout",
     "output_type": "stream",
     "text": [
      "rmse:                                                                             \n",
      "15.882866103735733                                                                \n",
      " 81%|████████  | 81/100 [00:29<00:07,  2.70trial/s, best loss: 15.408605256382648]"
     ]
    },
    {
     "name": "stderr",
     "output_type": "stream",
     "text": [
      "/Users/manuel.ramos/miniforge3/envs/py310/lib/python3.10/site-packages/xgboost/data.py:250: FutureWarning: pandas.Int64Index is deprecated and will be removed from pandas in a future version. Use pandas.Index with the appropriate dtype instead.\n",
      "  elif isinstance(data.columns, (pd.Int64Index, pd.RangeIndex)):\n",
      "\n"
     ]
    },
    {
     "name": "stdout",
     "output_type": "stream",
     "text": [
      "rmse:                                                                             \n",
      "15.8034083858015                                                                  \n",
      " 82%|████████▏ | 82/100 [00:29<00:06,  2.60trial/s, best loss: 15.408605256382648]"
     ]
    },
    {
     "name": "stderr",
     "output_type": "stream",
     "text": [
      "/Users/manuel.ramos/miniforge3/envs/py310/lib/python3.10/site-packages/xgboost/data.py:250: FutureWarning: pandas.Int64Index is deprecated and will be removed from pandas in a future version. Use pandas.Index with the appropriate dtype instead.\n",
      "  elif isinstance(data.columns, (pd.Int64Index, pd.RangeIndex)):\n",
      "\n"
     ]
    },
    {
     "name": "stdout",
     "output_type": "stream",
     "text": [
      "rmse:                                                                             \n",
      "15.602529109563822                                                                \n",
      " 83%|████████▎ | 83/100 [00:29<00:06,  2.59trial/s, best loss: 15.408605256382648]"
     ]
    },
    {
     "name": "stderr",
     "output_type": "stream",
     "text": [
      "/Users/manuel.ramos/miniforge3/envs/py310/lib/python3.10/site-packages/xgboost/data.py:250: FutureWarning: pandas.Int64Index is deprecated and will be removed from pandas in a future version. Use pandas.Index with the appropriate dtype instead.\n",
      "  elif isinstance(data.columns, (pd.Int64Index, pd.RangeIndex)):\n",
      "\n"
     ]
    },
    {
     "name": "stdout",
     "output_type": "stream",
     "text": [
      "rmse:                                                                             \n",
      "15.776070209196993                                                                \n",
      " 84%|████████▍ | 84/100 [00:30<00:05,  2.96trial/s, best loss: 15.408605256382648]"
     ]
    },
    {
     "name": "stderr",
     "output_type": "stream",
     "text": [
      "/Users/manuel.ramos/miniforge3/envs/py310/lib/python3.10/site-packages/xgboost/data.py:250: FutureWarning: pandas.Int64Index is deprecated and will be removed from pandas in a future version. Use pandas.Index with the appropriate dtype instead.\n",
      "  elif isinstance(data.columns, (pd.Int64Index, pd.RangeIndex)):\n",
      "\n"
     ]
    },
    {
     "name": "stdout",
     "output_type": "stream",
     "text": [
      "rmse:                                                                             \n",
      "15.529120589298705                                                                \n",
      " 85%|████████▌ | 85/100 [00:30<00:06,  2.44trial/s, best loss: 15.408605256382648]"
     ]
    },
    {
     "name": "stderr",
     "output_type": "stream",
     "text": [
      "/Users/manuel.ramos/miniforge3/envs/py310/lib/python3.10/site-packages/xgboost/data.py:250: FutureWarning: pandas.Int64Index is deprecated and will be removed from pandas in a future version. Use pandas.Index with the appropriate dtype instead.\n",
      "  elif isinstance(data.columns, (pd.Int64Index, pd.RangeIndex)):\n",
      "\n"
     ]
    },
    {
     "name": "stdout",
     "output_type": "stream",
     "text": [
      "rmse:                                                                             \n",
      "15.668258567187234                                                                \n",
      " 86%|████████▌ | 86/100 [00:31<00:05,  2.59trial/s, best loss: 15.408605256382648]"
     ]
    },
    {
     "name": "stderr",
     "output_type": "stream",
     "text": [
      "/Users/manuel.ramos/miniforge3/envs/py310/lib/python3.10/site-packages/xgboost/data.py:250: FutureWarning: pandas.Int64Index is deprecated and will be removed from pandas in a future version. Use pandas.Index with the appropriate dtype instead.\n",
      "  elif isinstance(data.columns, (pd.Int64Index, pd.RangeIndex)):\n",
      "\n"
     ]
    },
    {
     "name": "stdout",
     "output_type": "stream",
     "text": [
      "rmse:                                                                             \n",
      "15.602879026213959                                                                \n",
      " 87%|████████▋ | 87/100 [00:31<00:05,  2.55trial/s, best loss: 15.408605256382648]"
     ]
    },
    {
     "name": "stderr",
     "output_type": "stream",
     "text": [
      "/Users/manuel.ramos/miniforge3/envs/py310/lib/python3.10/site-packages/xgboost/data.py:250: FutureWarning: pandas.Int64Index is deprecated and will be removed from pandas in a future version. Use pandas.Index with the appropriate dtype instead.\n",
      "  elif isinstance(data.columns, (pd.Int64Index, pd.RangeIndex)):\n",
      "\n"
     ]
    },
    {
     "name": "stdout",
     "output_type": "stream",
     "text": [
      "rmse:                                                                             \n",
      "15.624882106876921                                                                \n",
      " 88%|████████▊ | 88/100 [00:31<00:04,  2.60trial/s, best loss: 15.408605256382648]"
     ]
    },
    {
     "name": "stderr",
     "output_type": "stream",
     "text": [
      "/Users/manuel.ramos/miniforge3/envs/py310/lib/python3.10/site-packages/xgboost/data.py:250: FutureWarning: pandas.Int64Index is deprecated and will be removed from pandas in a future version. Use pandas.Index with the appropriate dtype instead.\n",
      "  elif isinstance(data.columns, (pd.Int64Index, pd.RangeIndex)):\n",
      "\n"
     ]
    },
    {
     "name": "stdout",
     "output_type": "stream",
     "text": [
      "rmse:                                                                             \n",
      "15.998526279736769                                                                \n",
      " 89%|████████▉ | 89/100 [00:32<00:04,  2.45trial/s, best loss: 15.408605256382648]"
     ]
    },
    {
     "name": "stderr",
     "output_type": "stream",
     "text": [
      "/Users/manuel.ramos/miniforge3/envs/py310/lib/python3.10/site-packages/xgboost/data.py:250: FutureWarning: pandas.Int64Index is deprecated and will be removed from pandas in a future version. Use pandas.Index with the appropriate dtype instead.\n",
      "  elif isinstance(data.columns, (pd.Int64Index, pd.RangeIndex)):\n",
      "\n"
     ]
    },
    {
     "name": "stdout",
     "output_type": "stream",
     "text": [
      "rmse:                                                                             \n",
      "15.885034086501564                                                                \n",
      " 90%|█████████ | 90/100 [00:32<00:03,  2.62trial/s, best loss: 15.408605256382648]"
     ]
    },
    {
     "name": "stderr",
     "output_type": "stream",
     "text": [
      "/Users/manuel.ramos/miniforge3/envs/py310/lib/python3.10/site-packages/xgboost/data.py:250: FutureWarning: pandas.Int64Index is deprecated and will be removed from pandas in a future version. Use pandas.Index with the appropriate dtype instead.\n",
      "  elif isinstance(data.columns, (pd.Int64Index, pd.RangeIndex)):\n",
      "\n"
     ]
    },
    {
     "name": "stdout",
     "output_type": "stream",
     "text": [
      "rmse:                                                                             \n",
      "15.621802516242019                                                                \n",
      " 91%|█████████ | 91/100 [00:33<00:03,  2.65trial/s, best loss: 15.408605256382648]"
     ]
    },
    {
     "name": "stderr",
     "output_type": "stream",
     "text": [
      "/Users/manuel.ramos/miniforge3/envs/py310/lib/python3.10/site-packages/xgboost/data.py:250: FutureWarning: pandas.Int64Index is deprecated and will be removed from pandas in a future version. Use pandas.Index with the appropriate dtype instead.\n",
      "  elif isinstance(data.columns, (pd.Int64Index, pd.RangeIndex)):\n",
      "\n"
     ]
    },
    {
     "name": "stdout",
     "output_type": "stream",
     "text": [
      "rmse:                                                                             \n",
      "15.65135560174172                                                                 \n",
      " 92%|█████████▏| 92/100 [00:33<00:03,  2.54trial/s, best loss: 15.408605256382648]"
     ]
    },
    {
     "name": "stderr",
     "output_type": "stream",
     "text": [
      "/Users/manuel.ramos/miniforge3/envs/py310/lib/python3.10/site-packages/xgboost/data.py:250: FutureWarning: pandas.Int64Index is deprecated and will be removed from pandas in a future version. Use pandas.Index with the appropriate dtype instead.\n",
      "  elif isinstance(data.columns, (pd.Int64Index, pd.RangeIndex)):\n",
      "\n"
     ]
    },
    {
     "name": "stdout",
     "output_type": "stream",
     "text": [
      "rmse:                                                                             \n",
      "15.910653649794654                                                                \n",
      " 93%|█████████▎| 93/100 [00:33<00:02,  2.54trial/s, best loss: 15.408605256382648]"
     ]
    },
    {
     "name": "stderr",
     "output_type": "stream",
     "text": [
      "/Users/manuel.ramos/miniforge3/envs/py310/lib/python3.10/site-packages/xgboost/data.py:250: FutureWarning: pandas.Int64Index is deprecated and will be removed from pandas in a future version. Use pandas.Index with the appropriate dtype instead.\n",
      "  elif isinstance(data.columns, (pd.Int64Index, pd.RangeIndex)):\n",
      "\n"
     ]
    },
    {
     "name": "stdout",
     "output_type": "stream",
     "text": [
      "rmse:                                                                             \n",
      "15.948128974974178                                                                \n",
      " 94%|█████████▍| 94/100 [00:34<00:02,  2.46trial/s, best loss: 15.408605256382648]"
     ]
    },
    {
     "name": "stderr",
     "output_type": "stream",
     "text": [
      "/Users/manuel.ramos/miniforge3/envs/py310/lib/python3.10/site-packages/xgboost/data.py:250: FutureWarning: pandas.Int64Index is deprecated and will be removed from pandas in a future version. Use pandas.Index with the appropriate dtype instead.\n",
      "  elif isinstance(data.columns, (pd.Int64Index, pd.RangeIndex)):\n",
      "\n"
     ]
    },
    {
     "name": "stdout",
     "output_type": "stream",
     "text": [
      "rmse:                                                                             \n",
      "15.928163104438346                                                                \n",
      " 95%|█████████▌| 95/100 [00:34<00:02,  2.42trial/s, best loss: 15.408605256382648]"
     ]
    },
    {
     "name": "stderr",
     "output_type": "stream",
     "text": [
      "/Users/manuel.ramos/miniforge3/envs/py310/lib/python3.10/site-packages/xgboost/data.py:250: FutureWarning: pandas.Int64Index is deprecated and will be removed from pandas in a future version. Use pandas.Index with the appropriate dtype instead.\n",
      "  elif isinstance(data.columns, (pd.Int64Index, pd.RangeIndex)):\n",
      "\n"
     ]
    },
    {
     "name": "stdout",
     "output_type": "stream",
     "text": [
      "rmse:                                                                             \n",
      "15.783964891293609                                                                \n",
      " 96%|█████████▌| 96/100 [00:35<00:01,  2.66trial/s, best loss: 15.408605256382648]"
     ]
    },
    {
     "name": "stderr",
     "output_type": "stream",
     "text": [
      "/Users/manuel.ramos/miniforge3/envs/py310/lib/python3.10/site-packages/xgboost/data.py:250: FutureWarning: pandas.Int64Index is deprecated and will be removed from pandas in a future version. Use pandas.Index with the appropriate dtype instead.\n",
      "  elif isinstance(data.columns, (pd.Int64Index, pd.RangeIndex)):\n",
      "\n"
     ]
    },
    {
     "name": "stdout",
     "output_type": "stream",
     "text": [
      "rmse:                                                                             \n",
      "15.647199174138581                                                                \n",
      " 97%|█████████▋| 97/100 [00:35<00:01,  2.66trial/s, best loss: 15.408605256382648]"
     ]
    },
    {
     "name": "stderr",
     "output_type": "stream",
     "text": [
      "/Users/manuel.ramos/miniforge3/envs/py310/lib/python3.10/site-packages/xgboost/data.py:250: FutureWarning: pandas.Int64Index is deprecated and will be removed from pandas in a future version. Use pandas.Index with the appropriate dtype instead.\n",
      "  elif isinstance(data.columns, (pd.Int64Index, pd.RangeIndex)):\n",
      "\n"
     ]
    },
    {
     "name": "stdout",
     "output_type": "stream",
     "text": [
      "rmse:                                                                             \n",
      "15.957798513639176                                                                \n",
      " 98%|█████████▊| 98/100 [00:35<00:00,  2.50trial/s, best loss: 15.408605256382648]"
     ]
    },
    {
     "name": "stderr",
     "output_type": "stream",
     "text": [
      "/Users/manuel.ramos/miniforge3/envs/py310/lib/python3.10/site-packages/xgboost/data.py:250: FutureWarning: pandas.Int64Index is deprecated and will be removed from pandas in a future version. Use pandas.Index with the appropriate dtype instead.\n",
      "  elif isinstance(data.columns, (pd.Int64Index, pd.RangeIndex)):\n",
      "\n"
     ]
    },
    {
     "name": "stdout",
     "output_type": "stream",
     "text": [
      "rmse:                                                                             \n",
      "15.827320090161539                                                                \n",
      " 99%|█████████▉| 99/100 [00:36<00:00,  2.48trial/s, best loss: 15.408605256382648]"
     ]
    },
    {
     "name": "stderr",
     "output_type": "stream",
     "text": [
      "/Users/manuel.ramos/miniforge3/envs/py310/lib/python3.10/site-packages/xgboost/data.py:250: FutureWarning: pandas.Int64Index is deprecated and will be removed from pandas in a future version. Use pandas.Index with the appropriate dtype instead.\n",
      "  elif isinstance(data.columns, (pd.Int64Index, pd.RangeIndex)):\n",
      "\n"
     ]
    },
    {
     "name": "stdout",
     "output_type": "stream",
     "text": [
      "rmse:                                                                             \n",
      "15.429230891214036                                                                \n",
      "100%|██████████| 100/100 [00:36<00:00,  2.73trial/s, best loss: 15.408605256382648]\n"
     ]
    }
   ],
   "source": [
    "trials = Trials()\n",
    "\n",
    "best_hyperparams = fmin(fn = objective,\n",
    "                        space = space,\n",
    "                        algo = tpe.suggest,\n",
    "                        max_evals = 100,\n",
    "                        trials = trials)"
   ]
  },
  {
   "cell_type": "code",
   "execution_count": 109,
   "metadata": {},
   "outputs": [
    {
     "name": "stdout",
     "output_type": "stream",
     "text": [
      "The best hyperparameters are :  \n",
      "\n",
      "{'colsample_bytree': 0.6401470231767599, 'gamma': 7.959467302975132, 'max_depth': 12, 'min_child_weight': 9.0, 'n_estimators': 450, 'reg_alpha': 50.0, 'reg_lambda': 0.5227907956383473}\n"
     ]
    }
   ],
   "source": [
    "print(\"The best hyperparameters are : \",\"\\n\")\n",
    "best_hyperparams['n_estimators'] = int(best_hyperparams['n_estimators'])\n",
    "best_hyperparams['max_depth'] = int(best_hyperparams['max_depth'])\n",
    "print(best_hyperparams)\n"
   ]
  },
  {
   "cell_type": "code",
   "execution_count": 110,
   "metadata": {},
   "outputs": [
    {
     "name": "stdout",
     "output_type": "stream",
     "text": [
      "[0]\tvalidation_0-rmse:52.01484\tvalidation_1-rmse:109.10146\n",
      "[1]\tvalidation_0-rmse:37.07753\tvalidation_1-rmse:74.70134\n",
      "[2]\tvalidation_0-rmse:34.68745\tvalidation_1-rmse:70.46449\n",
      "[3]\tvalidation_0-rmse:25.42911\tvalidation_1-rmse:48.51387\n",
      "[4]\tvalidation_0-rmse:19.30131\tvalidation_1-rmse:32.40307\n",
      "[5]\tvalidation_0-rmse:18.86318\tvalidation_1-rmse:31.30388\n",
      "[6]\tvalidation_0-rmse:17.92903\tvalidation_1-rmse:29.69256\n",
      "[7]\tvalidation_0-rmse:17.45047\tvalidation_1-rmse:28.63880\n",
      "[8]\tvalidation_0-rmse:17.21063\tvalidation_1-rmse:27.93807\n",
      "[9]\tvalidation_0-rmse:14.07994\tvalidation_1-rmse:20.37596\n",
      "[10]\tvalidation_0-rmse:14.03256\tvalidation_1-rmse:20.14033\n",
      "[11]\tvalidation_0-rmse:13.99213\tvalidation_1-rmse:20.06535\n",
      "[12]\tvalidation_0-rmse:13.97224\tvalidation_1-rmse:19.93894\n",
      "[13]\tvalidation_0-rmse:13.96230\tvalidation_1-rmse:19.85168\n",
      "[14]\tvalidation_0-rmse:12.17256\tvalidation_1-rmse:16.41659\n",
      "[15]\tvalidation_0-rmse:12.10465\tvalidation_1-rmse:16.36371\n",
      "[16]\tvalidation_0-rmse:12.10100\tvalidation_1-rmse:16.35974\n",
      "[17]\tvalidation_0-rmse:12.09928\tvalidation_1-rmse:16.35671\n",
      "[18]\tvalidation_0-rmse:12.09838\tvalidation_1-rmse:16.35475\n"
     ]
    },
    {
     "name": "stderr",
     "output_type": "stream",
     "text": [
      "/Users/manuel.ramos/miniforge3/envs/py310/lib/python3.10/site-packages/xgboost/data.py:250: FutureWarning: pandas.Int64Index is deprecated and will be removed from pandas in a future version. Use pandas.Index with the appropriate dtype instead.\n",
      "  elif isinstance(data.columns, (pd.Int64Index, pd.RangeIndex)):\n"
     ]
    },
    {
     "name": "stdout",
     "output_type": "stream",
     "text": [
      "[19]\tvalidation_0-rmse:12.06479\tvalidation_1-rmse:16.33811\n",
      "[20]\tvalidation_0-rmse:12.04795\tvalidation_1-rmse:16.33135\n",
      "[21]\tvalidation_0-rmse:12.04753\tvalidation_1-rmse:16.33326\n",
      "[22]\tvalidation_0-rmse:10.90249\tvalidation_1-rmse:15.40861\n",
      "[23]\tvalidation_0-rmse:10.27850\tvalidation_1-rmse:16.00976\n",
      "[24]\tvalidation_0-rmse:10.24435\tvalidation_1-rmse:15.96146\n",
      "[25]\tvalidation_0-rmse:9.89984\tvalidation_1-rmse:16.98433\n",
      "[26]\tvalidation_0-rmse:9.69539\tvalidation_1-rmse:17.93037\n",
      "[27]\tvalidation_0-rmse:9.53726\tvalidation_1-rmse:17.67362\n",
      "[28]\tvalidation_0-rmse:9.45856\tvalidation_1-rmse:17.51150\n",
      "[29]\tvalidation_0-rmse:9.41925\tvalidation_1-rmse:17.40506\n",
      "[30]\tvalidation_0-rmse:9.24917\tvalidation_1-rmse:18.30827\n",
      "[31]\tvalidation_0-rmse:9.13027\tvalidation_1-rmse:19.25296\n",
      "[32]\tvalidation_0-rmse:9.08297\tvalidation_1-rmse:19.12684\n",
      "training: rmse=10.902493891698445, mae=7.764347081039885, r2=0.9486552500042346\n",
      "test: rmse=15.408605256382648, mae=11.49847744530691, r2=0.9624381679536852\n"
     ]
    },
    {
     "data": {
      "image/png": "[encoded data removed]",
      "text/plain": [
       "<Figure size 640x480 with 1 Axes>"
      ]
     },
     "metadata": {},
     "output_type": "display_data"
    }
   ],
   "source": [
    "model.set_params(best_hyperparams)\n",
    "model.fit()\n",
    "model.feature_importance()"
   ]
  },
  {
   "cell_type": "code",
   "execution_count": 111,
   "metadata": {},
   "outputs": [],
   "source": [
    "predicted_2019 = model.predict(2019)"
   ]
  },
  {
   "cell_type": "code",
   "execution_count": 112,
   "metadata": {},
   "outputs": [],
   "source": [
    "data.addYearDemandfromForecast(2019, predicted_2019)"
   ]
  },
  {
   "cell_type": "code",
   "execution_count": 113,
   "metadata": {},
   "outputs": [
    {
     "data": {
      "text/html": [
       "<div>\n",
       "<style scoped>\n",
       "    .dataframe tbody tr th:only-of-type {\n",
       "        vertical-align: middle;\n",
       "    }\n",
       "\n",
       "    .dataframe tbody tr th {\n",
       "        vertical-align: top;\n",
       "    }\n",
       "\n",
       "    .dataframe thead th {\n",
       "        text-align: right;\n",
       "    }\n",
       "</style>\n",
       "<table border=\"1\" class=\"dataframe\">\n",
       "  <thead>\n",
       "    <tr style=\"text-align: right;\">\n",
       "      <th></th>\n",
       "      <th>demand_point_index</th>\n",
       "      <th>x_coordinate</th>\n",
       "      <th>y_coordinate</th>\n",
       "      <th>2010</th>\n",
       "      <th>2011</th>\n",
       "      <th>2012</th>\n",
       "      <th>2013</th>\n",
       "      <th>2014</th>\n",
       "      <th>2015</th>\n",
       "      <th>2016</th>\n",
       "      <th>2017</th>\n",
       "      <th>2018</th>\n",
       "      <th>2019</th>\n",
       "    </tr>\n",
       "  </thead>\n",
       "  <tbody>\n",
       "    <tr>\n",
       "      <th>0</th>\n",
       "      <td>0</td>\n",
       "      <td>0.5</td>\n",
       "      <td>0.5</td>\n",
       "      <td>0.352242</td>\n",
       "      <td>0.667932</td>\n",
       "      <td>0.958593</td>\n",
       "      <td>2.911901</td>\n",
       "      <td>4.338274</td>\n",
       "      <td>6.561995</td>\n",
       "      <td>8.454417</td>\n",
       "      <td>10.595324</td>\n",
       "      <td>13.119572</td>\n",
       "      <td>7.794302</td>\n",
       "    </tr>\n",
       "    <tr>\n",
       "      <th>1</th>\n",
       "      <td>1</td>\n",
       "      <td>1.5</td>\n",
       "      <td>0.5</td>\n",
       "      <td>0.325940</td>\n",
       "      <td>0.591964</td>\n",
       "      <td>0.862652</td>\n",
       "      <td>2.589068</td>\n",
       "      <td>4.196034</td>\n",
       "      <td>5.745551</td>\n",
       "      <td>8.753195</td>\n",
       "      <td>11.126995</td>\n",
       "      <td>12.020091</td>\n",
       "      <td>6.017729</td>\n",
       "    </tr>\n",
       "    <tr>\n",
       "      <th>2</th>\n",
       "      <td>2</td>\n",
       "      <td>2.5</td>\n",
       "      <td>0.5</td>\n",
       "      <td>0.373752</td>\n",
       "      <td>0.591890</td>\n",
       "      <td>0.969733</td>\n",
       "      <td>2.641432</td>\n",
       "      <td>3.541772</td>\n",
       "      <td>5.469161</td>\n",
       "      <td>8.414627</td>\n",
       "      <td>10.115336</td>\n",
       "      <td>14.018254</td>\n",
       "      <td>11.484052</td>\n",
       "    </tr>\n",
       "    <tr>\n",
       "      <th>3</th>\n",
       "      <td>3</td>\n",
       "      <td>3.5</td>\n",
       "      <td>0.5</td>\n",
       "      <td>0.420686</td>\n",
       "      <td>0.584055</td>\n",
       "      <td>0.906547</td>\n",
       "      <td>2.378577</td>\n",
       "      <td>3.888121</td>\n",
       "      <td>5.846089</td>\n",
       "      <td>9.083868</td>\n",
       "      <td>12.424885</td>\n",
       "      <td>15.012302</td>\n",
       "      <td>12.517267</td>\n",
       "    </tr>\n",
       "    <tr>\n",
       "      <th>4</th>\n",
       "      <td>4</td>\n",
       "      <td>4.5</td>\n",
       "      <td>0.5</td>\n",
       "      <td>0.475621</td>\n",
       "      <td>0.647940</td>\n",
       "      <td>0.981544</td>\n",
       "      <td>2.665400</td>\n",
       "      <td>4.218711</td>\n",
       "      <td>6.776609</td>\n",
       "      <td>8.851107</td>\n",
       "      <td>11.731131</td>\n",
       "      <td>16.355563</td>\n",
       "      <td>13.441733</td>\n",
       "    </tr>\n",
       "    <tr>\n",
       "      <th>...</th>\n",
       "      <td>...</td>\n",
       "      <td>...</td>\n",
       "      <td>...</td>\n",
       "      <td>...</td>\n",
       "      <td>...</td>\n",
       "      <td>...</td>\n",
       "      <td>...</td>\n",
       "      <td>...</td>\n",
       "      <td>...</td>\n",
       "      <td>...</td>\n",
       "      <td>...</td>\n",
       "      <td>...</td>\n",
       "      <td>...</td>\n",
       "    </tr>\n",
       "    <tr>\n",
       "      <th>4091</th>\n",
       "      <td>4091</td>\n",
       "      <td>59.5</td>\n",
       "      <td>63.5</td>\n",
       "      <td>0.171015</td>\n",
       "      <td>0.334565</td>\n",
       "      <td>0.556055</td>\n",
       "      <td>1.373291</td>\n",
       "      <td>1.837586</td>\n",
       "      <td>2.517146</td>\n",
       "      <td>3.352280</td>\n",
       "      <td>4.149888</td>\n",
       "      <td>5.426193</td>\n",
       "      <td>-1.641063</td>\n",
       "    </tr>\n",
       "    <tr>\n",
       "      <th>4092</th>\n",
       "      <td>4092</td>\n",
       "      <td>60.5</td>\n",
       "      <td>63.5</td>\n",
       "      <td>0.041716</td>\n",
       "      <td>0.061741</td>\n",
       "      <td>0.131291</td>\n",
       "      <td>0.386540</td>\n",
       "      <td>0.755846</td>\n",
       "      <td>0.941116</td>\n",
       "      <td>1.107797</td>\n",
       "      <td>1.309479</td>\n",
       "      <td>2.057450</td>\n",
       "      <td>-7.499731</td>\n",
       "    </tr>\n",
       "    <tr>\n",
       "      <th>4093</th>\n",
       "      <td>4093</td>\n",
       "      <td>61.5</td>\n",
       "      <td>63.5</td>\n",
       "      <td>0.100895</td>\n",
       "      <td>0.180352</td>\n",
       "      <td>0.296299</td>\n",
       "      <td>0.705373</td>\n",
       "      <td>1.300220</td>\n",
       "      <td>1.608609</td>\n",
       "      <td>1.822806</td>\n",
       "      <td>2.333681</td>\n",
       "      <td>3.218519</td>\n",
       "      <td>-10.658572</td>\n",
       "    </tr>\n",
       "    <tr>\n",
       "      <th>4094</th>\n",
       "      <td>4094</td>\n",
       "      <td>62.5</td>\n",
       "      <td>63.5</td>\n",
       "      <td>0.155353</td>\n",
       "      <td>0.290825</td>\n",
       "      <td>0.557803</td>\n",
       "      <td>1.516066</td>\n",
       "      <td>2.399426</td>\n",
       "      <td>2.719197</td>\n",
       "      <td>4.494515</td>\n",
       "      <td>6.096858</td>\n",
       "      <td>6.262574</td>\n",
       "      <td>-5.253195</td>\n",
       "    </tr>\n",
       "    <tr>\n",
       "      <th>4095</th>\n",
       "      <td>4095</td>\n",
       "      <td>63.5</td>\n",
       "      <td>63.5</td>\n",
       "      <td>0.209372</td>\n",
       "      <td>0.340185</td>\n",
       "      <td>0.749491</td>\n",
       "      <td>1.904285</td>\n",
       "      <td>2.775772</td>\n",
       "      <td>3.404641</td>\n",
       "      <td>4.574922</td>\n",
       "      <td>6.301078</td>\n",
       "      <td>6.860939</td>\n",
       "      <td>-5.253195</td>\n",
       "    </tr>\n",
       "  </tbody>\n",
       "</table>\n",
       "<p>4096 rows × 13 columns</p>\n",
       "</div>"
      ],
      "text/plain": [
       "      demand_point_index  x_coordinate  y_coordinate      2010      2011  \\\n",
       "0                      0           0.5           0.5  0.352242  0.667932   \n",
       "1                      1           1.5           0.5  0.325940  0.591964   \n",
       "2                      2           2.5           0.5  0.373752  0.591890   \n",
       "3                      3           3.5           0.5  0.420686  0.584055   \n",
       "4                      4           4.5           0.5  0.475621  0.647940   \n",
       "...                  ...           ...           ...       ...       ...   \n",
       "4091                4091          59.5          63.5  0.171015  0.334565   \n",
       "4092                4092          60.5          63.5  0.041716  0.061741   \n",
       "4093                4093          61.5          63.5  0.100895  0.180352   \n",
       "4094                4094          62.5          63.5  0.155353  0.290825   \n",
       "4095                4095          63.5          63.5  0.209372  0.340185   \n",
       "\n",
       "          2012      2013      2014      2015      2016       2017       2018  \\\n",
       "0     0.958593  2.911901  4.338274  6.561995  8.454417  10.595324  13.119572   \n",
       "1     0.862652  2.589068  4.196034  5.745551  8.753195  11.126995  12.020091   \n",
       "2     0.969733  2.641432  3.541772  5.469161  8.414627  10.115336  14.018254   \n",
       "3     0.906547  2.378577  3.888121  5.846089  9.083868  12.424885  15.012302   \n",
       "4     0.981544  2.665400  4.218711  6.776609  8.851107  11.731131  16.355563   \n",
       "...        ...       ...       ...       ...       ...        ...        ...   \n",
       "4091  0.556055  1.373291  1.837586  2.517146  3.352280   4.149888   5.426193   \n",
       "4092  0.131291  0.386540  0.755846  0.941116  1.107797   1.309479   2.057450   \n",
       "4093  0.296299  0.705373  1.300220  1.608609  1.822806   2.333681   3.218519   \n",
       "4094  0.557803  1.516066  2.399426  2.719197  4.494515   6.096858   6.262574   \n",
       "4095  0.749491  1.904285  2.775772  3.404641  4.574922   6.301078   6.860939   \n",
       "\n",
       "           2019  \n",
       "0      7.794302  \n",
       "1      6.017729  \n",
       "2     11.484052  \n",
       "3     12.517267  \n",
       "4     13.441733  \n",
       "...         ...  \n",
       "4091  -1.641063  \n",
       "4092  -7.499731  \n",
       "4093 -10.658572  \n",
       "4094  -5.253195  \n",
       "4095  -5.253195  \n",
       "\n",
       "[4096 rows x 13 columns]"
      ]
     },
     "execution_count": 113,
     "metadata": {},
     "output_type": "execute_result"
    }
   ],
   "source": [
    "data.df_trans"
   ]
  },
  {
   "cell_type": "code",
   "execution_count": 90,
   "metadata": {},
   "outputs": [],
   "source": [
    "predicted_2020 = model.predict(2020)"
   ]
  },
  {
   "cell_type": "code",
   "execution_count": 91,
   "metadata": {},
   "outputs": [],
   "source": [
    "data.addYearDemandfromForecast(2020, predicted_2020)"
   ]
  },
  {
   "cell_type": "code",
   "execution_count": 92,
   "metadata": {},
   "outputs": [
    {
     "data": {
      "text/html": [
       "<div>\n",
       "<style scoped>\n",
       "    .dataframe tbody tr th:only-of-type {\n",
       "        vertical-align: middle;\n",
       "    }\n",
       "\n",
       "    .dataframe tbody tr th {\n",
       "        vertical-align: top;\n",
       "    }\n",
       "\n",
       "    .dataframe thead th {\n",
       "        text-align: right;\n",
       "    }\n",
       "</style>\n",
       "<table border=\"1\" class=\"dataframe\">\n",
       "  <thead>\n",
       "    <tr style=\"text-align: right;\">\n",
       "      <th></th>\n",
       "      <th>demand_point_index</th>\n",
       "      <th>x_coordinate</th>\n",
       "      <th>y_coordinate</th>\n",
       "      <th>2010</th>\n",
       "      <th>2011</th>\n",
       "      <th>2012</th>\n",
       "      <th>2013</th>\n",
       "      <th>2014</th>\n",
       "      <th>2015</th>\n",
       "      <th>2016</th>\n",
       "      <th>2017</th>\n",
       "      <th>2018</th>\n",
       "      <th>2019</th>\n",
       "      <th>2020</th>\n",
       "    </tr>\n",
       "  </thead>\n",
       "  <tbody>\n",
       "    <tr>\n",
       "      <th>0</th>\n",
       "      <td>0</td>\n",
       "      <td>0.5</td>\n",
       "      <td>0.5</td>\n",
       "      <td>0.352242</td>\n",
       "      <td>0.667932</td>\n",
       "      <td>0.958593</td>\n",
       "      <td>2.911901</td>\n",
       "      <td>4.338274</td>\n",
       "      <td>6.561995</td>\n",
       "      <td>8.454417</td>\n",
       "      <td>10.595324</td>\n",
       "      <td>13.119572</td>\n",
       "      <td>14.228975</td>\n",
       "      <td>16.717131</td>\n",
       "    </tr>\n",
       "    <tr>\n",
       "      <th>1</th>\n",
       "      <td>1</td>\n",
       "      <td>1.5</td>\n",
       "      <td>0.5</td>\n",
       "      <td>0.325940</td>\n",
       "      <td>0.591964</td>\n",
       "      <td>0.862652</td>\n",
       "      <td>2.589068</td>\n",
       "      <td>4.196034</td>\n",
       "      <td>5.745551</td>\n",
       "      <td>8.753195</td>\n",
       "      <td>11.126995</td>\n",
       "      <td>12.020091</td>\n",
       "      <td>13.298387</td>\n",
       "      <td>16.717131</td>\n",
       "    </tr>\n",
       "    <tr>\n",
       "      <th>2</th>\n",
       "      <td>2</td>\n",
       "      <td>2.5</td>\n",
       "      <td>0.5</td>\n",
       "      <td>0.373752</td>\n",
       "      <td>0.591890</td>\n",
       "      <td>0.969733</td>\n",
       "      <td>2.641432</td>\n",
       "      <td>3.541772</td>\n",
       "      <td>5.469161</td>\n",
       "      <td>8.414627</td>\n",
       "      <td>10.115336</td>\n",
       "      <td>14.018254</td>\n",
       "      <td>13.298387</td>\n",
       "      <td>16.717131</td>\n",
       "    </tr>\n",
       "    <tr>\n",
       "      <th>3</th>\n",
       "      <td>3</td>\n",
       "      <td>3.5</td>\n",
       "      <td>0.5</td>\n",
       "      <td>0.420686</td>\n",
       "      <td>0.584055</td>\n",
       "      <td>0.906547</td>\n",
       "      <td>2.378577</td>\n",
       "      <td>3.888121</td>\n",
       "      <td>5.846089</td>\n",
       "      <td>9.083868</td>\n",
       "      <td>12.424885</td>\n",
       "      <td>15.012302</td>\n",
       "      <td>13.298387</td>\n",
       "      <td>17.520485</td>\n",
       "    </tr>\n",
       "    <tr>\n",
       "      <th>4</th>\n",
       "      <td>4</td>\n",
       "      <td>4.5</td>\n",
       "      <td>0.5</td>\n",
       "      <td>0.475621</td>\n",
       "      <td>0.647940</td>\n",
       "      <td>0.981544</td>\n",
       "      <td>2.665400</td>\n",
       "      <td>4.218711</td>\n",
       "      <td>6.776609</td>\n",
       "      <td>8.851107</td>\n",
       "      <td>11.731131</td>\n",
       "      <td>16.355563</td>\n",
       "      <td>13.716234</td>\n",
       "      <td>16.717131</td>\n",
       "    </tr>\n",
       "    <tr>\n",
       "      <th>...</th>\n",
       "      <td>...</td>\n",
       "      <td>...</td>\n",
       "      <td>...</td>\n",
       "      <td>...</td>\n",
       "      <td>...</td>\n",
       "      <td>...</td>\n",
       "      <td>...</td>\n",
       "      <td>...</td>\n",
       "      <td>...</td>\n",
       "      <td>...</td>\n",
       "      <td>...</td>\n",
       "      <td>...</td>\n",
       "      <td>...</td>\n",
       "      <td>...</td>\n",
       "    </tr>\n",
       "    <tr>\n",
       "      <th>4091</th>\n",
       "      <td>4091</td>\n",
       "      <td>59.5</td>\n",
       "      <td>63.5</td>\n",
       "      <td>0.171015</td>\n",
       "      <td>0.334565</td>\n",
       "      <td>0.556055</td>\n",
       "      <td>1.373291</td>\n",
       "      <td>1.837586</td>\n",
       "      <td>2.517146</td>\n",
       "      <td>3.352280</td>\n",
       "      <td>4.149888</td>\n",
       "      <td>5.426193</td>\n",
       "      <td>22.965816</td>\n",
       "      <td>29.820332</td>\n",
       "    </tr>\n",
       "    <tr>\n",
       "      <th>4092</th>\n",
       "      <td>4092</td>\n",
       "      <td>60.5</td>\n",
       "      <td>63.5</td>\n",
       "      <td>0.041716</td>\n",
       "      <td>0.061741</td>\n",
       "      <td>0.131291</td>\n",
       "      <td>0.386540</td>\n",
       "      <td>0.755846</td>\n",
       "      <td>0.941116</td>\n",
       "      <td>1.107797</td>\n",
       "      <td>1.309479</td>\n",
       "      <td>2.057450</td>\n",
       "      <td>3.268945</td>\n",
       "      <td>11.236215</td>\n",
       "    </tr>\n",
       "    <tr>\n",
       "      <th>4093</th>\n",
       "      <td>4093</td>\n",
       "      <td>61.5</td>\n",
       "      <td>63.5</td>\n",
       "      <td>0.100895</td>\n",
       "      <td>0.180352</td>\n",
       "      <td>0.296299</td>\n",
       "      <td>0.705373</td>\n",
       "      <td>1.300220</td>\n",
       "      <td>1.608609</td>\n",
       "      <td>1.822806</td>\n",
       "      <td>2.333681</td>\n",
       "      <td>3.218519</td>\n",
       "      <td>11.744149</td>\n",
       "      <td>29.681217</td>\n",
       "    </tr>\n",
       "    <tr>\n",
       "      <th>4094</th>\n",
       "      <td>4094</td>\n",
       "      <td>62.5</td>\n",
       "      <td>63.5</td>\n",
       "      <td>0.155353</td>\n",
       "      <td>0.290825</td>\n",
       "      <td>0.557803</td>\n",
       "      <td>1.516066</td>\n",
       "      <td>2.399426</td>\n",
       "      <td>2.719197</td>\n",
       "      <td>4.494515</td>\n",
       "      <td>6.096858</td>\n",
       "      <td>6.262574</td>\n",
       "      <td>22.965816</td>\n",
       "      <td>30.563858</td>\n",
       "    </tr>\n",
       "    <tr>\n",
       "      <th>4095</th>\n",
       "      <td>4095</td>\n",
       "      <td>63.5</td>\n",
       "      <td>63.5</td>\n",
       "      <td>0.209372</td>\n",
       "      <td>0.340185</td>\n",
       "      <td>0.749491</td>\n",
       "      <td>1.904285</td>\n",
       "      <td>2.775772</td>\n",
       "      <td>3.404641</td>\n",
       "      <td>4.574922</td>\n",
       "      <td>6.301078</td>\n",
       "      <td>6.860939</td>\n",
       "      <td>22.776129</td>\n",
       "      <td>30.563858</td>\n",
       "    </tr>\n",
       "  </tbody>\n",
       "</table>\n",
       "<p>4096 rows × 14 columns</p>\n",
       "</div>"
      ],
      "text/plain": [
       "      demand_point_index  x_coordinate  y_coordinate      2010      2011  \\\n",
       "0                      0           0.5           0.5  0.352242  0.667932   \n",
       "1                      1           1.5           0.5  0.325940  0.591964   \n",
       "2                      2           2.5           0.5  0.373752  0.591890   \n",
       "3                      3           3.5           0.5  0.420686  0.584055   \n",
       "4                      4           4.5           0.5  0.475621  0.647940   \n",
       "...                  ...           ...           ...       ...       ...   \n",
       "4091                4091          59.5          63.5  0.171015  0.334565   \n",
       "4092                4092          60.5          63.5  0.041716  0.061741   \n",
       "4093                4093          61.5          63.5  0.100895  0.180352   \n",
       "4094                4094          62.5          63.5  0.155353  0.290825   \n",
       "4095                4095          63.5          63.5  0.209372  0.340185   \n",
       "\n",
       "          2012      2013      2014      2015      2016       2017       2018  \\\n",
       "0     0.958593  2.911901  4.338274  6.561995  8.454417  10.595324  13.119572   \n",
       "1     0.862652  2.589068  4.196034  5.745551  8.753195  11.126995  12.020091   \n",
       "2     0.969733  2.641432  3.541772  5.469161  8.414627  10.115336  14.018254   \n",
       "3     0.906547  2.378577  3.888121  5.846089  9.083868  12.424885  15.012302   \n",
       "4     0.981544  2.665400  4.218711  6.776609  8.851107  11.731131  16.355563   \n",
       "...        ...       ...       ...       ...       ...        ...        ...   \n",
       "4091  0.556055  1.373291  1.837586  2.517146  3.352280   4.149888   5.426193   \n",
       "4092  0.131291  0.386540  0.755846  0.941116  1.107797   1.309479   2.057450   \n",
       "4093  0.296299  0.705373  1.300220  1.608609  1.822806   2.333681   3.218519   \n",
       "4094  0.557803  1.516066  2.399426  2.719197  4.494515   6.096858   6.262574   \n",
       "4095  0.749491  1.904285  2.775772  3.404641  4.574922   6.301078   6.860939   \n",
       "\n",
       "           2019       2020  \n",
       "0     14.228975  16.717131  \n",
       "1     13.298387  16.717131  \n",
       "2     13.298387  16.717131  \n",
       "3     13.298387  17.520485  \n",
       "4     13.716234  16.717131  \n",
       "...         ...        ...  \n",
       "4091  22.965816  29.820332  \n",
       "4092   3.268945  11.236215  \n",
       "4093  11.744149  29.681217  \n",
       "4094  22.965816  30.563858  \n",
       "4095  22.776129  30.563858  \n",
       "\n",
       "[4096 rows x 14 columns]"
      ]
     },
     "execution_count": 92,
     "metadata": {},
     "output_type": "execute_result"
    }
   ],
   "source": [
    "data.df_trans"
   ]
  },
  {
   "cell_type": "code",
   "execution_count": 93,
   "metadata": {},
   "outputs": [],
   "source": [
    "data.df_trans.to_csv(\"data/forecast.csv\")"
   ]
  },
  {
   "cell_type": "code",
   "execution_count": null,
   "metadata": {},
   "outputs": [],
   "source": []
  }
 ],
 "metadata": {
  "kernelspec": {
   "display_name": "Python 3.10.5 ('py310')",
   "language": "python",
   "name": "python3"
  },
  "language_info": {
   "codemirror_mode": {
    "name": "ipython",
    "version": 3
   },
   "file_extension": ".py",
   "mimetype": "text/x-python",
   "name": "python",
   "nbconvert_exporter": "python",
   "pygments_lexer": "ipython3",
   "version": "3.10.5"
  },
  "orig_nbformat": 4,
  "vscode": {
   "interpreter": {
    "hash": "2188dc54a6508a42c9fce3e6e9b2c9c9a4da77d925b31cfa7fabba8d7b1361e2"
   }
  }
 },
 "nbformat": 4,
 "nbformat_minor": 2
}
